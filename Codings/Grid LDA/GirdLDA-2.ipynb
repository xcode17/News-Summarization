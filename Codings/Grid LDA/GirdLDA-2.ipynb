{
 "cells": [
  {
   "cell_type": "code",
   "execution_count": 4,
   "id": "6c1d8f55-17a9-43d0-be8f-9b01d724c18e",
   "metadata": {},
   "outputs": [
    {
     "name": "stdout",
     "output_type": "stream",
     "text": [
      "      Unnamed: 0                                            Reviews  \\\n",
      "0              0  Okay, so I'm not a big video game buff, but wa...   \n",
      "1              1  The premise of this movie has been tickling my...   \n",
      "2              2  Jim Carrey is back to much the same role that ...   \n",
      "3              3  I read several mixed reviews and several of th...   \n",
      "4              4  Warning: Does contain spoilers.<br /><br />Ope...   \n",
      "...          ...                                                ...   \n",
      "2495        2495  I thought the whole movie played out beautiful...   \n",
      "2496        2496  \"Seed\" is torture porn...no doubt about it. Bu...   \n",
      "2497        2497  The title alone (along with the poster) is eno...   \n",
      "2498        2498  This is one of the best animated family films ...   \n",
      "2499        2499  I loved KOLCHAK: THE NIGHT STALKER since I saw...   \n",
      "\n",
      "                                              processed  \\\n",
      "0     ['big', 'video', 'game', 'buff', 'game', 'hous...   \n",
      "1     ['premise', 'movie', 'tickling', 'imagination'...   \n",
      "2     ['back', 'much', 'role', 'mask', 'timid', 'guy...   \n",
      "3     ['read', 'several', 'mixed', 'review', 'severa...   \n",
      "4     ['warning', 'contain', 'seen', 'film', 'plan',...   \n",
      "...                                                 ...   \n",
      "2495  ['thought', 'whole', 'movie', 'beautifully', '...   \n",
      "2496  ['seed', 'torture', 'doubt', 'strangely', 'bol...   \n",
      "2497  ['title', 'alone', 'along', 'poster', 'enough'...   \n",
      "2498  ['one', 'best', 'animated', 'family', 'film', ...   \n",
      "2499  ['night', 'stalker', 'since', 'saw', 'night', ...   \n",
      "\n",
      "                                                   text  \\\n",
      "0     big video game buff game house dead really fam...   \n",
      "1     premise movie tickling imagination quite time ...   \n",
      "2     back much role mask timid guy trying get ahead...   \n",
      "3     read several mixed review several downright mo...   \n",
      "4     warning contain seen film plan stop reading ta...   \n",
      "...                                                 ...   \n",
      "2495  thought whole movie beautifully fresh image in...   \n",
      "2496  seed torture doubt strangely boll written prod...   \n",
      "2497  title alone along poster enough give away man ...   \n",
      "2498  one best animated family film time moreover vi...   \n",
      "2499  night stalker since saw night monster scary ti...   \n",
      "\n",
      "                                            topic_words  \\\n",
      "0     [['one', 'turn', 'shot', 'island', 'game', 'ge...   \n",
      "1     [['nothing', 'make', 'like', 'really', 'time',...   \n",
      "2     [['man', 'movie', 'news', 'like', 'god', 'well...   \n",
      "3     [['film', 'told', 'real', 'people', 'lot', 'tr...   \n",
      "4     [['one', 'year', 'real', 'best', 'mind', 'time...   \n",
      "...                                                 ...   \n",
      "2495  [['movie', 'whole', 'fresh', 'put', 'modern', ...   \n",
      "2496  [['seed', 'victim', 'would', 'even', 'cop', 'w...   \n",
      "2497  [['horror', 'man', 'around', 'screenplay', 'gi...   \n",
      "2498  [['animation', 'well', 'much', 'none', 'know',...   \n",
      "2499  [['show', 'see', 'night', 'scary', 'often', 'e...   \n",
      "\n",
      "                           sentence_topic_distributions  coherence_score  \n",
      "0     [{0: 0.1494967, 1: 0.14718972, 2: 0.14592433, ...         0.849207  \n",
      "1     [{0: 0.17501318, 1: 0.1585544, 2: 0.15231034, ...         0.851542  \n",
      "2     [{0: 0.18089709, 1: 0.16249, 2: 0.14660662, 3:...         0.848713  \n",
      "3     [{0: 0.18331379, 1: 0.20305447, 2: 0.15288344,...         0.848849  \n",
      "4     [{0: 0.17994602, 1: 0.37337694, 2: 0.1501153, ...         0.847581  \n",
      "...                                                 ...              ...  \n",
      "2495  [{0: 0.1622739, 1: 0.15029982, 2: 0.19012155, ...         0.857574  \n",
      "2496  [{0: 0.16297595, 1: 0.21822682, 2: 0.30899626,...         0.850690  \n",
      "2497  [{0: 0.16685146, 1: 0.15678753, 2: 0.15272069,...         0.846729  \n",
      "2498  [{0: 0.16706795, 1: 0.14799531, 2: 0.38143462,...         0.852762  \n",
      "2499  [{0: 0.18997782, 1: 0.14570206, 2: 0.25594553,...         0.854367  \n",
      "\n",
      "[2500 rows x 7 columns]\n",
      "(2500, 7)\n"
     ]
    }
   ],
   "source": [
    "import pandas as pd\n",
    "data=pd.read_csv('Gird-LDA.csv')\n",
    "print(data)\n",
    "print(data.shape)"
   ]
  },
  {
   "cell_type": "code",
   "execution_count": 5,
   "id": "a4214fe1-4e92-496b-b30b-56a6354e1bc0",
   "metadata": {},
   "outputs": [],
   "source": [
    "from bs4 import BeautifulSoup\n",
    "from nltk.tokenize import word_tokenize\n",
    "from nltk.corpus import stopwords\n",
    "from nltk.stem import WordNetLemmatizer\n",
    "import re\n",
    "import string\n",
    "import contractions\n",
    "import swifter\n",
    "\n",
    "def tosentences(article):\n",
    "    sentences=article.split(\". \")\n",
    "    sentences=[sentence.strip() for sentence in sentences]\n",
    "    return sentences"
   ]
  },
  {
   "cell_type": "code",
   "execution_count": 6,
   "id": "849cd18f-f0e3-447f-aa19-abe1d178888d",
   "metadata": {},
   "outputs": [],
   "source": [
    "def preprocess(sentences, min_word_length=2):\n",
    "    preprocessed_sentences = []\n",
    "    for sentence in sentences:\n",
    "        soup = BeautifulSoup(sentence, 'html.parser')\n",
    "        sentence = soup.get_text()\n",
    "        sentence = contractions.fix(sentence)\n",
    "        words = word_tokenize(sentence)\n",
    "        stop_words = set(stopwords.words('english'))\n",
    "        words = [word for word in words if word.lower() not in stop_words]\n",
    "        words = [re.sub(r'\\d+', '', word) for word in words]  \n",
    "        words = [re.sub(r'\\d', '', word) for word in words]   \n",
    "        words = [re.sub(r'(.)\\1+', r'\\1\\1', word) for word in words] \n",
    "        words = [re.sub(r'\\{.*?\\}', '', word) for word in words] \n",
    "        words = [re.sub(r'^[\\'\\s]*|[^\\w\\s\\'-]', '', word) for word in words] \n",
    "        words = [re.sub(r'\\.{3,}', '', word) for word in words]  \n",
    "        words = [re.sub(r'\\.{4,}', '', word) for word in words]  \n",
    "        words = [re.sub(r'\\.( +)', '.', word) for word in words] \n",
    "        words = [word for word in words if len(word) >= min_word_length and not word.isnumeric() and word not in string.punctuation]\n",
    "        lemmatizer = WordNetLemmatizer()\n",
    "        words = [lemmatizer.lemmatize(word) for word in words]\n",
    "        preprocessed_sentence = ' '.join(words)\n",
    "        preprocessed_sentences.append(preprocessed_sentence)\n",
    "    \n",
    "    return preprocessed_sentences"
   ]
  },
  {
   "cell_type": "code",
   "execution_count": 7,
   "id": "153692c1-596b-4ac2-826a-9141a0e9538d",
   "metadata": {},
   "outputs": [],
   "source": [
    "def wordtokenize(sentences):\n",
    "    tokenized_sentences = []\n",
    "    for sentence in sentences:\n",
    "        words = word_tokenize(sentence.lower())\n",
    "        tokenized_sentences.append(words)\n",
    "    return tokenized_sentences"
   ]
  },
  {
   "cell_type": "code",
   "execution_count": 8,
   "id": "4bf49f8e-33f5-4f1d-b5c1-61f330ff09b5",
   "metadata": {},
   "outputs": [],
   "source": [
    "from gensim import corpora, models\n",
    "from gensim.models.coherencemodel import CoherenceModel\n",
    "from nltk.tokenize import word_tokenize\n",
    "import swifter\n",
    "import pandas as pd\n",
    "\n",
    "def compute_coherence(lda_model, tokenized_sentences, dictionary, corpus):\n",
    "    coherence_model_lda = CoherenceModel(model=lda_model, texts=tokenized_sentences, dictionary=dictionary, coherence='c_v')\n",
    "    coherence_score = coherence_model_lda.get_coherence()\n",
    "    return coherence_score\n",
    "\n",
    "def train(row):\n",
    "    print(row.name,end=' ')\n",
    "    tokenized_sentences = [word_tokenize(sentence) for sentence in row['processed']]\n",
    "    dictionary = corpora.Dictionary(tokenized_sentences)\n",
    "    corpus = [dictionary.doc2bow(doc) for doc in tokenized_sentences]\n",
    "    \n",
    "    lda_model = models.LdaModel(\n",
    "        corpus=corpus,\n",
    "        num_topics=5,\n",
    "        id2word=dictionary,\n",
    "        passes=10,\n",
    "        alpha=0.113333,\n",
    "        eta=0.180268,\n",
    "        decay=0.687962,\n",
    "        offset=2.292440,\n",
    "        random_state=23,\n",
    "        minimum_probability=0.054791\n",
    "    )\n",
    "    \n",
    "    coherence_score = compute_coherence(lda_model, tokenized_sentences, dictionary, corpus)\n",
    "    \n",
    "    sentence_topic_distributions = []\n",
    "    for doc in corpus:\n",
    "        sentence_topic_distribution = lda_model.get_document_topics(doc)\n",
    "        sentence_topic_distributions.append(dict(sentence_topic_distribution))\n",
    "        \n",
    "    topic_words_list = []\n",
    "    for idx, topic in lda_model.print_topics(-1):\n",
    "        topic_words = [word.split('\"')[1] for word in topic.split()[1:] if '\"' in word]\n",
    "        topic_words_list.append(topic_words)\n",
    "    \n",
    "    row['topic_words'] = topic_words_list\n",
    "    row['sentence_topic_distributions'] = sentence_topic_distributions\n",
    "    row['coherence_score'] = coherence_score\n",
    "    return row"
   ]
  },
  {
   "cell_type": "code",
   "execution_count": 23,
   "id": "ee0f8516-6361-46fa-84db-cb4fac15c162",
   "metadata": {},
   "outputs": [],
   "source": [
    "import ast\n",
    "import swifter\n",
    "\n",
    "def filter_topic_distribution(topic_distribution_list):\n",
    "    theta = 0.1\n",
    "    t1_list = []\n",
    "    distribution_list = ast.literal_eval(topic_distribution_list)\n",
    "    for distribution in distribution_list:\n",
    "        filtered_distribution = [{k: v} for k, v in distribution.items() if v > theta]\n",
    "        t1_list.extend(filtered_distribution)\n",
    "    return t1_list"
   ]
  },
  {
   "cell_type": "code",
   "execution_count": 10,
   "id": "0020a00d-80b8-466e-876d-1642092a5137",
   "metadata": {},
   "outputs": [],
   "source": [
    "def get_dominant_topics(sentence_topic_distribution):\n",
    "    dominant_topics = []\n",
    "    for distribution in sentence_topic_distribution:\n",
    "        dominant_topic = max(distribution, key=distribution.get)\n",
    "        dominant_topics.append(dominant_topic)\n",
    "    return dominant_topics"
   ]
  },
  {
   "cell_type": "code",
   "execution_count": 11,
   "id": "e3ca9183-a7c7-4b64-aed7-e86b86e6acba",
   "metadata": {},
   "outputs": [],
   "source": [
    "def get_topic_words(row):\n",
    "    index_values = row['ST']\n",
    "    topic_words = row['topic_words']\n",
    "    result = []\n",
    "    for index in index_values:\n",
    "        if 0 <= index < len(topic_words):\n",
    "            result.append(topic_words[index])\n",
    "        else:\n",
    "            result.append(None) \n",
    "    return result"
   ]
  },
  {
   "cell_type": "code",
   "execution_count": 12,
   "id": "2ac5c624-cf3e-420d-a067-cdd7e44ec1ff",
   "metadata": {},
   "outputs": [],
   "source": [
    "import nltk\n",
    "from nltk.sentiment import SentimentIntensityAnalyzer\n",
    "from textblob import TextBlob\n",
    "from senticnet.senticnet import SenticNet\n",
    "sid = SentimentIntensityAnalyzer()\n",
    "sn = SenticNet()\n",
    "\n",
    "\n",
    "def sentic(word):\n",
    "     score=0\n",
    "     if word in sn.data:\n",
    "        sentiment_info = sn.concept(word)\n",
    "        score = float(sentiment_info.get('polarity_value', 0))\n",
    "     return score\n",
    "\n",
    "def TEXTBLOB(word):  \n",
    "    sentiment_score=TextBlob(word).sentiment.polarity\n",
    "    return sentiment_score\n",
    "\n",
    "def SA(word):\n",
    "     sentiment_score = sid.polarity_scores(word)['compound'] \n",
    "     return sentiment_score\n",
    "  \n",
    "def match_and_calculate_sentiment(sentences, topic_words):\n",
    "    sentiment_scores = []\n",
    "    \n",
    "    for sentence, words in zip(sentences, topic_words):\n",
    "        sentiment_score=0\n",
    "        for word in nltk.word_tokenize(sentence):\n",
    "            if word in words:\n",
    "                sentiment_score += (TEXTBLOB(word))\n",
    "        sentiment_scores.append(sentiment_score)\n",
    "        \n",
    "    return sentiment_scores"
   ]
  },
  {
   "cell_type": "code",
   "execution_count": 13,
   "id": "106b44b6-7fca-4c36-a1f3-d733a7432fb8",
   "metadata": {},
   "outputs": [],
   "source": [
    "def calculate_reaching_definition(df,r):\n",
    "    definitions_generated = []\n",
    "    definitions_killed = []\n",
    "    \n",
    "    for index, row in df.iterrows():\n",
    "        row_definitions_generated = [set() for _ in range(len(row['processed']))]\n",
    "        row_definitions_killed = [set() for _ in range(len(row['processed']))]\n",
    "        \n",
    "        for i, (sentence, topic_idx, sentiment_score) in enumerate(zip(row['processed'], row['ST'], row[r])):\n",
    "            definition_generated = (topic_idx, sentiment_score)\n",
    "            for j in range(i):\n",
    "                if (row['ST'][j], row[r][j]) == definition_generated:\n",
    "                    row_definitions_killed[i].add(j)\n",
    "            row_definitions_generated[i].add(definition_generated)\n",
    "            for j in range(i):\n",
    "                if j not in row_definitions_killed[i]:\n",
    "                    row_definitions_generated[i] |= row_definitions_generated[j]\n",
    "        \n",
    "        definitions_generated.append(row_definitions_generated)\n",
    "        definitions_killed.append(row_definitions_killed)\n",
    "    \n",
    "    df['definitions_generated'] = definitions_generated\n",
    "    df['definitions_killed'] = definitions_killed\n",
    "    \n",
    "    return df"
   ]
  },
  {
   "cell_type": "code",
   "execution_count": 14,
   "id": "88440c00-4661-44b0-b4e5-e78a48f1aff5",
   "metadata": {},
   "outputs": [],
   "source": [
    "def calculate_IN_OUT_sets(definitions_generated_col, definitions_killed_col):\n",
    "    IN_sets = []\n",
    "    OUT_sets = []\n",
    "    for gen, killed in zip(definitions_generated_col, definitions_killed_col):\n",
    "        OUT = [set() for _ in range(len(gen))]\n",
    "        changed = True\n",
    "        while changed:\n",
    "            changed = False\n",
    "            for i in range(len(gen)):\n",
    "                IN = set().union(*[OUT[p] for p in range(len(gen)) if i not in killed[p]])\n",
    "                new_OUT = gen[i].union(IN - killed[i])\n",
    "                if new_OUT != OUT[i]:\n",
    "                    OUT[i] = new_OUT\n",
    "                    changed = True\n",
    "        IN = [set().union(*[OUT[p] for p in range(len(gen)) if i in gen[p]]) for i in range(len(gen))]\n",
    "        IN_sets.append(IN)\n",
    "        OUT_sets.append(OUT)\n",
    "    return IN_sets, OUT_sets"
   ]
  },
  {
   "cell_type": "code",
   "execution_count": 19,
   "id": "00405632-c70f-4388-8e00-b0747c7349f9",
   "metadata": {},
   "outputs": [],
   "source": [
    "def generate_summary(sentences, S, sentiment_scores):\n",
    "    summaries = []\n",
    "\n",
    "    for doc_sentences, out, doc_sentiment_scores in zip(sentences, S, sentiment_scores):\n",
    "        summary = \"\"\n",
    "        added_indices = set()\n",
    "\n",
    "        for out_set in out:\n",
    "            for j in out_set:\n",
    "                if isinstance(j, tuple):\n",
    "                    j = j[0]\n",
    "                j = int(j)  # Convert to integer\n",
    "                if 0 <= j < len(doc_sentences) and j < len(doc_sentiment_scores):\n",
    "                    if j not in added_indices:\n",
    "                        summary += doc_sentences[j] + \" \"\n",
    "                        added_indices.add(j)\n",
    "\n",
    "        summaries.append(summary.strip())\n",
    "\n",
    "    return summaries"
   ]
  },
  {
   "cell_type": "code",
   "execution_count": 16,
   "id": "99c9c23d-609d-44a4-a4fb-3c6fd0e62f1d",
   "metadata": {},
   "outputs": [],
   "source": [
    "from bs4 import BeautifulSoup\n",
    "import contractions\n",
    "import re\n",
    "def preprocess_text(text):\n",
    "    soup = BeautifulSoup(text, 'html.parser')\n",
    "    text = soup.get_text()\n",
    "    text = contractions.fix(text)\n",
    "    text = re.sub(r'\\\\', '', text)\n",
    "    return text"
   ]
  },
  {
   "cell_type": "code",
   "execution_count": 17,
   "id": "3e5ea117-86c7-4409-a900-bcaf831dd645",
   "metadata": {},
   "outputs": [],
   "source": [
    "def classify_sentiment(text):\n",
    "    blob = TextBlob(text)\n",
    "    polarity = blob.sentiment.polarity\n",
    "    if polarity > 0:\n",
    "        return 'postive'\n",
    "    elif polarity < 0:\n",
    "        return 'negative'\n",
    "    else:\n",
    "        return 'neutral'"
   ]
  },
  {
   "cell_type": "code",
   "execution_count": 18,
   "id": "9b58e25b-80a2-4a52-b970-9437f22a25ea",
   "metadata": {},
   "outputs": [
    {
     "data": {
      "application/vnd.jupyter.widget-view+json": {
       "model_id": "da746ee80b924035b04e20dd0af37569",
       "version_major": 2,
       "version_minor": 0
      },
      "text/plain": [
       "Pandas Apply:   0%|          | 0/2500 [00:00<?, ?it/s]"
      ]
     },
     "metadata": {},
     "output_type": "display_data"
    },
    {
     "data": {
      "application/vnd.jupyter.widget-view+json": {
       "model_id": "9df62b14e0f74b8493a4f05dd802022a",
       "version_major": 2,
       "version_minor": 0
      },
      "text/plain": [
       "Pandas Apply:   0%|          | 0/2500 [00:00<?, ?it/s]"
      ]
     },
     "metadata": {},
     "output_type": "display_data"
    },
    {
     "name": "stderr",
     "output_type": "stream",
     "text": [
      "C:\\Users\\akvnr\\AppData\\Local\\Temp\\ipykernel_16380\\1479389325.py:4: MarkupResemblesLocatorWarning: The input looks more like a filename than markup. You may want to open this file and pass the filehandle into Beautiful Soup.\n",
      "  soup = BeautifulSoup(sentence, 'html.parser')\n"
     ]
    }
   ],
   "source": [
    "data['sentence']=data['Reviews'].swifter.apply(tosentences)\n",
    "data['processed'] = data['sentence'].swifter.apply(preprocess)"
   ]
  },
  {
   "cell_type": "code",
   "execution_count": 20,
   "id": "ca1b393c-18e0-4cfa-b5a1-8cdee3b27eb2",
   "metadata": {},
   "outputs": [],
   "source": [
    "Iter1=data"
   ]
  },
  {
   "cell_type": "code",
   "execution_count": 29,
   "id": "03c05549-7a07-4ae2-9a07-47642ae4f9ac",
   "metadata": {},
   "outputs": [
    {
     "data": {
      "application/vnd.jupyter.widget-view+json": {
       "model_id": "b13a8fc3664d4c8eac35d230ffb538b1",
       "version_major": 2,
       "version_minor": 0
      },
      "text/plain": [
       "Pandas Apply:   0%|          | 0/2500 [00:00<?, ?it/s]"
      ]
     },
     "metadata": {},
     "output_type": "display_data"
    },
    {
     "data": {
      "application/vnd.jupyter.widget-view+json": {
       "model_id": "fc18f3c28bed4cfe8a7843634fbe9579",
       "version_major": 2,
       "version_minor": 0
      },
      "text/plain": [
       "Pandas Apply:   0%|          | 0/2500 [00:00<?, ?it/s]"
      ]
     },
     "metadata": {},
     "output_type": "display_data"
    },
    {
     "data": {
      "application/vnd.jupyter.widget-view+json": {
       "model_id": "a6fa7510b2a547e091e25668d31c7787",
       "version_major": 2,
       "version_minor": 0
      },
      "text/plain": [
       "Pandas Apply:   0%|          | 0/2500 [00:00<?, ?it/s]"
      ]
     },
     "metadata": {},
     "output_type": "display_data"
    },
    {
     "data": {
      "application/vnd.jupyter.widget-view+json": {
       "model_id": "88eb926eb77d461bb340cd07fd0b8760",
       "version_major": 2,
       "version_minor": 0
      },
      "text/plain": [
       "Pandas Apply:   0%|          | 0/2500 [00:00<?, ?it/s]"
      ]
     },
     "metadata": {},
     "output_type": "display_data"
    },
    {
     "data": {
      "application/vnd.jupyter.widget-view+json": {
       "model_id": "417a7c7778454738aa017cbe338f3426",
       "version_major": 2,
       "version_minor": 0
      },
      "text/plain": [
       "Pandas Apply:   0%|          | 0/2500 [00:00<?, ?it/s]"
      ]
     },
     "metadata": {},
     "output_type": "display_data"
    },
    {
     "data": {
      "image/png": "[encoded data removed]",
      "text/plain": [
       "<Figure size 800x600 with 2 Axes>"
      ]
     },
     "metadata": {},
     "output_type": "display_data"
    },
    {
     "name": "stdout",
     "output_type": "stream",
     "text": [
      "Accuracy: 0.8236\n",
      "Precision: 0.8471329236782669\n",
      "Recall: 0.8236\n",
      "F1-score: 0.8318224518566396\n"
     ]
    },
    {
     "name": "stderr",
     "output_type": "stream",
     "text": [
      "C:\\Users\\akvnr\\AppData\\Roaming\\Python\\Python312\\site-packages\\sklearn\\metrics\\_classification.py:1471: UndefinedMetricWarning: Recall is ill-defined and being set to 0.0 in labels with no true samples. Use `zero_division` parameter to control this behavior.\n",
      "  _warn_prf(average, modifier, msg_start, len(result))\n"
     ]
    }
   ],
   "source": [
    "Iter1['topic_words'] = Iter1['topic_words'].apply(ast.literal_eval)\n",
    "Iter1['DTC'] = Iter1['sentence_topic_distributions'].swifter.apply(filter_topic_distribution)\n",
    "Iter1['ST']=Iter1['DTC'].swifter.apply(get_dominant_topics)\n",
    "Iter1['ATW'] = Iter1.swifter.apply(get_topic_words, axis=1)\n",
    "Iter1['sentiment_score'] = Iter1.apply(lambda row: match_and_calculate_sentiment(row['processed'], row['ATW']), axis=1)\n",
    "df1=calculate_reaching_definition(Iter1,'sentiment_score')\n",
    "IN_sets1, OUT_sets1 = calculate_IN_OUT_sets(df1['definitions_generated'], df1['definitions_killed'])\n",
    "\n",
    "S0 = [0] * len(OUT_sets1)\n",
    "for i, out_set in enumerate(OUT_sets1):\n",
    "    S0[i] = list(out_set)[-1] if out_set else None\n",
    "\n",
    "summaries1= generate_summary(Iter1['sentence'], S0, Iter1['sentiment_score'])\n",
    "summary_df1 = pd.DataFrame({'Summary': summaries1})\n",
    "\n",
    "Iter1['TBLabel']=Iter1['Reviews'].swifter.apply( classify_sentiment)\n",
    "summary_df1['TBLabel']=summary_df1['Summary'].swifter.apply( classify_sentiment)\n",
    "\n",
    "import pandas as pd\n",
    "from sklearn.metrics import accuracy_score, precision_score, recall_score, f1_score\n",
    "import numpy as np\n",
    "import seaborn as sns\n",
    "import matplotlib.pyplot as plt\n",
    "from sklearn.metrics import confusion_matrix\n",
    "\n",
    "actual = Iter1['TBLabel']\n",
    "predicted = summary_df1['TBLabel']\n",
    "label =['negative','neutral','positive']\n",
    "cm = confusion_matrix(actual, predicted)\n",
    "labels = np.unique(actual)\n",
    "\n",
    "plt.figure(figsize=(8, 6))\n",
    "sns.set(font_scale=1.2)\n",
    "sns.heatmap(cm, annot=True, fmt=\"d\", cmap=\"Blues\", xticklabels=label, yticklabels=label)\n",
    "plt.xlabel('Predicted')\n",
    "plt.ylabel('Actual')\n",
    "plt.title('Confusion Matrix')\n",
    "plt.show()\n",
    "\n",
    "accuracy= accuracy_score(actual, predicted)\n",
    "precision = precision_score(actual, predicted, average='weighted')\n",
    "recall = recall_score(actual, predicted, average='weighted')\n",
    "f1 =f1_score(actual, predicted, average='weighted')\n",
    "print(\"Accuracy:\", accuracy)\n",
    "print(\"Precision:\", precision)\n",
    "print(\"Recall:\", recall)\n",
    "print(\"F1-score:\", f1)"
   ]
  },
  {
   "cell_type": "code",
   "execution_count": 32,
   "id": "0d19e806-603a-4583-a90f-36932a2ed148",
   "metadata": {},
   "outputs": [
    {
     "data": {
      "text/plain": [
       "\"That alone is the main reason to why these two guys get so well along, because they simply only have each other to turn to when comforting is needed The premise of this movie has been tickling my imagination for quite some time now What would you do if you were all alone in the world? What would you do if the entire world suddenly disappeared in front of your eyes? In fact, the last part is actually what happens to Dave and Andrew, two room-mates living in a run-down house in the middle of a freeway system We've all heard or read about it in some kind of con-text Andrew is a nervous wreck to say the least and Dave is considered being one of the biggest losers of society\""
      ]
     },
     "execution_count": 32,
     "metadata": {},
     "output_type": "execute_result"
    }
   ],
   "source": [
    "summary_df1['Summary'][1]"
   ]
  },
  {
   "cell_type": "code",
   "execution_count": 33,
   "id": "4e76189c-e414-464a-b6c7-208662149a1b",
   "metadata": {},
   "outputs": [
    {
     "data": {
      "text/plain": [
       "\"Okay, so I'm not a big video game buff, but was the game House of the Dead really famous enough to make a movie from? Sure, they went as far as to actually put in quick video game clips throughout the movie, as though justifying any particular scene of violence, but there are dozens and dozens of games that look exactly the same, with the hand in the bottom on the screen, supposedly your own, holding whatever weapon and goo-ing all kinds of aliens or walking dead or snipers or whatever the case may be.<br /><br />It's an interesting premise in House of the Dead, with a lot of college kids (LOADED college kids, as it were, kids who are able to pay some fisherman something like $1,500 just for a ride after they miss their boat) trying to get out to this island for what is supposed to be the rave of the year. The first thing that comes to mind about House of the Dead after watching it is that it has become increasingly clear that modern horror movies have become nothing more than an exercise in coming up with creative ways to get a lot of scantily clad teenagers into exactly the same situations. At least in this case, the fact that they were on their way to a rave excuses the way the girls are dressed. They look badly out of place running around the woods in cute little halter-tops, but at least they THOUGHT they were dressed for the occasion.<br /><br />Clint Howard, tellingly the most interesting character in the film by far, delivers an absolutely awful performance, the greatness of which overshadows every other actor in the movie. I can't stand it when well-known actors change their accents in movies, it is so rarely effective, and Howard here shows that it is equally flat to have an well-known actor pretend that he's this hardened fisherman with a raspy voice from years of breathing salty air. He didn't even rasp well. It sounded like he was eating a cinnamon roll before shooting and accidentally inhaled some powdered sugar or something. Real tough there, Clint! I expected more from him, but then again, he did agree to a part in this mess.<br /><br />Once we get to the island, the movie temporarily turns into any one of the Friday the 13th movies that took place at Camp Crystal Lake. Lots of teenagers played by actors who were way too old for their parts getting naked and then killed. The nudity was impressive, I guess, but let's consider something for a minute. These kids pay almost two grand to get out to this island to go to the Rave Of The Year, find NO ONE, and say, well, who wants a beer! Even the guy who pulled that stack of hundreds out of his wallet to get them all over there didn't think anything of it that they found a full bar and not a single solitary person in sight. Here you have the input from director Uwe Boll - There's alcohol! They won't notice that the party they came for consists of no one but themselves!<br /><br />So not only do they start drinking, not minding the fact that the whole party seems to have vacated the island, but when one of the girls goes off into the dark woods to find out where everyone is (dragging one other girl and one of the guys reluctantly along), the guy and the girl who stay behind to get smashed decide that it would be a great idea to strip down for a quickie now that they're alone. It's like they expected to find the island empty, and now that they rest of the people that they came over with were gone for a little while, they would have some privacy since there's no one else around. Brilliant!<br /><br />Now for the things that everyone hated, judging by the reviews that I've read about the movie. Yes, intersplicing shots from the video game into the movie, mostly in order to show that, yes, the movie was being faithful to/directly copying the video game. Sure, it was a stupid idea. I can't imagine who thought up that little nugget, but worse than that is the Matrix-style bullet time scenes that were thrown in over and over and over and over. After the first time (at which point I found it pretentious and cheesy for a movie like this to have a shot like that as though it was something original) it is noticeable more for the technique of the shot itself rather than any dramatic meaning or creation of any kind of tension for the film.<br /><br />One of the things that makes a zombie film scary and gets you on the edge of your seat is to have them slowly but relentlessly coming after the living humans, who are much faster but getting tired, running out of places to run, and with a terrifying shortage of things with which to fight the zombies off with. The first two are done right in the movie, the kids are terrified and don't have a lot of places to run since they're on an island, but since they caught a ride over with a smuggler, they find themselves heavily armed. And I mean that very strongly. I mean, these people have everything from machine guns to hand grenades, which removes most of the tension of the impending walking dead.<br /><br />Then you have what I call the techno-slasher scene. Since the rave never happened, and I guess since Uwe Boll thought people were going to be disappointed at not hearing any techno music in the movie, there's one scene right in the middle where all the humans are fighting off the living dead, and amazingly enough it turns into something of a music video. There's techno music blasting as the shots are edited together faster and faster until it's nothing but a blur of gory shot, mostly only about 5 frames long (which is about 1/6 of a second) flashing across the screen in time with the speed techno music. Clever, I guess, but it has no place in a horror movie because it completely removes any sense of scariness or tension of even the gross-out effect because you can't see any one thing for long enough to react to it. You're just watching these shots fly across the screen and wondering what the hell the director was thinking when he decided that it would be a good idea to put something like this in the movie.<br /><br />I've seen a lot of people compare this movie to Resident Evil, mostly claiming that it copies the premise of it, and they're exactly right. I appreciate that at least here, as was not the case in Resident Evil, it wasn't some man-made virus that turned people into walking dead that were able to infect other people, changing them the way vampires turn others into vampires. 28 Days Later was also clearly an inspiration for this movie, it's just too bad that House of the Dead didn't do a single original thing, except for the somewhat moronic idea of putting in quick shots of the video game on which it is based, just in case you forget. I really think that this should have been a much better movie. While obviously I can't say that I know much about the game it's based on, just the title and the movie poster deserve a much better movie, but unfortunately I think that's more often the case than not with horror movies. It's really kind of sad when a movie comes out that is so obviously advertised as a no-holds-barred horror film, and the scariest thing in the entire movie is the closing shot, which suggests the possibility of a sequel.\""
      ]
     },
     "execution_count": 33,
     "metadata": {},
     "output_type": "execute_result"
    }
   ],
   "source": [
    "Iter1['Reviews'][0]"
   ]
  },
  {
   "cell_type": "code",
   "execution_count": 34,
   "id": "c996b338-4595-45f1-af5d-338647ae5991",
   "metadata": {},
   "outputs": [],
   "source": [
    "def avg(df, column_name):\n",
    "    column = df[column_name]\n",
    "    if len(column) == 0:\n",
    "        return 0  \n",
    "    total_score = sum(column)\n",
    "    avg_score = total_score / len(column)\n",
    "    return avg_score"
   ]
  },
  {
   "cell_type": "code",
   "execution_count": 36,
   "id": "61809334-c668-4da6-8296-d2f32729e969",
   "metadata": {},
   "outputs": [
    {
     "name": "stdout",
     "output_type": "stream",
     "text": [
      "0.8529102227063727\n"
     ]
    }
   ],
   "source": [
    "avg_score =avg(Iter1,'coherence_score')\n",
    "print(avg_score)"
   ]
  },
  {
   "cell_type": "code",
   "execution_count": 49,
   "id": "822954e9-e2e1-4063-8a0e-10a3e5e2031a",
   "metadata": {},
   "outputs": [],
   "source": [
    "from collections import Counter\n",
    "\n",
    "def k_words(processed_documents, k=10):\n",
    "    all_words = [word for sublist in processed_documents for doc in sublist for word in doc.split()]\n",
    "    word_freq = Counter(all_words)\n",
    "    top_words = [word for word, _ in word_freq.most_common(k)]\n",
    "    return top_words"
   ]
  },
  {
   "cell_type": "code",
   "execution_count": 38,
   "id": "d224b1a4-6feb-41ca-9773-94e4a74f3029",
   "metadata": {},
   "outputs": [],
   "source": [
    "def evaluate_relevance(summary, topic_keywords):\n",
    "    relevance_score = 0\n",
    "    for keyword in topic_keywords:\n",
    "        if keyword.lower() in summary.lower():\n",
    "            relevance_score += 1\n",
    "    normalized_relevance_score = relevance_score / len(topic_keywords)\n",
    "    return normalized_relevance_score\n",
    "\n",
    "def evaluate_summary(df_summary):\n",
    "    \n",
    "    relevance_scores = []\n",
    "    for summary, topic_keywords in zip(df_summary['Summary'], df_summary['top']):\n",
    "        relevance_score = evaluate_relevance(summary, topic_keywords)\n",
    "        relevance_scores.append(relevance_score)\n",
    "    df_summary['Relevance Score'] = relevance_scores\n",
    "    \n",
    "    return df_summary"
   ]
  },
  {
   "cell_type": "code",
   "execution_count": 40,
   "id": "1713d4b8-06fd-48b9-84d1-e4a30fce3050",
   "metadata": {},
   "outputs": [],
   "source": [
    "import nltk\n",
    "from nltk.tokenize import word_tokenize\n",
    "from nltk.tag import pos_tag"
   ]
  },
  {
   "cell_type": "code",
   "execution_count": 41,
   "id": "d78b216b-41bc-4a94-ba72-eb9b7e6d65b1",
   "metadata": {},
   "outputs": [],
   "source": [
    "def calculate_fluency_score(summary):\n",
    "    tokens = word_tokenize(summary)\n",
    "    tagged_tokens = pos_tag(tokens)\n",
    "    correct_tags = ['CC', 'CD', 'DT', 'EX', 'FW', 'IN', 'JJ', 'JJR', 'JJS', 'LS', 'MD', 'NN', 'NNS',\n",
    "                    'NNP', 'NNPS', 'PDT', 'POS', 'PRP', 'PRP$', 'RB', 'RBR', 'RBS', 'RP', 'TO', 'UH',\n",
    "                    'VB', 'VBD', 'VBG', 'VBN', 'VBP', 'VBZ', 'WDT', 'WP', 'WP$', 'WRB']\n",
    "    correct_count = sum(1 for _, tag in tagged_tokens if tag in correct_tags)\n",
    "    fluency_score = correct_count / len(tokens)\n",
    "    return fluency_score\n"
   ]
  },
  {
   "cell_type": "code",
   "execution_count": 51,
   "id": "9d9194ca-00c3-42ab-a6eb-2d570286b2ef",
   "metadata": {},
   "outputs": [
    {
     "data": {
      "application/vnd.jupyter.widget-view+json": {
       "model_id": "cae1549ac3f1485c8a0c5b67faec0f43",
       "version_major": 2,
       "version_minor": 0
      },
      "text/plain": [
       "Pandas Apply:   0%|          | 0/2500 [00:00<?, ?it/s]"
      ]
     },
     "metadata": {},
     "output_type": "display_data"
    }
   ],
   "source": [
    "summary_df1['top']=Iter1['topic_words'].swifter.apply(k_words)\n",
    "summary_df1=evaluate_summary(summary_df1)\n",
    "summary_df1['Fluency Score'] = summary_df1['Summary'].apply(calculate_fluency_score)"
   ]
  },
  {
   "cell_type": "code",
   "execution_count": 52,
   "id": "5f603cb1-c50f-426e-86ce-0bd8924d0e65",
   "metadata": {},
   "outputs": [
    {
     "name": "stdout",
     "output_type": "stream",
     "text": [
      "Fluency = 0.9308950276640225\n",
      "Relevance = 0.6516\n"
     ]
    }
   ],
   "source": [
    "fluency=avg(summary_df1,'Fluency Score')\n",
    "relevance=avg(summary_df1,'Relevance Score')     \n",
    "print('Fluency = '+str(fluency))\n",
    "print('Relevance = '+str(relevance))"
   ]
  },
  {
   "cell_type": "code",
   "execution_count": 54,
   "id": "1c376907-1168-4581-88b7-e9c12bafeac7",
   "metadata": {},
   "outputs": [],
   "source": [
    "from rouge_score import rouge_scorer\n",
    "\n",
    "def calculate_rouge(reference_summary, generated_summary):\n",
    "    scorer = rouge_scorer.RougeScorer(['rouge1', 'rouge2', 'rougeL'], use_stemmer=True)\n",
    "    scores = scorer.score(reference_summary, generated_summary)\n",
    "    \n",
    "    rouge1_score = [scores['rouge1'].precision, scores['rouge1'].recall, scores['rouge1'].fmeasure]\n",
    "    rouge2_score = [scores['rouge2'].precision, scores['rouge2'].recall, scores['rouge2'].fmeasure]\n",
    "    rougeL_score = [scores['rougeL'].precision, scores['rougeL'].recall, scores['rougeL'].fmeasure]\n",
    "    \n",
    "    return rouge1_score, rouge2_score, rougeL_score\n"
   ]
  },
  {
   "cell_type": "code",
   "execution_count": 55,
   "id": "f4c3ba23-3642-4177-b630-cd826b9d6d1f",
   "metadata": {},
   "outputs": [],
   "source": [
    "PR = pd.read_csv('PageRank.csv')\n",
    "PR=PR.iloc[:2500]"
   ]
  },
  {
   "cell_type": "code",
   "execution_count": 58,
   "id": "39e874e4-553d-48b0-88a4-237cfcb5439a",
   "metadata": {},
   "outputs": [
    {
     "name": "stdout",
     "output_type": "stream",
     "text": [
      "1 Average ROUGE-1 Precision, Recall, F-measure: [0.48123520888769217, 0.5407651592530756, 0.4913538521757153]\n",
      "Average ROUGE-2 Precision, Recall, F-measure: [0.3061587631777938, 0.36547812095638915, 0.32249473814943375]\n",
      "Average ROUGE-L Precision, Recall, F-measure: [0.32321119374377116, 0.3699360765968988, 0.33280439196185985]\n",
      "\n"
     ]
    }
   ],
   "source": [
    "import numpy as np\n",
    "\n",
    "avg_rouge_scores_list = []\n",
    "\n",
    "for i in range(1, 2):\n",
    "    print(i,end=' ')\n",
    "    df = summary_df1 \n",
    "    \n",
    "    rouge1_scores = []\n",
    "    rouge2_scores = []\n",
    "    rougeL_scores = []\n",
    "    \n",
    "    for index, row in df.iterrows():\n",
    "        reference_summary = str(PR.loc[index, 'Summary'])  \n",
    "        generated_summary = str(row['Summary']) \n",
    "        \n",
    "        rouge1_score, rouge2_score, rougeL_score = calculate_rouge(reference_summary, generated_summary)\n",
    "        \n",
    "        rouge1_scores.append(rouge1_score)\n",
    "        rouge2_scores.append(rouge2_score)\n",
    "        rougeL_scores.append(rougeL_score)\n",
    "    \n",
    "    \n",
    "    avg_rouge1_precision = np.mean([score[0] for score in rouge1_scores])\n",
    "    avg_rouge1_recall = np.mean([score[1] for score in rouge1_scores])\n",
    "    avg_rouge1_fmeasure = np.mean([score[2] for score in rouge1_scores])\n",
    "    \n",
    "    avg_rouge2_precision = np.mean([score[0] for score in rouge2_scores])\n",
    "    avg_rouge2_recall = np.mean([score[1] for score in rouge2_scores])\n",
    "    avg_rouge2_fmeasure = np.mean([score[2] for score in rouge2_scores])\n",
    "    \n",
    "    avg_rougeL_precision = np.mean([score[0] for score in rougeL_scores])\n",
    "    avg_rougeL_recall = np.mean([score[1] for score in rougeL_scores])\n",
    "    avg_rougeL_fmeasure = np.mean([score[2] for score in rougeL_scores])\n",
    "    \n",
    "    avg_rouge_scores_list.append({\n",
    "        'df_name': df_name,\n",
    "        'avg_rouge1_precision': avg_rouge1_precision,\n",
    "        'avg_rouge1_recall': avg_rouge1_recall,\n",
    "        'avg_rouge1_fmeasure': avg_rouge1_fmeasure,\n",
    "        'avg_rouge2_precision': avg_rouge2_precision,\n",
    "        'avg_rouge2_recall': avg_rouge2_recall,\n",
    "        'avg_rouge2_fmeasure': avg_rouge2_fmeasure,\n",
    "        'avg_rougeL_precision': avg_rougeL_precision,\n",
    "        'avg_rougeL_recall': avg_rougeL_recall,\n",
    "        'avg_rougeL_fmeasure': avg_rougeL_fmeasure\n",
    "    })\n",
    "\n",
    "for avg_rouge_scores in avg_rouge_scores_list:\n",
    "    print(\"Average ROUGE-1 Precision, Recall, F-measure:\", [avg_rouge_scores['avg_rouge1_precision'],\n",
    "                                                            avg_rouge_scores['avg_rouge1_recall'],\n",
    "                                                            avg_rouge_scores['avg_rouge1_fmeasure']])\n",
    "    print(\"Average ROUGE-2 Precision, Recall, F-measure:\", [avg_rouge_scores['avg_rouge2_precision'],\n",
    "                                                            avg_rouge_scores['avg_rouge2_recall'],\n",
    "                                                            avg_rouge_scores['avg_rouge2_fmeasure']])\n",
    "    print(\"Average ROUGE-L Precision, Recall, F-measure:\", [avg_rouge_scores['avg_rougeL_precision'],\n",
    "                                                            avg_rouge_scores['avg_rougeL_recall'],\n",
    "                                                            avg_rouge_scores['avg_rougeL_fmeasure']])\n",
    "    print()\n"
   ]
  },
  {
   "cell_type": "code",
   "execution_count": 59,
   "id": "9f6fc726-0871-4668-bbeb-d8a68211496f",
   "metadata": {},
   "outputs": [],
   "source": [
    "import pandas as pd\n",
    "from sklearn.feature_extraction.text import TfidfVectorizer\n",
    "from sklearn.model_selection import train_test_split\n",
    "from sklearn.pipeline import make_pipeline\n",
    "from sklearn.svm import LinearSVC\n",
    "from sklearn.metrics import accuracy_score\n",
    "import nltk\n",
    "from nltk.tokenize import word_tokenize\n",
    "from nltk.corpus import stopwords\n",
    "from nltk.stem import WordNetLemmatizer\n",
    "\n",
    "\n",
    "stop_words = set(stopwords.words('english'))\n",
    "lemmatizer = WordNetLemmatizer()\n",
    "\n",
    "def preprocess_text(text):\n",
    "    tokens = word_tokenize(text.lower()) \n",
    "    tokens = [lemmatizer.lemmatize(word) for word in tokens if word.isalnum()]  \n",
    "    tokens = [word for word in tokens if word not in stop_words]  \n",
    "    return ' '.join(tokens)"
   ]
  },
  {
   "cell_type": "code",
   "execution_count": 60,
   "id": "8089956b-4449-439f-b5c0-1d85a25cbeed",
   "metadata": {},
   "outputs": [],
   "source": [
    "summary_df1['Summary']=summary_df1['Summary'].apply(preprocess_text)"
   ]
  },
  {
   "cell_type": "code",
   "execution_count": 67,
   "id": "426b1fb7-913d-4d38-91a4-464e78d6e607",
   "metadata": {},
   "outputs": [
    {
     "name": "stdout",
     "output_type": "stream",
     "text": [
      "Cross-validation scores: [0.82014388 0.80672269 0.81032413]\n",
      "Mean accuracy: 0.8123969012065259\n"
     ]
    }
   ],
   "source": [
    "from sklearn.model_selection import cross_val_score, StratifiedKFold\n",
    "\n",
    "pipeline = make_pipeline(TfidfVectorizer(), LinearSVC())\n",
    "cv = StratifiedKFold(n_splits=3, shuffle=True, random_state=42)\n",
    "cv_scores = cross_val_score(pipeline, summary_df1['preprocessed_sentence'], summary_df1['TBLabel'], cv=cv)\n",
    "print(\"Cross-validation scores:\", cv_scores)\n",
    "print(\"Mean accuracy:\", cv_scores.mean())\n"
   ]
  },
  {
   "cell_type": "code",
   "execution_count": 81,
   "id": "90d3fe39-3662-40d4-91c2-07c579ff2df6",
   "metadata": {},
   "outputs": [],
   "source": [
    "def predict_sentiment(sentence):\n",
    "    preprocessed_sentence = preprocess_text(sentence)\n",
    "    return model.predict([preprocessed_sentence])[0]"
   ]
  },
  {
   "cell_type": "code",
   "execution_count": 69,
   "id": "e32df1a9-fc56-41ff-b468-7d9cb1c4d62c",
   "metadata": {},
   "outputs": [
    {
     "name": "stdout",
     "output_type": "stream",
     "text": [
      "Cross-validation scores: [0.8056 0.8096]\n",
      "Mean accuracy: 0.8076\n"
     ]
    }
   ],
   "source": [
    "from sklearn.model_selection import cross_val_score, StratifiedKFold\n",
    "\n",
    "pipeline = make_pipeline(TfidfVectorizer(), LinearSVC())\n",
    "cv = StratifiedKFold(n_splits=2, shuffle=True, random_state=42)\n",
    "cv_scores = cross_val_score(pipeline, summary_df1['preprocessed_sentence'], summary_df1['TBLabel'], cv=cv)\n",
    "print(\"Cross-validation scores:\", cv_scores)\n",
    "print(\"Mean accuracy:\", cv_scores.mean())\n"
   ]
  },
  {
   "cell_type": "code",
   "execution_count": 70,
   "id": "ce234f87-472c-40ca-8286-aedd67645bc8",
   "metadata": {},
   "outputs": [
    {
     "name": "stdout",
     "output_type": "stream",
     "text": [
      "Cross-validation scores: [0.78177458 0.77430972 0.77791116]\n",
      "Mean accuracy: 0.7779984895636911\n"
     ]
    }
   ],
   "source": [
    "from sklearn.ensemble import RandomForestClassifier\n",
    "\n",
    "pipeline = make_pipeline(TfidfVectorizer(), RandomForestClassifier())\n",
    "cv = StratifiedKFold(n_splits=3, shuffle=True, random_state=42)\n",
    "cv_scores = cross_val_score(pipeline, summary_df1['preprocessed_sentence'], summary_df1['TBLabel'], cv=cv)\n",
    "\n",
    "print(\"Cross-validation scores:\", cv_scores)\n",
    "print(\"Mean accuracy:\", cv_scores.mean())\n"
   ]
  },
  {
   "cell_type": "code",
   "execution_count": 71,
   "id": "0a511b53-a4c3-4270-af71-1dbbe7f11946",
   "metadata": {},
   "outputs": [
    {
     "name": "stdout",
     "output_type": "stream",
     "text": [
      "Cross-validation scores: [0.776  0.7624]\n",
      "Mean accuracy: 0.7692\n"
     ]
    }
   ],
   "source": [
    "from sklearn.ensemble import RandomForestClassifier\n",
    "\n",
    "pipeline = make_pipeline(TfidfVectorizer(), RandomForestClassifier())\n",
    "cv = StratifiedKFold(n_splits=2, shuffle=True, random_state=42)\n",
    "cv_scores = cross_val_score(pipeline, summary_df1['preprocessed_sentence'], summary_df1['TBLabel'], cv=cv)\n",
    "\n",
    "print(\"Cross-validation scores:\", cv_scores)\n",
    "print(\"Mean accuracy:\", cv_scores.mean())\n"
   ]
  },
  {
   "cell_type": "code",
   "execution_count": 73,
   "id": "cb3a48ca-f821-481c-b215-cf7a9dc3a904",
   "metadata": {},
   "outputs": [
    {
     "name": "stdout",
     "output_type": "stream",
     "text": [
      "Cross-validation scores: [0.79856115 0.79111645 0.78871549]\n",
      "Mean accuracy: 0.7927976946174153\n"
     ]
    }
   ],
   "source": [
    "from sklearn.ensemble import VotingClassifier\n",
    "from sklearn.naive_bayes import MultinomialNB\n",
    "from sklearn.linear_model import LogisticRegression\n",
    "from sklearn.ensemble import RandomForestClassifier\n",
    "\n",
    "model1 = ('svm', LinearSVC())\n",
    "model2 = ('nb', MultinomialNB())\n",
    "model3 = ('lr', LogisticRegression())\n",
    "model4 = ('rf', RandomForestClassifier())\n",
    "\n",
    "ensemble_models = [model1, model2, model3, model4]\n",
    "\n",
    "ensemble_classifier = VotingClassifier(estimators=ensemble_models, voting='hard')\n",
    "\n",
    "pipeline = make_pipeline(TfidfVectorizer(), ensemble_classifier)\n",
    "\n",
    "cv = StratifiedKFold(n_splits=3, shuffle=True, random_state=42)\n",
    "cv_scores = cross_val_score(pipeline, summary_df1['preprocessed_sentence'], summary_df1['TBLabel'], cv=cv)\n",
    "\n",
    "print(\"Cross-validation scores:\", cv_scores)\n",
    "print(\"Mean accuracy:\", cv_scores.mean())\n"
   ]
  },
  {
   "cell_type": "code",
   "execution_count": 74,
   "id": "e354a855-bbd4-4090-83fe-c7bf067adc76",
   "metadata": {},
   "outputs": [
    {
     "name": "stdout",
     "output_type": "stream",
     "text": [
      "Cross-validation scores: [0.79856115 0.78751501 0.78751501]\n",
      "Mean accuracy: 0.7911970543613128\n"
     ]
    }
   ],
   "source": [
    "from sklearn.ensemble import VotingClassifier\n",
    "from sklearn.naive_bayes import MultinomialNB\n",
    "from sklearn.linear_model import LogisticRegression\n",
    "from sklearn.ensemble import RandomForestClassifier\n",
    "\n",
    "model1 = ('svm', LinearSVC())\n",
    "model2 = ('nb', MultinomialNB())\n",
    "model3 = ('lr', LogisticRegression())\n",
    "model4 = ('rf', RandomForestClassifier())\n",
    "\n",
    "ensemble_models = [model1, model2, model3, model4]\n",
    "\n",
    "ensemble_classifier = VotingClassifier(estimators=ensemble_models, voting='hard')\n",
    "\n",
    "pipeline = make_pipeline(TfidfVectorizer(), ensemble_classifier)\n",
    "\n",
    "cv = StratifiedKFold(n_splits=3, shuffle=True, random_state=42)\n",
    "cv_scores = cross_val_score(pipeline, summary_df1['preprocessed_sentence'], summary_df1['TBLabel'], cv=cv)\n",
    "\n",
    "print(\"Cross-validation scores:\", cv_scores)\n",
    "print(\"Mean accuracy:\", cv_scores.mean())"
   ]
  },
  {
   "cell_type": "code",
   "execution_count": 76,
   "id": "d7bf4ef3-8c07-4085-bd40-649b49d2d26b",
   "metadata": {},
   "outputs": [
    {
     "name": "stdout",
     "output_type": "stream",
     "text": [
      "Best combination: [('svm', LinearSVC()), ('rf', RandomForestClassifier())]\n",
      "Best mean accuracy: 0.8167972224861167\n"
     ]
    }
   ],
   "source": [
    "from itertools import combinations\n",
    "\n",
    "models = [\n",
    "    ('svm', LinearSVC()),\n",
    "    ('nb', MultinomialNB()),\n",
    "    ('lr', LogisticRegression()),\n",
    "    ('rf', RandomForestClassifier())\n",
    "]\n",
    "\n",
    "best_score = 0\n",
    "best_combination = None\n",
    "\n",
    "for i in range(2, 4):\n",
    "    for model_combination in combinations(models, i):\n",
    "        model_combination_list = list(model_combination)\n",
    "        ensemble_classifier = VotingClassifier(estimators=model_combination_list, voting='hard')\n",
    "        pipeline = make_pipeline(TfidfVectorizer(), ensemble_classifier)\n",
    "        cv_scores = cross_val_score(pipeline, summary_df1['preprocessed_sentence'], summary_df1['TBLabel'], cv=cv)     \n",
    "        mean_accuracy = cv_scores.mean()\n",
    "        if mean_accuracy > best_score:\n",
    "            best_score = mean_accuracy\n",
    "            best_combination = model_combination_list\n",
    "\n",
    "print(\"Best combination:\", best_combination)\n",
    "print(\"Best mean accuracy:\", best_score)\n"
   ]
  },
  {
   "cell_type": "code",
   "execution_count": 80,
   "id": "4c5a36e7-927a-4d2a-a6e2-c48c718c55de",
   "metadata": {},
   "outputs": [
    {
     "data": {
      "text/html": [
       "<style>#sk-container-id-1 {color: black;}#sk-container-id-1 pre{padding: 0;}#sk-container-id-1 div.sk-toggleable {background-color: white;}#sk-container-id-1 label.sk-toggleable__label {cursor: pointer;display: block;width: 100%;margin-bottom: 0;padding: 0.3em;box-sizing: border-box;text-align: center;}#sk-container-id-1 label.sk-toggleable__label-arrow:before {content: \"▸\";float: left;margin-right: 0.25em;color: #696969;}#sk-container-id-1 label.sk-toggleable__label-arrow:hover:before {color: black;}#sk-container-id-1 div.sk-estimator:hover label.sk-toggleable__label-arrow:before {color: black;}#sk-container-id-1 div.sk-toggleable__content {max-height: 0;max-width: 0;overflow: hidden;text-align: left;background-color: #f0f8ff;}#sk-container-id-1 div.sk-toggleable__content pre {margin: 0.2em;color: black;border-radius: 0.25em;background-color: #f0f8ff;}#sk-container-id-1 input.sk-toggleable__control:checked~div.sk-toggleable__content {max-height: 200px;max-width: 100%;overflow: auto;}#sk-container-id-1 input.sk-toggleable__control:checked~label.sk-toggleable__label-arrow:before {content: \"▾\";}#sk-container-id-1 div.sk-estimator input.sk-toggleable__control:checked~label.sk-toggleable__label {background-color: #d4ebff;}#sk-container-id-1 div.sk-label input.sk-toggleable__control:checked~label.sk-toggleable__label {background-color: #d4ebff;}#sk-container-id-1 input.sk-hidden--visually {border: 0;clip: rect(1px 1px 1px 1px);clip: rect(1px, 1px, 1px, 1px);height: 1px;margin: -1px;overflow: hidden;padding: 0;position: absolute;width: 1px;}#sk-container-id-1 div.sk-estimator {font-family: monospace;background-color: #f0f8ff;border: 1px dotted black;border-radius: 0.25em;box-sizing: border-box;margin-bottom: 0.5em;}#sk-container-id-1 div.sk-estimator:hover {background-color: #d4ebff;}#sk-container-id-1 div.sk-parallel-item::after {content: \"\";width: 100%;border-bottom: 1px solid gray;flex-grow: 1;}#sk-container-id-1 div.sk-label:hover label.sk-toggleable__label {background-color: #d4ebff;}#sk-container-id-1 div.sk-serial::before {content: \"\";position: absolute;border-left: 1px solid gray;box-sizing: border-box;top: 0;bottom: 0;left: 50%;z-index: 0;}#sk-container-id-1 div.sk-serial {display: flex;flex-direction: column;align-items: center;background-color: white;padding-right: 0.2em;padding-left: 0.2em;position: relative;}#sk-container-id-1 div.sk-item {position: relative;z-index: 1;}#sk-container-id-1 div.sk-parallel {display: flex;align-items: stretch;justify-content: center;background-color: white;position: relative;}#sk-container-id-1 div.sk-item::before, #sk-container-id-1 div.sk-parallel-item::before {content: \"\";position: absolute;border-left: 1px solid gray;box-sizing: border-box;top: 0;bottom: 0;left: 50%;z-index: -1;}#sk-container-id-1 div.sk-parallel-item {display: flex;flex-direction: column;z-index: 1;position: relative;background-color: white;}#sk-container-id-1 div.sk-parallel-item:first-child::after {align-self: flex-end;width: 50%;}#sk-container-id-1 div.sk-parallel-item:last-child::after {align-self: flex-start;width: 50%;}#sk-container-id-1 div.sk-parallel-item:only-child::after {width: 0;}#sk-container-id-1 div.sk-dashed-wrapped {border: 1px dashed gray;margin: 0 0.4em 0.5em 0.4em;box-sizing: border-box;padding-bottom: 0.4em;background-color: white;}#sk-container-id-1 div.sk-label label {font-family: monospace;font-weight: bold;display: inline-block;line-height: 1.2em;}#sk-container-id-1 div.sk-label-container {text-align: center;}#sk-container-id-1 div.sk-container {/* jupyter's `normalize.less` sets `[hidden] { display: none; }` but bootstrap.min.css set `[hidden] { display: none !important; }` so we also need the `!important` here to be able to override the default hidden behavior on the sphinx rendered scikit-learn.org. See: https://github.com/scikit-learn/scikit-learn/issues/21755 */display: inline-block !important;position: relative;}#sk-container-id-1 div.sk-text-repr-fallback {display: none;}</style><div id=\"sk-container-id-1\" class=\"sk-top-container\"><div class=\"sk-text-repr-fallback\"><pre>Pipeline(steps=[(&#x27;tfidf&#x27;, TfidfVectorizer()),\n",
       "                (&#x27;classifier&#x27;,\n",
       "                 VotingClassifier(estimators=[(&#x27;svm&#x27;, LinearSVC()),\n",
       "                                              (&#x27;rf&#x27;,\n",
       "                                               RandomForestClassifier())]))])</pre><b>In a Jupyter environment, please rerun this cell to show the HTML representation or trust the notebook. <br />On GitHub, the HTML representation is unable to render, please try loading this page with nbviewer.org.</b></div><div class=\"sk-container\" hidden><div class=\"sk-item sk-dashed-wrapped\"><div class=\"sk-label-container\"><div class=\"sk-label sk-toggleable\"><input class=\"sk-toggleable__control sk-hidden--visually\" id=\"sk-estimator-id-1\" type=\"checkbox\" ><label for=\"sk-estimator-id-1\" class=\"sk-toggleable__label sk-toggleable__label-arrow\">Pipeline</label><div class=\"sk-toggleable__content\"><pre>Pipeline(steps=[(&#x27;tfidf&#x27;, TfidfVectorizer()),\n",
       "                (&#x27;classifier&#x27;,\n",
       "                 VotingClassifier(estimators=[(&#x27;svm&#x27;, LinearSVC()),\n",
       "                                              (&#x27;rf&#x27;,\n",
       "                                               RandomForestClassifier())]))])</pre></div></div></div><div class=\"sk-serial\"><div class=\"sk-item\"><div class=\"sk-estimator sk-toggleable\"><input class=\"sk-toggleable__control sk-hidden--visually\" id=\"sk-estimator-id-2\" type=\"checkbox\" ><label for=\"sk-estimator-id-2\" class=\"sk-toggleable__label sk-toggleable__label-arrow\">TfidfVectorizer</label><div class=\"sk-toggleable__content\"><pre>TfidfVectorizer()</pre></div></div></div><div class=\"sk-item sk-dashed-wrapped\"><div class=\"sk-label-container\"><div class=\"sk-label sk-toggleable\"><input class=\"sk-toggleable__control sk-hidden--visually\" id=\"sk-estimator-id-3\" type=\"checkbox\" ><label for=\"sk-estimator-id-3\" class=\"sk-toggleable__label sk-toggleable__label-arrow\">classifier: VotingClassifier</label><div class=\"sk-toggleable__content\"><pre>VotingClassifier(estimators=[(&#x27;svm&#x27;, LinearSVC()),\n",
       "                             (&#x27;rf&#x27;, RandomForestClassifier())])</pre></div></div></div><div class=\"sk-parallel\"><div class=\"sk-parallel-item\"><div class=\"sk-item\"><div class=\"sk-label-container\"><div class=\"sk-label sk-toggleable\"><label>svm</label></div></div><div class=\"sk-serial\"><div class=\"sk-item\"><div class=\"sk-estimator sk-toggleable\"><input class=\"sk-toggleable__control sk-hidden--visually\" id=\"sk-estimator-id-4\" type=\"checkbox\" ><label for=\"sk-estimator-id-4\" class=\"sk-toggleable__label sk-toggleable__label-arrow\">LinearSVC</label><div class=\"sk-toggleable__content\"><pre>LinearSVC()</pre></div></div></div></div></div></div><div class=\"sk-parallel-item\"><div class=\"sk-item\"><div class=\"sk-label-container\"><div class=\"sk-label sk-toggleable\"><label>rf</label></div></div><div class=\"sk-serial\"><div class=\"sk-item\"><div class=\"sk-estimator sk-toggleable\"><input class=\"sk-toggleable__control sk-hidden--visually\" id=\"sk-estimator-id-5\" type=\"checkbox\" ><label for=\"sk-estimator-id-5\" class=\"sk-toggleable__label sk-toggleable__label-arrow\">RandomForestClassifier</label><div class=\"sk-toggleable__content\"><pre>RandomForestClassifier()</pre></div></div></div></div></div></div></div></div></div></div></div></div>"
      ],
      "text/plain": [
       "Pipeline(steps=[('tfidf', TfidfVectorizer()),\n",
       "                ('classifier',\n",
       "                 VotingClassifier(estimators=[('svm', LinearSVC()),\n",
       "                                              ('rf',\n",
       "                                               RandomForestClassifier())]))])"
      ]
     },
     "execution_count": 80,
     "metadata": {},
     "output_type": "execute_result"
    }
   ],
   "source": [
    "from sklearn.pipeline import Pipeline\n",
    "\n",
    "\n",
    "best_models = [\n",
    "    ('svm', LinearSVC()),\n",
    "    ('rf', RandomForestClassifier())\n",
    "]\n",
    "\n",
    "\n",
    "best_models_list = list(best_models)\n",
    "ensemble_classifier = VotingClassifier(estimators=best_models_list, voting='hard')\n",
    "pipeline = Pipeline([('tfidf', TfidfVectorizer()), ('classifier', ensemble_classifier)])\n",
    "pipeline.fit(summary_df1['preprocessed_sentence'], summary_df1['TBLabel'])"
   ]
  },
  {
   "cell_type": "code",
   "execution_count": 86,
   "id": "eae98728-4647-4e48-b1eb-296e42e5b252",
   "metadata": {},
   "outputs": [
    {
     "name": "stdout",
     "output_type": "stream",
     "text": [
      "Predicted label for the new data: postive\n"
     ]
    }
   ],
   "source": [
    "new_data = [PR['Summary'][1] ]\n",
    "predicted_label = pipeline.predict(new_data)[0]  \n",
    "print(\"Predicted label for the new data:\", predicted_label)"
   ]
  },
  {
   "cell_type": "code",
   "execution_count": 87,
   "id": "584447d3-2ed8-429e-8174-59f7e36e0ad0",
   "metadata": {},
   "outputs": [
    {
     "data": {
      "text/plain": [
       "'<br /><br />One of the best parts of the film is the set  One of the best visual effects in the film is at the end where Andrew and Dave suddenly discover their powers in this environment - they have the abilities to wish everything away, so what if they can do it the other way around and make things appear?<br /><br />\"Nothing\" is a bright and well-lit movie, it really helps promoting the idea of them probably being dead (this is in fact one of their theories), but \"Nothing\" is a comedy and it slowly destroys its own theory  He talks about him and André Bijelic having been room-mates at a time and they both were in this extremely dull room with no hope of getting out, \"Nothing\" could very well be the screened version of the origin of the Cube story, and to that end, it\\'s almost like one of the Cube prequels <br /><br />What can I say? I enjoyed \"Nothing\", it is a great movie and the different parts of the movie are extremely well-made with tons of intelligent ideas, still I feel the movie is missing something and I have problems finding out precisely what it is'"
      ]
     },
     "execution_count": 87,
     "metadata": {},
     "output_type": "execute_result"
    }
   ],
   "source": [
    "PR['Summary'][1]"
   ]
  },
  {
   "cell_type": "code",
   "execution_count": 90,
   "id": "b51c812c-18c4-47b7-a0cd-231a1748abe5",
   "metadata": {},
   "outputs": [],
   "source": [
    "import numpy as np\n",
    "\n",
    "PR['Summary'] = PR['Summary'].fillna('')\n",
    "predicted_labels = []\n",
    "for summary in PR['Summary']:\n",
    "    predicted_label = pipeline.predict([summary])[0]\n",
    "    predicted_labels.append(predicted_label)\n",
    "\n",
    "PR['Predicted_Label'] = predicted_labels"
   ]
  },
  {
   "cell_type": "code",
   "execution_count": 91,
   "id": "c28ca0c7-e8ed-4a3b-9894-24659cb75611",
   "metadata": {},
   "outputs": [
    {
     "data": {
      "text/html": [
       "<div>\n",
       "<style scoped>\n",
       "    .dataframe tbody tr th:only-of-type {\n",
       "        vertical-align: middle;\n",
       "    }\n",
       "\n",
       "    .dataframe tbody tr th {\n",
       "        vertical-align: top;\n",
       "    }\n",
       "\n",
       "    .dataframe thead th {\n",
       "        text-align: right;\n",
       "    }\n",
       "</style>\n",
       "<table border=\"1\" class=\"dataframe\">\n",
       "  <thead>\n",
       "    <tr style=\"text-align: right;\">\n",
       "      <th></th>\n",
       "      <th>Unnamed: 0</th>\n",
       "      <th>Summary</th>\n",
       "      <th>Predicted_Label</th>\n",
       "    </tr>\n",
       "  </thead>\n",
       "  <tbody>\n",
       "    <tr>\n",
       "      <th>0</th>\n",
       "      <td>0</td>\n",
       "      <td>Okay, so I'm not a big video game buff, but wa...</td>\n",
       "      <td>negative</td>\n",
       "    </tr>\n",
       "    <tr>\n",
       "      <th>1</th>\n",
       "      <td>1</td>\n",
       "      <td>&lt;br /&gt;&lt;br /&gt;One of the best parts of the film ...</td>\n",
       "      <td>postive</td>\n",
       "    </tr>\n",
       "  </tbody>\n",
       "</table>\n",
       "</div>"
      ],
      "text/plain": [
       "   Unnamed: 0                                            Summary  \\\n",
       "0           0  Okay, so I'm not a big video game buff, but wa...   \n",
       "1           1  <br /><br />One of the best parts of the film ...   \n",
       "\n",
       "  Predicted_Label  \n",
       "0        negative  \n",
       "1         postive  "
      ]
     },
     "execution_count": 91,
     "metadata": {},
     "output_type": "execute_result"
    }
   ],
   "source": [
    "PR.head(2)"
   ]
  },
  {
   "cell_type": "code",
   "execution_count": 93,
   "id": "043aa9de-4699-4238-bfe3-9fe3ed66dd5c",
   "metadata": {},
   "outputs": [
    {
     "data": {
      "image/png": "[encoded data removed]",
      "text/plain": [
       "<Figure size 1200x800 with 1 Axes>"
      ]
     },
     "metadata": {},
     "output_type": "display_data"
    }
   ],
   "source": [
    "import numpy as np\n",
    "import matplotlib.pyplot as plt\n",
    "from sklearn.model_selection import cross_val_score, StratifiedKFold\n",
    "from sklearn.pipeline import Pipeline\n",
    "from sklearn.ensemble import VotingClassifier\n",
    "from sklearn.svm import LinearSVC\n",
    "from sklearn.naive_bayes import MultinomialNB\n",
    "from sklearn.linear_model import LogisticRegression\n",
    "from sklearn.ensemble import RandomForestClassifier\n",
    "from sklearn.feature_extraction.text import TfidfVectorizer\n",
    "\n",
    "models = {\n",
    "    \"Linear SVC\": LinearSVC(),\n",
    "    \"Random Forest\": RandomForestClassifier(),\n",
    "    \"Ensemble (SVC, NB, LR, RF)\": VotingClassifier(\n",
    "        estimators=[\n",
    "            ('svc', LinearSVC()),\n",
    "            ('nb', MultinomialNB()),\n",
    "            ('lr', LogisticRegression()),\n",
    "            ('rf', RandomForestClassifier())\n",
    "        ],\n",
    "        voting='hard'\n",
    "    ),\n",
    "    \"Ensemble (SVC, RF)\": VotingClassifier(\n",
    "        estimators=[\n",
    "            ('svc', LinearSVC()),\n",
    "            ('rf', RandomForestClassifier())\n",
    "        ],\n",
    "        voting='hard'\n",
    "    )\n",
    "}\n",
    "\n",
    "folds = [2, 3]\n",
    "\n",
    "mean_accuracies = {}\n",
    "\n",
    "for model_name, model in models.items():\n",
    "    for fold in folds:\n",
    "        pipeline = Pipeline([\n",
    "            ('tfidf', TfidfVectorizer()),\n",
    "            ('classifier', model)\n",
    "        ])\n",
    "        cv = StratifiedKFold(n_splits=fold, shuffle=True, random_state=42)\n",
    "        cv_scores = cross_val_score(pipeline, summary_df1['preprocessed_sentence'], summary_df1['TBLabel'], cv=cv)\n",
    "        mean_accuracy = np.mean(cv_scores)\n",
    "        mean_accuracies[(model_name, fold)] = mean_accuracy\n",
    "\n",
    "fig, ax = plt.subplots(figsize=(12, 8))\n",
    "x = np.arange(len(models) * len(folds))\n",
    "labels = [f\"{model_name} ({fold}-fold CV)\" for model_name, fold in mean_accuracies.keys()]\n",
    "heights = mean_accuracies.values()\n",
    "ax.bar(x, heights, tick_label=labels)\n",
    "ax.set_ylabel('Mean Accuracy')\n",
    "ax.set_xticks(x)\n",
    "ax.set_xticklabels(labels, rotation=45, ha='right')\n",
    "ax.set_title('Mean Accuracy of Various Models with Different Cross-Validation Folds')\n",
    "plt.tight_layout()\n",
    "plt.show()\n"
   ]
  },
  {
   "cell_type": "code",
   "execution_count": null,
   "id": "8e5c788a-f7ae-4ddb-9dfd-c379c22529cc",
   "metadata": {},
   "outputs": [],
   "source": []
  }
 ],
 "metadata": {
  "kernelspec": {
   "display_name": "Python 3 (ipykernel)",
   "language": "python",
   "name": "python3"
  },
  "language_info": {
   "codemirror_mode": {
    "name": "ipython",
    "version": 3
   },
   "file_extension": ".py",
   "mimetype": "text/x-python",
   "name": "python",
   "nbconvert_exporter": "python",
   "pygments_lexer": "ipython3",
   "version": "3.12.1"
  }
 },
 "nbformat": 4,
 "nbformat_minor": 5
}
