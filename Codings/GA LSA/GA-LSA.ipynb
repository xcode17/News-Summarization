{
 "cells": [
  {
   "cell_type": "code",
   "execution_count": 2,
   "id": "af16c132-7f95-4df1-98d9-cce424858389",
   "metadata": {
    "editable": true,
    "slideshow": {
     "slide_type": ""
    },
    "tags": []
   },
   "outputs": [],
   "source": [
    " import pandas as pd"
   ]
  },
  {
   "cell_type": "code",
   "execution_count": 3,
   "id": "79070947-8156-4643-97f8-381b1d481f0a",
   "metadata": {},
   "outputs": [
    {
     "name": "stdout",
     "output_type": "stream",
     "text": [
      "                                                Reviews\n",
      "0     Okay, so I'm not a big video game buff, but wa...\n",
      "1     The premise of this movie has been tickling my...\n",
      "2     Jim Carrey is back to much the same role that ...\n",
      "3     I read several mixed reviews and several of th...\n",
      "4     Warning: Does contain spoilers.<br /><br />Ope...\n",
      "...                                                 ...\n",
      "7495  It was great to see some of my favorite stars ...\n",
      "7496  2 stars for Kay Francis -- she's wonderful! An...\n",
      "7497  I really wish i could give this a negative vot...\n",
      "7498  I love B movies..but come on....this wasn't ev...\n",
      "7499  As I said in my comment about the first part: ...\n",
      "\n",
      "[7500 rows x 1 columns]\n"
     ]
    }
   ],
   "source": [
    "data = pd.read_csv('data1.csv')\n",
    "data.drop(columns=['Unnamed: 0'], inplace=True)\n",
    "print(data)"
   ]
  },
  {
   "cell_type": "code",
   "execution_count": 4,
   "id": "206f6c5a-ac50-414f-a0aa-cff156fa7cab",
   "metadata": {},
   "outputs": [],
   "source": [
    "import re\n",
    "from nltk.corpus import stopwords\n",
    "from nltk.stem import WordNetLemmatizer\n",
    "from nltk.tokenize import word_tokenize\n",
    "from bs4 import BeautifulSoup\n",
    "import swifter"
   ]
  },
  {
   "cell_type": "code",
   "execution_count": 5,
   "id": "80a913f4-8703-47ff-8bf4-168905b77827",
   "metadata": {},
   "outputs": [
    {
     "data": {
      "application/vnd.jupyter.widget-view+json": {
       "model_id": "6850d0fcd6894761a72a23bf1439fb24",
       "version_major": 2,
       "version_minor": 0
      },
      "text/plain": [
       "Pandas Apply:   0%|          | 0/7500 [00:00<?, ?it/s]"
      ]
     },
     "metadata": {},
     "output_type": "display_data"
    },
    {
     "data": {
      "text/html": [
       "<div>\n",
       "<style scoped>\n",
       "    .dataframe tbody tr th:only-of-type {\n",
       "        vertical-align: middle;\n",
       "    }\n",
       "\n",
       "    .dataframe tbody tr th {\n",
       "        vertical-align: top;\n",
       "    }\n",
       "\n",
       "    .dataframe thead th {\n",
       "        text-align: right;\n",
       "    }\n",
       "</style>\n",
       "<table border=\"1\" class=\"dataframe\">\n",
       "  <thead>\n",
       "    <tr style=\"text-align: right;\">\n",
       "      <th></th>\n",
       "      <th>Reviews</th>\n",
       "      <th>processed</th>\n",
       "    </tr>\n",
       "  </thead>\n",
       "  <tbody>\n",
       "    <tr>\n",
       "      <th>0</th>\n",
       "      <td>Okay, so I'm not a big video game buff, but wa...</td>\n",
       "      <td>Okay, so I'm not a big video game buff, but wa...</td>\n",
       "    </tr>\n",
       "    <tr>\n",
       "      <th>1</th>\n",
       "      <td>The premise of this movie has been tickling my...</td>\n",
       "      <td>The premise of this movie has been tickling my...</td>\n",
       "    </tr>\n",
       "    <tr>\n",
       "      <th>2</th>\n",
       "      <td>Jim Carrey is back to much the same role that ...</td>\n",
       "      <td>Jim Carrey is back to much the same role that ...</td>\n",
       "    </tr>\n",
       "    <tr>\n",
       "      <th>3</th>\n",
       "      <td>I read several mixed reviews and several of th...</td>\n",
       "      <td>I read several mixed reviews and several of th...</td>\n",
       "    </tr>\n",
       "    <tr>\n",
       "      <th>4</th>\n",
       "      <td>Warning: Does contain spoilers.&lt;br /&gt;&lt;br /&gt;Ope...</td>\n",
       "      <td>Warning: Does contain spoilers.Open Your EyesI...</td>\n",
       "    </tr>\n",
       "  </tbody>\n",
       "</table>\n",
       "</div>"
      ],
      "text/plain": [
       "                                             Reviews  \\\n",
       "0  Okay, so I'm not a big video game buff, but wa...   \n",
       "1  The premise of this movie has been tickling my...   \n",
       "2  Jim Carrey is back to much the same role that ...   \n",
       "3  I read several mixed reviews and several of th...   \n",
       "4  Warning: Does contain spoilers.<br /><br />Ope...   \n",
       "\n",
       "                                           processed  \n",
       "0  Okay, so I'm not a big video game buff, but wa...  \n",
       "1  The premise of this movie has been tickling my...  \n",
       "2  Jim Carrey is back to much the same role that ...  \n",
       "3  I read several mixed reviews and several of th...  \n",
       "4  Warning: Does contain spoilers.Open Your EyesI...  "
      ]
     },
     "execution_count": 5,
     "metadata": {},
     "output_type": "execute_result"
    }
   ],
   "source": [
    "def remove_html(text):\n",
    "    soup = BeautifulSoup(text, 'html.parser')\n",
    "    return soup.get_text()\n",
    "\n",
    "data['processed']=data['Reviews'].swifter.apply(remove_html)\n",
    "data.head(5)"
   ]
  },
  {
   "cell_type": "code",
   "execution_count": 6,
   "id": "32fd0649-06a8-4c73-807d-467313d21375",
   "metadata": {},
   "outputs": [
    {
     "data": {
      "application/vnd.jupyter.widget-view+json": {
       "model_id": "7f9205f496fc473a872d13c4391c1340",
       "version_major": 2,
       "version_minor": 0
      },
      "text/plain": [
       "Pandas Apply:   0%|          | 0/7500 [00:00<?, ?it/s]"
      ]
     },
     "metadata": {},
     "output_type": "display_data"
    },
    {
     "data": {
      "text/html": [
       "<div>\n",
       "<style scoped>\n",
       "    .dataframe tbody tr th:only-of-type {\n",
       "        vertical-align: middle;\n",
       "    }\n",
       "\n",
       "    .dataframe tbody tr th {\n",
       "        vertical-align: top;\n",
       "    }\n",
       "\n",
       "    .dataframe thead th {\n",
       "        text-align: right;\n",
       "    }\n",
       "</style>\n",
       "<table border=\"1\" class=\"dataframe\">\n",
       "  <thead>\n",
       "    <tr style=\"text-align: right;\">\n",
       "      <th></th>\n",
       "      <th>Reviews</th>\n",
       "      <th>processed</th>\n",
       "    </tr>\n",
       "  </thead>\n",
       "  <tbody>\n",
       "    <tr>\n",
       "      <th>0</th>\n",
       "      <td>Okay, so I'm not a big video game buff, but wa...</td>\n",
       "      <td>Okay so I'm not a big video game buff but was ...</td>\n",
       "    </tr>\n",
       "    <tr>\n",
       "      <th>1</th>\n",
       "      <td>The premise of this movie has been tickling my...</td>\n",
       "      <td>The premise of this movie has been tickling my...</td>\n",
       "    </tr>\n",
       "    <tr>\n",
       "      <th>2</th>\n",
       "      <td>Jim Carrey is back to much the same role that ...</td>\n",
       "      <td>Jim Carrey is back to much the same role that ...</td>\n",
       "    </tr>\n",
       "    <tr>\n",
       "      <th>3</th>\n",
       "      <td>I read several mixed reviews and several of th...</td>\n",
       "      <td>I read several mixed reviews and several of th...</td>\n",
       "    </tr>\n",
       "    <tr>\n",
       "      <th>4</th>\n",
       "      <td>Warning: Does contain spoilers.&lt;br /&gt;&lt;br /&gt;Ope...</td>\n",
       "      <td>Warning Does contain spoilersOpen Your EyesIf ...</td>\n",
       "    </tr>\n",
       "  </tbody>\n",
       "</table>\n",
       "</div>"
      ],
      "text/plain": [
       "                                             Reviews  \\\n",
       "0  Okay, so I'm not a big video game buff, but wa...   \n",
       "1  The premise of this movie has been tickling my...   \n",
       "2  Jim Carrey is back to much the same role that ...   \n",
       "3  I read several mixed reviews and several of th...   \n",
       "4  Warning: Does contain spoilers.<br /><br />Ope...   \n",
       "\n",
       "                                           processed  \n",
       "0  Okay so I'm not a big video game buff but was ...  \n",
       "1  The premise of this movie has been tickling my...  \n",
       "2  Jim Carrey is back to much the same role that ...  \n",
       "3  I read several mixed reviews and several of th...  \n",
       "4  Warning Does contain spoilersOpen Your EyesIf ...  "
      ]
     },
     "execution_count": 6,
     "metadata": {},
     "output_type": "execute_result"
    }
   ],
   "source": [
    "def remove_splch(text):\n",
    "    text = re.sub(r'^[\\'\\s]*|[^\\w\\s\\'-]', '', text)\n",
    "    return text\n",
    "data['processed']=data['processed'].swifter.apply(remove_splch)\n",
    "data.head(5)"
   ]
  },
  {
   "cell_type": "code",
   "execution_count": 7,
   "id": "01b569b6-0468-44c3-9592-3af25c6128d9",
   "metadata": {},
   "outputs": [
    {
     "data": {
      "application/vnd.jupyter.widget-view+json": {
       "model_id": "cf8383f14398469d843b0c58b5d5bdab",
       "version_major": 2,
       "version_minor": 0
      },
      "text/plain": [
       "Pandas Apply:   0%|          | 0/7500 [00:00<?, ?it/s]"
      ]
     },
     "metadata": {},
     "output_type": "display_data"
    },
    {
     "data": {
      "text/html": [
       "<div>\n",
       "<style scoped>\n",
       "    .dataframe tbody tr th:only-of-type {\n",
       "        vertical-align: middle;\n",
       "    }\n",
       "\n",
       "    .dataframe tbody tr th {\n",
       "        vertical-align: top;\n",
       "    }\n",
       "\n",
       "    .dataframe thead th {\n",
       "        text-align: right;\n",
       "    }\n",
       "</style>\n",
       "<table border=\"1\" class=\"dataframe\">\n",
       "  <thead>\n",
       "    <tr style=\"text-align: right;\">\n",
       "      <th></th>\n",
       "      <th>Reviews</th>\n",
       "      <th>processed</th>\n",
       "    </tr>\n",
       "  </thead>\n",
       "  <tbody>\n",
       "    <tr>\n",
       "      <th>0</th>\n",
       "      <td>Okay, so I'm not a big video game buff, but wa...</td>\n",
       "      <td>[Okay, 'm, big, video, game, buff, game, House...</td>\n",
       "    </tr>\n",
       "    <tr>\n",
       "      <th>1</th>\n",
       "      <td>The premise of this movie has been tickling my...</td>\n",
       "      <td>[premise, movie, tickling, imagination, quite,...</td>\n",
       "    </tr>\n",
       "    <tr>\n",
       "      <th>2</th>\n",
       "      <td>Jim Carrey is back to much the same role that ...</td>\n",
       "      <td>[Jim, Carrey, back, much, role, played, Mask, ...</td>\n",
       "    </tr>\n",
       "    <tr>\n",
       "      <th>3</th>\n",
       "      <td>I read several mixed reviews and several of th...</td>\n",
       "      <td>[read, several, mixed, reviews, several, downr...</td>\n",
       "    </tr>\n",
       "    <tr>\n",
       "      <th>4</th>\n",
       "      <td>Warning: Does contain spoilers.&lt;br /&gt;&lt;br /&gt;Ope...</td>\n",
       "      <td>[Warning, contain, spoilersOpen, EyesIf, seen,...</td>\n",
       "    </tr>\n",
       "  </tbody>\n",
       "</table>\n",
       "</div>"
      ],
      "text/plain": [
       "                                             Reviews  \\\n",
       "0  Okay, so I'm not a big video game buff, but wa...   \n",
       "1  The premise of this movie has been tickling my...   \n",
       "2  Jim Carrey is back to much the same role that ...   \n",
       "3  I read several mixed reviews and several of th...   \n",
       "4  Warning: Does contain spoilers.<br /><br />Ope...   \n",
       "\n",
       "                                           processed  \n",
       "0  [Okay, 'm, big, video, game, buff, game, House...  \n",
       "1  [premise, movie, tickling, imagination, quite,...  \n",
       "2  [Jim, Carrey, back, much, role, played, Mask, ...  \n",
       "3  [read, several, mixed, reviews, several, downr...  \n",
       "4  [Warning, contain, spoilersOpen, EyesIf, seen,...  "
      ]
     },
     "execution_count": 7,
     "metadata": {},
     "output_type": "execute_result"
    }
   ],
   "source": [
    "def tokenize_and_remove_stopwords(text):\n",
    "    tokens = word_tokenize(text)\n",
    "    stop_words = set(stopwords.words('english'))\n",
    "    tokens = [token for token in tokens if token.lower() not in stop_words and len(token) > 1]\n",
    "    return tokens\n",
    "data['processed']=data['processed'].swifter.apply(tokenize_and_remove_stopwords)\n",
    "data.head(5)"
   ]
  },
  {
   "cell_type": "code",
   "execution_count": 8,
   "id": "7ae015fc-7729-4e21-96d7-82376e8f9516",
   "metadata": {},
   "outputs": [
    {
     "data": {
      "application/vnd.jupyter.widget-view+json": {
       "model_id": "8679e7f4b3d74343921e985c831eab31",
       "version_major": 2,
       "version_minor": 0
      },
      "text/plain": [
       "Pandas Apply:   0%|          | 0/7500 [00:00<?, ?it/s]"
      ]
     },
     "metadata": {},
     "output_type": "display_data"
    },
    {
     "data": {
      "text/html": [
       "<div>\n",
       "<style scoped>\n",
       "    .dataframe tbody tr th:only-of-type {\n",
       "        vertical-align: middle;\n",
       "    }\n",
       "\n",
       "    .dataframe tbody tr th {\n",
       "        vertical-align: top;\n",
       "    }\n",
       "\n",
       "    .dataframe thead th {\n",
       "        text-align: right;\n",
       "    }\n",
       "</style>\n",
       "<table border=\"1\" class=\"dataframe\">\n",
       "  <thead>\n",
       "    <tr style=\"text-align: right;\">\n",
       "      <th></th>\n",
       "      <th>Reviews</th>\n",
       "      <th>processed</th>\n",
       "    </tr>\n",
       "  </thead>\n",
       "  <tbody>\n",
       "    <tr>\n",
       "      <th>0</th>\n",
       "      <td>Okay, so I'm not a big video game buff, but wa...</td>\n",
       "      <td>[Okay, 'm, big, video, game, buff, game, House...</td>\n",
       "    </tr>\n",
       "    <tr>\n",
       "      <th>1</th>\n",
       "      <td>The premise of this movie has been tickling my...</td>\n",
       "      <td>[premise, movie, tickling, imagination, quite,...</td>\n",
       "    </tr>\n",
       "    <tr>\n",
       "      <th>2</th>\n",
       "      <td>Jim Carrey is back to much the same role that ...</td>\n",
       "      <td>[Jim, Carrey, back, much, role, played, Mask, ...</td>\n",
       "    </tr>\n",
       "    <tr>\n",
       "      <th>3</th>\n",
       "      <td>I read several mixed reviews and several of th...</td>\n",
       "      <td>[read, several, mixed, review, several, downri...</td>\n",
       "    </tr>\n",
       "    <tr>\n",
       "      <th>4</th>\n",
       "      <td>Warning: Does contain spoilers.&lt;br /&gt;&lt;br /&gt;Ope...</td>\n",
       "      <td>[Warning, contain, spoilersOpen, EyesIf, seen,...</td>\n",
       "    </tr>\n",
       "  </tbody>\n",
       "</table>\n",
       "</div>"
      ],
      "text/plain": [
       "                                             Reviews  \\\n",
       "0  Okay, so I'm not a big video game buff, but wa...   \n",
       "1  The premise of this movie has been tickling my...   \n",
       "2  Jim Carrey is back to much the same role that ...   \n",
       "3  I read several mixed reviews and several of th...   \n",
       "4  Warning: Does contain spoilers.<br /><br />Ope...   \n",
       "\n",
       "                                           processed  \n",
       "0  [Okay, 'm, big, video, game, buff, game, House...  \n",
       "1  [premise, movie, tickling, imagination, quite,...  \n",
       "2  [Jim, Carrey, back, much, role, played, Mask, ...  \n",
       "3  [read, several, mixed, review, several, downri...  \n",
       "4  [Warning, contain, spoilersOpen, EyesIf, seen,...  "
      ]
     },
     "execution_count": 8,
     "metadata": {},
     "output_type": "execute_result"
    }
   ],
   "source": [
    "def lemmatize(tokens):\n",
    "    lemmatizer = WordNetLemmatizer()\n",
    "    lemmatized_tokens = [lemmatizer.lemmatize(token) for token in tokens]\n",
    "    return lemmatized_tokens\n",
    "data['processed']=data['processed'].swifter.apply(lemmatize)\n",
    "data.head(5)"
   ]
  },
  {
   "cell_type": "code",
   "execution_count": 9,
   "id": "f20ddf83-ce1f-4f4d-9062-f5537b19895f",
   "metadata": {},
   "outputs": [
    {
     "data": {
      "application/vnd.jupyter.widget-view+json": {
       "model_id": "4163694a58b646dea9e1590e6889804a",
       "version_major": 2,
       "version_minor": 0
      },
      "text/plain": [
       "Pandas Apply:   0%|          | 0/7500 [00:00<?, ?it/s]"
      ]
     },
     "metadata": {},
     "output_type": "display_data"
    },
    {
     "data": {
      "text/plain": [
       "0    [okay, 'm, big, video, game, buff, game, house...\n",
       "1    [premise, movie, tickling, imagination, quite,...\n",
       "2    [jim, carrey, back, much, role, played, mask, ...\n",
       "3    [read, several, mixed, review, several, downri...\n",
       "4    [warning, contain, spoilersopen, eyesif, seen,...\n",
       "Name: processed, dtype: object"
      ]
     },
     "execution_count": 9,
     "metadata": {},
     "output_type": "execute_result"
    }
   ],
   "source": [
    "def lowercasing(tokens):\n",
    "    return [token.lower() for token in tokens]\n",
    "data['processed']=data['processed'].swifter.apply(lowercasing)\n",
    "data.processed.head(5)"
   ]
  },
  {
   "cell_type": "code",
   "execution_count": 10,
   "id": "d46f8033-69aa-4f13-bab6-edb3565440d2",
   "metadata": {},
   "outputs": [],
   "source": [
    "def lowlentok(tokens, min_length=3, max_length=1000):\n",
    "    return [token for token in tokens if min_length <= len(token) <= max_length]\n",
    "def remove_numerical_tokens(tokens):\n",
    "    return [token for token in tokens if not token.isdigit()]\n",
    "def additional_token_cleaning(tokens):\n",
    "    tokens = [re.sub(r'(.)\\1+', r'\\1\\1', token) for token in tokens]\n",
    "    tokens = [re.sub(r'\\{.*?\\}', '', token) for token in tokens]\n",
    "    return tokens"
   ]
  },
  {
   "cell_type": "code",
   "execution_count": 11,
   "id": "bfe83242-cfe3-4b55-bbff-8165b7e7fb7d",
   "metadata": {},
   "outputs": [
    {
     "data": {
      "application/vnd.jupyter.widget-view+json": {
       "model_id": "3081a7250d784f67a476fd5471f854fc",
       "version_major": 2,
       "version_minor": 0
      },
      "text/plain": [
       "Pandas Apply:   0%|          | 0/7500 [00:00<?, ?it/s]"
      ]
     },
     "metadata": {},
     "output_type": "display_data"
    },
    {
     "data": {
      "text/plain": [
       "0    [okay, big, video, game, buff, game, house, de...\n",
       "1    [premise, movie, tickling, imagination, quite,...\n",
       "2    [jim, carrey, back, much, role, played, mask, ...\n",
       "3    [read, several, mixed, review, several, downri...\n",
       "4    [warning, contain, spoilersopen, eyesif, seen,...\n",
       "Name: processed, dtype: object"
      ]
     },
     "execution_count": 11,
     "metadata": {},
     "output_type": "execute_result"
    }
   ],
   "source": [
    "data['processed']=data['processed'].swifter.apply(lowlentok)\n",
    "data.processed.head(5)"
   ]
  },
  {
   "cell_type": "code",
   "execution_count": 12,
   "id": "1ef8bd3f-6ec9-41b6-9cbc-8c57c87b6beb",
   "metadata": {},
   "outputs": [
    {
     "data": {
      "application/vnd.jupyter.widget-view+json": {
       "model_id": "2ea481af94ca4babaebd9a7526648368",
       "version_major": 2,
       "version_minor": 0
      },
      "text/plain": [
       "Pandas Apply:   0%|          | 0/7500 [00:00<?, ?it/s]"
      ]
     },
     "metadata": {},
     "output_type": "display_data"
    },
    {
     "data": {
      "text/plain": [
       "0    [okay, big, video, game, buff, game, house, de...\n",
       "1    [premise, movie, tickling, imagination, quite,...\n",
       "2    [jim, carrey, back, much, role, played, mask, ...\n",
       "3    [read, several, mixed, review, several, downri...\n",
       "4    [warning, contain, spoilersopen, eyesif, seen,...\n",
       "Name: processed, dtype: object"
      ]
     },
     "execution_count": 12,
     "metadata": {},
     "output_type": "execute_result"
    }
   ],
   "source": [
    "data['processed']=data['processed'].swifter.apply(remove_numerical_tokens)\n",
    "data.processed.head(5)"
   ]
  },
  {
   "cell_type": "code",
   "execution_count": 13,
   "id": "0ff963f7-b7be-4104-a31f-0b1bd51c95c6",
   "metadata": {},
   "outputs": [
    {
     "data": {
      "application/vnd.jupyter.widget-view+json": {
       "model_id": "95c80ef3be324b0d9ff0fbd1562df61d",
       "version_major": 2,
       "version_minor": 0
      },
      "text/plain": [
       "Pandas Apply:   0%|          | 0/7500 [00:00<?, ?it/s]"
      ]
     },
     "metadata": {},
     "output_type": "display_data"
    },
    {
     "data": {
      "text/plain": [
       "0    [okay, big, video, game, buff, game, house, de...\n",
       "1    [premise, movie, tickling, imagination, quite,...\n",
       "2    [jim, carrey, back, much, role, played, mask, ...\n",
       "3    [read, several, mixed, review, several, downri...\n",
       "4    [warning, contain, spoilersopen, eyesif, seen,...\n",
       "Name: processed, dtype: object"
      ]
     },
     "execution_count": 13,
     "metadata": {},
     "output_type": "execute_result"
    }
   ],
   "source": [
    "data['processed']=data['processed'].swifter.apply(additional_token_cleaning)\n",
    "data.processed.head(5)"
   ]
  },
  {
   "cell_type": "code",
   "execution_count": 14,
   "id": "c8274454-4168-4553-b653-90e1f2cab287",
   "metadata": {},
   "outputs": [
    {
     "data": {
      "application/vnd.jupyter.widget-view+json": {
       "model_id": "4a47dd9424b8408997dc38bcea3c8315",
       "version_major": 2,
       "version_minor": 0
      },
      "text/plain": [
       "Pandas Apply:   0%|          | 0/7500 [00:00<?, ?it/s]"
      ]
     },
     "metadata": {},
     "output_type": "display_data"
    },
    {
     "data": {
      "text/plain": [
       "0    [okay, big, video, game, buff, game, house, de...\n",
       "1    [premise, movie, tickling, imagination, quite,...\n",
       "2    [jim, carrey, back, much, role, played, mask, ...\n",
       "3    [read, several, mixed, review, several, downri...\n",
       "4    [warning, contain, spoilersopen, eyesif, seen,...\n",
       "Name: processed, dtype: object"
      ]
     },
     "execution_count": 14,
     "metadata": {},
     "output_type": "execute_result"
    }
   ],
   "source": [
    "def removetwn(tokens):\n",
    "    tokens_without_numerals = [token for token in tokens if not any(char.isdigit() for char in token)]\n",
    "    return tokens_without_numerals\n",
    "\n",
    "data['processed']=data['processed'].swifter.apply(removetwn)\n",
    "data.processed.head(5)"
   ]
  },
  {
   "cell_type": "code",
   "execution_count": 15,
   "id": "751c8574-4bee-47ca-b2b3-38733ef0c27a",
   "metadata": {},
   "outputs": [
    {
     "data": {
      "application/vnd.jupyter.widget-view+json": {
       "model_id": "7bc750c326af44119b7a6da3ff232ce9",
       "version_major": 2,
       "version_minor": 0
      },
      "text/plain": [
       "Pandas Apply:   0%|          | 0/7500 [00:00<?, ?it/s]"
      ]
     },
     "metadata": {},
     "output_type": "display_data"
    },
    {
     "data": {
      "text/plain": [
       "0    [okay, big, video, game, buff, game, house, de...\n",
       "1    [premise, movie, tickling, imagination, quite,...\n",
       "2    [jim, carrey, back, much, role, played, mask, ...\n",
       "3    [read, several, mixed, review, several, downri...\n",
       "4    [warning, contain, spoilersopen, eyesif, seen,...\n",
       "Name: processed, dtype: object"
      ]
     },
     "execution_count": 15,
     "metadata": {},
     "output_type": "execute_result"
    }
   ],
   "source": [
    "def spl(tokens):\n",
    "    preprocessed_tokens = []\n",
    "    for token in tokens:\n",
    "        token = re.sub(r'[^a-zA-Z]', '', token)\n",
    "        if token:\n",
    "            preprocessed_tokens.append(token.lower()) \n",
    "    return preprocessed_tokens\n",
    "\n",
    "data['processed']=data['processed'].swifter.apply(spl)\n",
    "data.processed.head(5)"
   ]
  },
  {
   "cell_type": "code",
   "execution_count": 16,
   "id": "b1ddeedb-ef2e-45d6-916b-a080598cbcce",
   "metadata": {},
   "outputs": [
    {
     "name": "stderr",
     "output_type": "stream",
     "text": [
      "[nltk_data] Downloading package words to\n",
      "[nltk_data]     C:\\Users\\akvnr\\AppData\\Roaming\\nltk_data...\n",
      "[nltk_data]   Package words is already up-to-date!\n"
     ]
    },
    {
     "data": {
      "application/vnd.jupyter.widget-view+json": {
       "model_id": "24e90d77bd4144e4bbb0f4181cd0be7c",
       "version_major": 2,
       "version_minor": 0
      },
      "text/plain": [
       "Pandas Apply:   0%|          | 0/7500 [00:00<?, ?it/s]"
      ]
     },
     "metadata": {},
     "output_type": "display_data"
    },
    {
     "data": {
      "application/vnd.jupyter.widget-view+json": {
       "model_id": "1bbc789e5ede4eb291050ab8a28dbe14",
       "version_major": 2,
       "version_minor": 0
      },
      "text/plain": [
       "Pandas Apply:   0%|          | 0/7500 [00:00<?, ?it/s]"
      ]
     },
     "metadata": {},
     "output_type": "display_data"
    },
    {
     "data": {
      "text/plain": [
       "0    [big, video, game, buff, game, house, dead, re...\n",
       "1    [premise, movie, tickling, imagination, quite,...\n",
       "2    [back, much, role, mask, timid, guy, trying, g...\n",
       "3    [read, several, mixed, review, several, downri...\n",
       "4    [warning, contain, seen, film, plan, stop, rea...\n",
       "Name: processed, dtype: object"
      ]
     },
     "execution_count": 16,
     "metadata": {},
     "output_type": "execute_result"
    }
   ],
   "source": [
    "import nltk\n",
    "nltk.download('words')\n",
    "from nltk.corpus import words\n",
    "english_vocab = set(words.words())\n",
    "\n",
    "def removenet(tokens):\n",
    "    english_tokens = []\n",
    "    for token in tokens:\n",
    "        if token.lower() in english_vocab:\n",
    "            english_tokens.append(token)\n",
    "    return english_tokens\n",
    "\n",
    "data['processed']=data['processed'].swifter.apply(removenet)\n",
    "data['processed']=data['processed'].swifter.apply(lowlentok)\n",
    "data.processed.head(5)"
   ]
  },
  {
   "cell_type": "code",
   "execution_count": 17,
   "id": "61af0a11-9881-4c17-8292-625d49f424d6",
   "metadata": {},
   "outputs": [
    {
     "name": "stdout",
     "output_type": "stream",
     "text": [
      "Vocabulary: ['aback' 'abandon' 'abandoned' ... 'zoo' 'zoom' 'zorro']\n",
      "TF-IDF Vector:\n",
      " [[0.00013324 0.00070426 0.00186533 ... 0.00022841 0.00053295 0.00020937]]\n"
     ]
    }
   ],
   "source": [
    "from sklearn.feature_extraction.text import TfidfVectorizer\n",
    "\n",
    "tokenized_sentences = data.processed.tolist()\n",
    "tokenized_words = [token for sublist in tokenized_sentences for token in sublist]\n",
    "documents = [' '.join(tokenized_words)]\n",
    "vectorizer = TfidfVectorizer()\n",
    "tfidf_vector = vectorizer.fit_transform(documents)\n",
    "tfidf_vector_array = tfidf_vector.toarray()\n",
    "print(\"Vocabulary:\", vectorizer.get_feature_names_out())\n",
    "print(\"TF-IDF Vector:\\n\", tfidf_vector_array)"
   ]
  },
  {
   "cell_type": "code",
   "execution_count": 18,
   "id": "bc6b98ed-b5bf-46ae-97dd-5bff28824dde",
   "metadata": {},
   "outputs": [],
   "source": [
    "from gensim.matutils import Sparse2Corpus\n",
    "from gensim import corpora, models\n",
    "\n",
    "corpus = Sparse2Corpus(tfidf_vector)\n",
    "dictionary = corpora.Dictionary.from_corpus(corpus, id2word={v: k for k, v in vectorizer.vocabulary_.items()})"
   ]
  },
  {
   "cell_type": "code",
   "execution_count": 19,
   "id": "806ee6c5-3458-4c3b-be45-569ef41a5865",
   "metadata": {},
   "outputs": [],
   "source": [
    "vocabulary = vectorizer.get_feature_names_out()"
   ]
  },
  {
   "cell_type": "code",
   "execution_count": 20,
   "id": "e0f4e5dd-62dc-423b-a8a9-ff0e42052335",
   "metadata": {},
   "outputs": [],
   "source": [
    "tfidf_matrix = tfidf_vector.reshape(-1, 1)  # Reshape if necessary"
   ]
  },
  {
   "cell_type": "code",
   "execution_count": 36,
   "id": "8dc6a96d-a23e-40ec-a689-223ca099f081",
   "metadata": {},
   "outputs": [],
   "source": [
    "import numpy as np\n",
    "import pandas as pd\n",
    "from sklearn.feature_extraction.text import CountVectorizer\n",
    "from sklearn.decomposition import TruncatedSVD\n",
    "from sklearn.metrics.pairwise import cosine_similarity\n",
    "from geneticalgorithm import geneticalgorithm as ga\n",
    "\n",
    "def preprocess_data(df):\n",
    "    tokenized_texts = [\" \".join(row) for row in df]\n",
    "    return tokenized_texts\n",
    "\n",
    "def train_lsa_model(tokenized_texts, n_components=10):\n",
    "    vectorizer = CountVectorizer()\n",
    "    X = vectorizer.fit_transform(tokenized_texts)\n",
    "    lsa_model = TruncatedSVD(n_components=n_components)\n",
    "    lsa_model.fit(X)\n",
    "    \n",
    "    return lsa_model, vectorizer\n",
    "\n",
    "def evaluate_lsa_model(lsa_model, vectorizer, tokenized_texts):\n",
    "    X_lsa = lsa_model.transform(vectorizer.transform(tokenized_texts))\n",
    "    similarity_matrix = cosine_similarity(X_lsa)\n",
    "    mean_similarity = np.mean(similarity_matrix)\n",
    "    \n",
    "    return -mean_similarity  \n",
    "\n",
    "def optimize_lsa_with_genetic_algorithm(df, n_components_range=(5, 11), pop_size=50, n_generations=10):\n",
    "    def eval_func(solution):\n",
    "        n_components = int(solution[0])\n",
    "        tokenized_texts = preprocess_data(df)\n",
    "        lsa_model, vectorizer = train_lsa_model(tokenized_texts, n_components=n_components)\n",
    "        fitness = evaluate_lsa_model(lsa_model, vectorizer, tokenized_texts)\n",
    "        return fitness\n",
    "    varbound = np.array([n_components_range]) \n",
    "    \n",
    "    algorithm_param = {'max_num_iteration': n_generations, 'population_size': pop_size}\n",
    "    model = ga(function=eval_func, dimension=1, variable_type='int', variable_boundaries=varbound)\n",
    "    \n",
    "    model.run()\n",
    "    \n",
    "    best_solution = model.output_dict['variable']\n",
    "    best_n_components = int(best_solution[0])\n",
    "    tokenized_texts = preprocess_data(df)\n",
    "    final_lsa_model, final_vectorizer = train_lsa_model(tokenized_texts, n_components=best_n_components)\n",
    "    \n",
    "    return final_lsa_model, final_vectorizer\n"
   ]
  },
  {
   "cell_type": "code",
   "execution_count": 37,
   "id": "368bb80b-c221-4011-9375-c66825a6c6e8",
   "metadata": {},
   "outputs": [
    {
     "name": "stdout",
     "output_type": "stream",
     "text": [
      " The best solution found:                                                                           \n",
      " [5.]\n",
      "\n",
      " Objective function:\n",
      " -0.6997424331315858\n"
     ]
    },
    {
     "data": {
      "image/png": "[encoded data removed]",
      "text/plain": [
       "<Figure size 640x480 with 1 Axes>"
      ]
     },
     "metadata": {},
     "output_type": "display_data"
    }
   ],
   "source": [
    "final_lsa_model, final_vectorizer = optimize_lsa_with_genetic_algorithm(data['processed'])"
   ]
  },
  {
   "cell_type": "code",
   "execution_count": 38,
   "id": "a9a9ffa7-b65e-4a86-a7fb-e85cefabae90",
   "metadata": {},
   "outputs": [
    {
     "data": {
      "text/html": [
       "<style>#sk-container-id-1 {color: black;}#sk-container-id-1 pre{padding: 0;}#sk-container-id-1 div.sk-toggleable {background-color: white;}#sk-container-id-1 label.sk-toggleable__label {cursor: pointer;display: block;width: 100%;margin-bottom: 0;padding: 0.3em;box-sizing: border-box;text-align: center;}#sk-container-id-1 label.sk-toggleable__label-arrow:before {content: \"▸\";float: left;margin-right: 0.25em;color: #696969;}#sk-container-id-1 label.sk-toggleable__label-arrow:hover:before {color: black;}#sk-container-id-1 div.sk-estimator:hover label.sk-toggleable__label-arrow:before {color: black;}#sk-container-id-1 div.sk-toggleable__content {max-height: 0;max-width: 0;overflow: hidden;text-align: left;background-color: #f0f8ff;}#sk-container-id-1 div.sk-toggleable__content pre {margin: 0.2em;color: black;border-radius: 0.25em;background-color: #f0f8ff;}#sk-container-id-1 input.sk-toggleable__control:checked~div.sk-toggleable__content {max-height: 200px;max-width: 100%;overflow: auto;}#sk-container-id-1 input.sk-toggleable__control:checked~label.sk-toggleable__label-arrow:before {content: \"▾\";}#sk-container-id-1 div.sk-estimator input.sk-toggleable__control:checked~label.sk-toggleable__label {background-color: #d4ebff;}#sk-container-id-1 div.sk-label input.sk-toggleable__control:checked~label.sk-toggleable__label {background-color: #d4ebff;}#sk-container-id-1 input.sk-hidden--visually {border: 0;clip: rect(1px 1px 1px 1px);clip: rect(1px, 1px, 1px, 1px);height: 1px;margin: -1px;overflow: hidden;padding: 0;position: absolute;width: 1px;}#sk-container-id-1 div.sk-estimator {font-family: monospace;background-color: #f0f8ff;border: 1px dotted black;border-radius: 0.25em;box-sizing: border-box;margin-bottom: 0.5em;}#sk-container-id-1 div.sk-estimator:hover {background-color: #d4ebff;}#sk-container-id-1 div.sk-parallel-item::after {content: \"\";width: 100%;border-bottom: 1px solid gray;flex-grow: 1;}#sk-container-id-1 div.sk-label:hover label.sk-toggleable__label {background-color: #d4ebff;}#sk-container-id-1 div.sk-serial::before {content: \"\";position: absolute;border-left: 1px solid gray;box-sizing: border-box;top: 0;bottom: 0;left: 50%;z-index: 0;}#sk-container-id-1 div.sk-serial {display: flex;flex-direction: column;align-items: center;background-color: white;padding-right: 0.2em;padding-left: 0.2em;position: relative;}#sk-container-id-1 div.sk-item {position: relative;z-index: 1;}#sk-container-id-1 div.sk-parallel {display: flex;align-items: stretch;justify-content: center;background-color: white;position: relative;}#sk-container-id-1 div.sk-item::before, #sk-container-id-1 div.sk-parallel-item::before {content: \"\";position: absolute;border-left: 1px solid gray;box-sizing: border-box;top: 0;bottom: 0;left: 50%;z-index: -1;}#sk-container-id-1 div.sk-parallel-item {display: flex;flex-direction: column;z-index: 1;position: relative;background-color: white;}#sk-container-id-1 div.sk-parallel-item:first-child::after {align-self: flex-end;width: 50%;}#sk-container-id-1 div.sk-parallel-item:last-child::after {align-self: flex-start;width: 50%;}#sk-container-id-1 div.sk-parallel-item:only-child::after {width: 0;}#sk-container-id-1 div.sk-dashed-wrapped {border: 1px dashed gray;margin: 0 0.4em 0.5em 0.4em;box-sizing: border-box;padding-bottom: 0.4em;background-color: white;}#sk-container-id-1 div.sk-label label {font-family: monospace;font-weight: bold;display: inline-block;line-height: 1.2em;}#sk-container-id-1 div.sk-label-container {text-align: center;}#sk-container-id-1 div.sk-container {/* jupyter's `normalize.less` sets `[hidden] { display: none; }` but bootstrap.min.css set `[hidden] { display: none !important; }` so we also need the `!important` here to be able to override the default hidden behavior on the sphinx rendered scikit-learn.org. See: https://github.com/scikit-learn/scikit-learn/issues/21755 */display: inline-block !important;position: relative;}#sk-container-id-1 div.sk-text-repr-fallback {display: none;}</style><div id=\"sk-container-id-1\" class=\"sk-top-container\"><div class=\"sk-text-repr-fallback\"><pre>TruncatedSVD(n_components=5)</pre><b>In a Jupyter environment, please rerun this cell to show the HTML representation or trust the notebook. <br />On GitHub, the HTML representation is unable to render, please try loading this page with nbviewer.org.</b></div><div class=\"sk-container\" hidden><div class=\"sk-item\"><div class=\"sk-estimator sk-toggleable\"><input class=\"sk-toggleable__control sk-hidden--visually\" id=\"sk-estimator-id-1\" type=\"checkbox\" checked><label for=\"sk-estimator-id-1\" class=\"sk-toggleable__label sk-toggleable__label-arrow\">TruncatedSVD</label><div class=\"sk-toggleable__content\"><pre>TruncatedSVD(n_components=5)</pre></div></div></div></div></div>"
      ],
      "text/plain": [
       "TruncatedSVD(n_components=5)"
      ]
     },
     "execution_count": 38,
     "metadata": {},
     "output_type": "execute_result"
    }
   ],
   "source": [
    "final_lsa_model"
   ]
  },
  {
   "cell_type": "code",
   "execution_count": null,
   "id": "73e7a5d4-62e9-495a-9be1-51e504849513",
   "metadata": {},
   "outputs": [],
   "source": []
  }
 ],
 "metadata": {
  "kernelspec": {
   "display_name": "Python 3 (ipykernel)",
   "language": "python",
   "name": "python3"
  },
  "language_info": {
   "codemirror_mode": {
    "name": "ipython",
    "version": 3
   },
   "file_extension": ".py",
   "mimetype": "text/x-python",
   "name": "python",
   "nbconvert_exporter": "python",
   "pygments_lexer": "ipython3",
   "version": "3.12.1"
  }
 },
 "nbformat": 4,
 "nbformat_minor": 5
}
