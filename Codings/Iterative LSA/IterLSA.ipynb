{
 "cells": [
  {
   "cell_type": "code",
   "execution_count": 1,
   "id": "69d374e4-b241-4e9d-bc2f-263e216571ca",
   "metadata": {},
   "outputs": [
    {
     "name": "stdout",
     "output_type": "stream",
     "text": [
      "                                                Reviews     label\n",
      "0     Okay, so I'm not a big video game buff, but wa...  negative\n",
      "1     The premise of this movie has been tickling my...   postive\n",
      "2     Jim Carrey is back to much the same role that ...   postive\n",
      "3     I read several mixed reviews and several of th...   postive\n",
      "4     Warning: Does contain spoilers.<br /><br />Ope...   postive\n",
      "...                                                 ...       ...\n",
      "7495  It was great to see some of my favorite stars ...  negative\n",
      "7496  2 stars for Kay Francis -- she's wonderful! An...  negative\n",
      "7497  I really wish i could give this a negative vot...  negative\n",
      "7498  I love B movies..but come on....this wasn't ev...  negative\n",
      "7499  As I said in my comment about the first part: ...   postive\n",
      "\n",
      "[7500 rows x 2 columns]\n",
      "(7500, 2)\n"
     ]
    }
   ],
   "source": [
    "import pandas as pd\n",
    "data=pd.read_csv('Data.csv')\n",
    "print(data)\n",
    "print(data.shape)"
   ]
  },
  {
   "cell_type": "code",
   "execution_count": 2,
   "id": "da95bdfd-3676-4c32-a0e7-5f0574a178b3",
   "metadata": {},
   "outputs": [],
   "source": [
    "from bs4 import BeautifulSoup\n",
    "from nltk.tokenize import word_tokenize\n",
    "from nltk.corpus import stopwords\n",
    "from nltk.stem import WordNetLemmatizer\n",
    "import re\n",
    "import string\n",
    "import contractions\n",
    "import swifter\n",
    "\n",
    "def tosentences(article):\n",
    "    sentences=article.split(\". \")\n",
    "    sentences=[sentence.strip() for sentence in sentences]\n",
    "    return sentences"
   ]
  },
  {
   "cell_type": "code",
   "execution_count": 3,
   "id": "5cbce85b-3d26-4bef-88d6-43c728b287f9",
   "metadata": {},
   "outputs": [
    {
     "data": {
      "application/vnd.jupyter.widget-view+json": {
       "model_id": "d107eb8a782148068252889d87ca0079",
       "version_major": 2,
       "version_minor": 0
      },
      "text/plain": [
       "Pandas Apply:   0%|          | 0/7500 [00:00<?, ?it/s]"
      ]
     },
     "metadata": {},
     "output_type": "display_data"
    }
   ],
   "source": [
    "data['sentence']=data['Reviews'].swifter.apply(tosentences)"
   ]
  },
  {
   "cell_type": "code",
   "execution_count": 4,
   "id": "6bc32582-7ab0-4a7e-b14a-6c50c32d1f6b",
   "metadata": {},
   "outputs": [],
   "source": [
    "def preprocess(sentences, min_word_length=2):\n",
    "    preprocessed_sentences = []\n",
    "    for sentence in sentences:\n",
    "        soup = BeautifulSoup(sentence, 'html.parser')\n",
    "        sentence = soup.get_text()\n",
    "        sentence = contractions.fix(sentence)\n",
    "        words = word_tokenize(sentence)\n",
    "        stop_words = set(stopwords.words('english'))\n",
    "        words = [word for word in words if word.lower() not in stop_words]\n",
    "        words = [re.sub(r'\\d+', '', word) for word in words]  \n",
    "        words = [re.sub(r'\\d', '', word) for word in words]   \n",
    "        words = [re.sub(r'(.)\\1+', r'\\1\\1', word) for word in words] \n",
    "        words = [re.sub(r'\\{.*?\\}', '', word) for word in words] \n",
    "        words = [re.sub(r'^[\\'\\s]*|[^\\w\\s\\'-]', '', word) for word in words] \n",
    "        words = [re.sub(r'\\.{3,}', '', word) for word in words]  \n",
    "        words = [re.sub(r'\\.{4,}', '', word) for word in words]  \n",
    "        words = [re.sub(r'\\.( +)', '.', word) for word in words] \n",
    "        words = [word for word in words if len(word) >= min_word_length and not word.isnumeric() and word not in string.punctuation]\n",
    "        lemmatizer = WordNetLemmatizer()\n",
    "        words = [lemmatizer.lemmatize(word) for word in words]\n",
    "        preprocessed_sentence = ' '.join(words)\n",
    "        preprocessed_sentences.append(preprocessed_sentence)\n",
    "    \n",
    "    return preprocessed_sentences"
   ]
  },
  {
   "cell_type": "code",
   "execution_count": 5,
   "id": "774c06b9-0bfe-4cc5-a0f4-5f6ddd2ef924",
   "metadata": {},
   "outputs": [
    {
     "data": {
      "application/vnd.jupyter.widget-view+json": {
       "model_id": "193067f6b27d4ec09f946c9df9ff24ec",
       "version_major": 2,
       "version_minor": 0
      },
      "text/plain": [
       "Pandas Apply:   0%|          | 0/7500 [00:00<?, ?it/s]"
      ]
     },
     "metadata": {},
     "output_type": "display_data"
    },
    {
     "name": "stderr",
     "output_type": "stream",
     "text": [
      "C:\\Users\\akvnr\\AppData\\Local\\Temp\\ipykernel_2628\\1479389325.py:4: MarkupResemblesLocatorWarning: The input looks more like a filename than markup. You may want to open this file and pass the filehandle into Beautiful Soup.\n",
      "  soup = BeautifulSoup(sentence, 'html.parser')\n"
     ]
    }
   ],
   "source": [
    "data['processed'] = data['sentence'].swifter.apply(preprocess)"
   ]
  },
  {
   "cell_type": "code",
   "execution_count": 6,
   "id": "10ae9798-c5e5-4992-8f0d-f8cbfd36bb4e",
   "metadata": {},
   "outputs": [
    {
     "data": {
      "text/plain": [
       "['Okay big video game buff game House Dead really famous enough make movie Sure went far actually put quick video game clip throughout movie though justifying particular scene violence dozen dozen game look exactly hand bottom screen supposedly holding whatever weapon goo-ing kind alien walking dead sniper whatever case may beIt interesting premise House Dead lot college kid LOADED college kid kid able pay fisherman something like ride miss boat trying get island supposed rave year',\n",
       " 'first thing come mind House Dead watching become increasingly clear modern horror movie become nothing exercise coming creative way get lot scantily clad teenager exactly situation',\n",
       " 'least case fact way rave excuse way girl dressed',\n",
       " 'look badly place running around wood cute little halter-tops least THOUGHT dressed occasionClint Howard tellingly interesting character film far delivers absolutely awful performance greatness overshadows every actor movie',\n",
       " 'stand well-known actor change accent movie rarely effective Howard show equally flat well-known actor pretend hardened fisherman raspy voice year breathing salty air',\n",
       " 'even rasp well',\n",
       " 'sounded like eating cinnamon roll shooting accidentally inhaled powdered sugar something',\n",
       " 'Real tough Clint expected agree part messOnce get island movie temporarily turn one Friday th movie took place Camp Crystal Lake',\n",
       " 'Lots teenager played actor way old part getting naked killed',\n",
       " 'nudity impressive guess let u consider something minute',\n",
       " 'kid pay almost two grand get island go Rave Year find ONE say well want beer Even guy pulled stack hundred wallet get think anything found full bar single solitary person sight',\n",
       " 'input director Uwe Boll alcohol notice party came consists one start drinking minding fact whole party seems vacated island one girl go dark wood find everyone dragging one girl one guy reluctantly along guy girl stay behind get smashed decide would great idea strip quickie alone',\n",
       " 'like expected find island empty rest people came gone little would privacy since one else around',\n",
       " 'Brilliant thing everyone hated judging review read movie',\n",
       " 'Yes intersplicing shot video game movie mostly order show yes movie faithful todirectly copying video game',\n",
       " 'Sure stupid idea',\n",
       " 'imagine thought little nugget worse Matrix-style bullet time scene thrown',\n",
       " 'first time point found pretentious cheesy movie like shot like though something original noticeable technique shot rather dramatic meaning creation kind tension filmOne thing make zombie film scary get edge seat slowly relentlessly coming living human much faster getting tired running place run terrifying shortage thing fight zombie',\n",
       " 'first two done right movie kid terrified lot place run since island since caught ride smuggler find heavily armed',\n",
       " 'mean strongly',\n",
       " 'mean people everything machine gun hand grenade remove tension impending walking deadThen call techno-slasher scene',\n",
       " 'Since rave never happened guess since Uwe Boll thought people going disappointed hearing techno music movie one scene right middle human fighting living dead amazingly enough turn something music video',\n",
       " 'techno music blasting shot edited together faster faster nothing blur gory shot mostly frame long second flashing across screen time speed techno music',\n",
       " 'Clever guess place horror movie completely remove sense scariness tension even gross-out effect see one thing long enough react',\n",
       " 'watching shot fly across screen wondering hell director thinking decided would good idea put something like movieI seen lot people compare movie Resident Evil mostly claiming copy premise exactly right',\n",
       " 'appreciate least case Resident Evil man-made virus turned people walking dead able infect people changing way vampire turn others vampire',\n",
       " 'Days Later also clearly inspiration movie bad House Dead single original thing except somewhat moronic idea putting quick shot video game based case forget',\n",
       " 'really think much better movie',\n",
       " 'obviously say know much game based title movie poster deserve much better movie unfortunately think often case horror movie',\n",
       " 'really kind sad movie come obviously advertised no-holds-barred horror film scariest thing entire movie closing shot suggests possibility sequel']"
      ]
     },
     "execution_count": 6,
     "metadata": {},
     "output_type": "execute_result"
    }
   ],
   "source": [
    "data['processed'][0]"
   ]
  },
  {
   "cell_type": "code",
   "execution_count": 7,
   "id": "3af8f047-3f8e-4a33-8fec-d84f84664233",
   "metadata": {},
   "outputs": [],
   "source": [
    "def wordtokenize(sentences):\n",
    "    tokenized_sentences = []\n",
    "    for sentence in sentences:\n",
    "        words = word_tokenize(sentence.lower())\n",
    "        tokenized_sentences.append(words)\n",
    "    return tokenized_sentences"
   ]
  },
  {
   "cell_type": "code",
   "execution_count": 8,
   "id": "4f034b1d-9e2f-4b40-9c49-ff4523ea69e0",
   "metadata": {},
   "outputs": [],
   "source": [
    "data['tok']=data['processed'].apply(wordtokenize)"
   ]
  },
  {
   "cell_type": "code",
   "execution_count": 9,
   "id": "cd7c02fd-0ebf-4e08-a660-52f8ca76ff54",
   "metadata": {},
   "outputs": [],
   "source": [
    "import numpy as np\n",
    "from gensim.models import LsiModel\n",
    "from gensim.corpora import Dictionary\n",
    "from gensim.models.coherencemodel import CoherenceModel\n",
    "from nltk.tokenize import word_tokenize\n",
    "from nltk.corpus import stopwords\n",
    "import string\n",
    "\n",
    "\n",
    "def Iterative(row, c=1):\n",
    "    num_runs = 6\n",
    "    num_topics = 5\n",
    "    tokenized_sentences = [word_tokenize(sentence) for sentence in row['processed']]\n",
    "    dictionary = Dictionary(tokenized_sentences)\n",
    "    corpus = [dictionary.doc2bow(doc) for doc in tokenized_sentences]\n",
    "    coherence_scores = []\n",
    "    lsa_models = []\n",
    "    t = []\n",
    "    for i in range(num_runs):\n",
    "        t.append(num_topics)\n",
    "        lsa_model = LsiModel(corpus=corpus, id2word=dictionary, num_topics=num_topics)\n",
    "        coherence_model = CoherenceModel(model=lsa_model, texts=tokenized_sentences, dictionary=dictionary, coherence='c_v')\n",
    "        coherence_score = coherence_model.get_coherence()\n",
    "        coherence_scores.append(coherence_score)\n",
    "        lsa_models.append(lsa_model)\n",
    "        num_topics += 1\n",
    "        \n",
    "    best_model_index = np.argmax(coherence_scores)\n",
    "    best_model = lsa_models[best_model_index]\n",
    "    \n",
    "    topic_words_list = []\n",
    "    for idx, topic in best_model.print_topics(-1):\n",
    "        topic_words = [word for word, _ in best_model.show_topic(idx)]\n",
    "        topic_words_list.append(topic_words)\n",
    "    \n",
    "    print(c, end=' ')\n",
    "    sentence_topic_distributions = []\n",
    "    for doc in corpus:\n",
    "        sentence_topic_distribution = best_model[doc]\n",
    "        sentence_topic_distributions.append(dict(sentence_topic_distribution))\n",
    "        \n",
    "    row['topic_words'] = topic_words_list\n",
    "    row['sentence_topic_distributions'] = sentence_topic_distributions\n",
    "    row['T'] = t\n",
    "    row['CS'] = coherence_scores\n",
    "    return row\n"
   ]
  },
  {
   "cell_type": "code",
   "execution_count": 14,
   "id": "e22e5457-c4c9-45e2-857d-18951c26221b",
   "metadata": {},
   "outputs": [],
   "source": [
    "df=data.iloc[:500]"
   ]
  },
  {
   "cell_type": "code",
   "execution_count": 15,
   "id": "99c158a8-20f1-492d-beda-3f03d79019f6",
   "metadata": {},
   "outputs": [
    {
     "name": "stdout",
     "output_type": "stream",
     "text": [
      "1 1 1 1 1 1 1 1 1 1 1 1 1 1 1 1 1 1 1 1 1 1 1 1 1 1 1 1 1 1 1 1 1 1 1 1 1 1 1 1 1 1 1 1 1 1 1 1 1 1 1 1 1 1 1 1 1 1 1 1 1 1 1 1 1 1 1 1 1 1 1 1 1 1 1 1 1 1 1 1 1 1 1 1 1 1 1 1 1 1 1 1 1 1 1 1 1 1 1 1 1 1 1 1 1 1 1 1 1 1 1 1 1 1 1 1 1 1 1 1 1 1 1 1 1 1 1 1 1 1 1 1 1 1 1 1 1 1 1 1 1 1 1 1 1 1 1 1 1 1 1 1 1 1 1 1 1 1 1 1 1 1 1 1 1 1 1 1 1 1 1 1 1 1 1 1 1 1 1 1 1 1 1 1 1 1 1 1 1 1 1 1 1 1 1 1 1 1 1 1 1 1 1 1 1 1 1 1 1 1 1 1 1 1 1 1 1 1 1 1 1 1 1 1 1 1 1 1 1 1 1 1 1 1 1 1 1 1 1 1 1 1 1 1 1 1 1 1 1 1 1 1 1 1 1 1 1 1 1 1 1 1 1 1 1 1 1 1 1 1 1 1 1 1 1 1 1 1 1 1 1 1 1 1 1 1 1 1 1 1 1 1 1 1 1 1 1 1 1 1 1 1 1 1 1 1 1 1 1 1 1 1 1 1 1 1 1 1 1 1 1 1 1 1 1 1 1 1 1 1 1 1 1 1 1 1 1 1 1 1 1 1 1 1 1 1 1 1 1 1 1 1 1 1 1 1 1 1 1 1 1 1 1 1 1 1 1 1 1 1 1 1 1 1 1 1 1 1 1 1 1 1 1 1 1 1 1 1 1 1 1 1 1 1 1 1 1 1 1 1 1 1 1 1 1 1 1 1 1 1 1 1 1 1 1 1 1 1 1 1 1 1 1 1 1 1 1 1 1 1 1 1 1 1 1 1 1 1 1 1 1 1 1 1 1 1 1 1 1 1 1 1 1 1 1 1 1 1 1 1 1 1 1 1 1 1 1 1 1 1 1 1 1 1 1 1 1 1 1 1 1 1 1 1 1 1 1 1 1 1 1 1 1 1 1 1 1 1 1 1 Execution Time: 226.12051972548167\n"
     ]
    }
   ],
   "source": [
    "import time\n",
    "from datetime import datetime\n",
    "start_time = time.time()\n",
    "Iter=df.apply(Iterative,axis=1)\n",
    "end_time = time.time()\n",
    "execution_time_seconds=end_time - start_time\n",
    "execution_time_formatted = execution_time_seconds/60\n",
    "print(\"Execution Time:\", execution_time_formatted)"
   ]
  },
  {
   "cell_type": "code",
   "execution_count": 1,
   "id": "06dc44e4-3743-49f3-b9b5-bcea6f7896bd",
   "metadata": {},
   "outputs": [
    {
     "data": {
      "text/html": [
       "<div>\n",
       "<style scoped>\n",
       "    .dataframe tbody tr th:only-of-type {\n",
       "        vertical-align: middle;\n",
       "    }\n",
       "\n",
       "    .dataframe tbody tr th {\n",
       "        vertical-align: top;\n",
       "    }\n",
       "\n",
       "    .dataframe thead th {\n",
       "        text-align: right;\n",
       "    }\n",
       "</style>\n",
       "<table border=\"1\" class=\"dataframe\">\n",
       "  <thead>\n",
       "    <tr style=\"text-align: right;\">\n",
       "      <th></th>\n",
       "      <th>Reviews</th>\n",
       "      <th>label</th>\n",
       "      <th>sentence</th>\n",
       "      <th>processed</th>\n",
       "      <th>tok</th>\n",
       "      <th>topic_words</th>\n",
       "      <th>sentence_topic_distributions</th>\n",
       "      <th>T</th>\n",
       "      <th>CS</th>\n",
       "    </tr>\n",
       "  </thead>\n",
       "  <tbody>\n",
       "    <tr>\n",
       "      <th>0</th>\n",
       "      <td>Okay, so I'm not a big video game buff, but wa...</td>\n",
       "      <td>negative</td>\n",
       "      <td>[\"Okay, so I'm not a big video game buff, but ...</td>\n",
       "      <td>['Okay big video game buff game House Dead rea...</td>\n",
       "      <td>[['okay', 'big', 'video', 'game', 'buff', 'gam...</td>\n",
       "      <td>[['movie', 'game', 'kid', 'video', 'Dead', 'Ho...</td>\n",
       "      <td>[{0: -9.563340356132766, 1: 2.3064089369354677...</td>\n",
       "      <td>[5, 6, 7, 8, 9, 10]</td>\n",
       "      <td>[0.6080425587455174, 0.6453362296427813, 0.633...</td>\n",
       "    </tr>\n",
       "    <tr>\n",
       "      <th>1</th>\n",
       "      <td>The premise of this movie has been tickling my...</td>\n",
       "      <td>postive</td>\n",
       "      <td>['The premise of this movie has been tickling ...</td>\n",
       "      <td>['premise movie tickling imagination quite tim...</td>\n",
       "      <td>[['premise', 'movie', 'tickling', 'imagination...</td>\n",
       "      <td>[['film', 'Nothing', 'movie', 'one', 'Andrew',...</td>\n",
       "      <td>[{0: -0.40495483402481325, 1: 0.45042548266611...</td>\n",
       "      <td>[5, 6, 7, 8, 9, 10]</td>\n",
       "      <td>[0.5711366525657644, 0.5081707558649932, 0.516...</td>\n",
       "    </tr>\n",
       "    <tr>\n",
       "      <th>2</th>\n",
       "      <td>Jim Carrey is back to much the same role that ...</td>\n",
       "      <td>postive</td>\n",
       "      <td>['Jim Carrey is back to much the same role tha...</td>\n",
       "      <td>['Jim Carrey back much role played Mask timid ...</td>\n",
       "      <td>[['jim', 'carrey', 'back', 'much', 'role', 'pl...</td>\n",
       "      <td>[['scene', 'Bruce', 'film', 'movie', 'one', 'c...</td>\n",
       "      <td>[{0: 0.3012661348922423, 1: -0.440155869681067...</td>\n",
       "      <td>[5, 6, 7, 8, 9, 10]</td>\n",
       "      <td>[0.6015610140516074, 0.6153721211779221, 0.565...</td>\n",
       "    </tr>\n",
       "    <tr>\n",
       "      <th>3</th>\n",
       "      <td>I read several mixed reviews and several of th...</td>\n",
       "      <td>postive</td>\n",
       "      <td>['I read several mixed reviews and several of ...</td>\n",
       "      <td>['read several mixed review several downright ...</td>\n",
       "      <td>[['read', 'several', 'mixed', 'review', 'sever...</td>\n",
       "      <td>[['character', 'true', 'rang', 'made', 'movie'...</td>\n",
       "      <td>[{0: 0.28997331771769996, 1: -0.65833835760956...</td>\n",
       "      <td>[5, 6, 7, 8, 9, 10]</td>\n",
       "      <td>[0.6178353332728327, 0.5874098357180422, 0.534...</td>\n",
       "    </tr>\n",
       "    <tr>\n",
       "      <th>4</th>\n",
       "      <td>Warning: Does contain spoilers.&lt;br /&gt;&lt;br /&gt;Ope...</td>\n",
       "      <td>postive</td>\n",
       "      <td>['Warning: Does contain spoilers.&lt;br /&gt;&lt;br /&gt;O...</td>\n",
       "      <td>['Warning contain spoilersOpen EyesIf seen fil...</td>\n",
       "      <td>[['warning', 'contain', 'spoilersopen', 'eyesi...</td>\n",
       "      <td>[['best', 'film', 'one', 'David', 'love', 'wou...</td>\n",
       "      <td>[{0: -0.4648135331248382, 1: 0.839586123485517...</td>\n",
       "      <td>[5, 6, 7, 8, 9, 10]</td>\n",
       "      <td>[0.5415434347270964, 0.5083497002681523, 0.726...</td>\n",
       "    </tr>\n",
       "    <tr>\n",
       "      <th>...</th>\n",
       "      <td>...</td>\n",
       "      <td>...</td>\n",
       "      <td>...</td>\n",
       "      <td>...</td>\n",
       "      <td>...</td>\n",
       "      <td>...</td>\n",
       "      <td>...</td>\n",
       "      <td>...</td>\n",
       "      <td>...</td>\n",
       "    </tr>\n",
       "    <tr>\n",
       "      <th>495</th>\n",
       "      <td>The key to the joy and beauty, the pain and sa...</td>\n",
       "      <td>postive</td>\n",
       "      <td>[\"The key to the joy and beauty, the pain and ...</td>\n",
       "      <td>['key joy beauty pain sadness life ability acc...</td>\n",
       "      <td>[['key', 'joy', 'beauty', 'pain', 'sadness', '...</td>\n",
       "      <td>[['u', 'film', 'truth', 'like', 'Elegant', 'di...</td>\n",
       "      <td>[{0: 0.8715927315182397, 1: -1.053990799313440...</td>\n",
       "      <td>[5, 6, 7, 8, 9, 10]</td>\n",
       "      <td>[0.40147151074422693, 0.3911413403621366, 0.32...</td>\n",
       "    </tr>\n",
       "    <tr>\n",
       "      <th>496</th>\n",
       "      <td>This film started out very promising with the ...</td>\n",
       "      <td>negative</td>\n",
       "      <td>['This film started out very promising with th...</td>\n",
       "      <td>['film started promising story director loses ...</td>\n",
       "      <td>[['film', 'started', 'promising', 'story', 'di...</td>\n",
       "      <td>[['story', 'ship', 'character', 'completely', ...</td>\n",
       "      <td>[{0: 0.5071761445409922, 1: -1.215106178908501...</td>\n",
       "      <td>[5, 6, 7, 8, 9, 10]</td>\n",
       "      <td>[0.2140735572012989, 0.28001564482980396, 0.44...</td>\n",
       "    </tr>\n",
       "    <tr>\n",
       "      <th>497</th>\n",
       "      <td>This film is one of the best shorts I've ever ...</td>\n",
       "      <td>postive</td>\n",
       "      <td>['This film is one of the best shorts I\\'ve ev...</td>\n",
       "      <td>['film one best short ever seen make point maj...</td>\n",
       "      <td>[['film', 'one', 'best', 'short', 'ever', 'see...</td>\n",
       "      <td>[['film', 'story', 'sound', 'festival', 'shot'...</td>\n",
       "      <td>[{0: 2.0870317136553203, 1: -3.456452297021746...</td>\n",
       "      <td>[5, 6, 7, 8, 9, 10]</td>\n",
       "      <td>[0.6157121859390351, 0.7466281949146832, 0.548...</td>\n",
       "    </tr>\n",
       "    <tr>\n",
       "      <th>498</th>\n",
       "      <td>I am amazed at the amount of praise that is he...</td>\n",
       "      <td>negative</td>\n",
       "      <td>['I am amazed at the amount of praise that is ...</td>\n",
       "      <td>['amazed amount praise heaped movie commentato...</td>\n",
       "      <td>[['amazed', 'amount', 'praise', 'heaped', 'mov...</td>\n",
       "      <td>[['American', 'wife', 'Campbell', 'Jr', 'Germa...</td>\n",
       "      <td>[{0: 0.05967898219039863, 1: -0.13416663613579...</td>\n",
       "      <td>[5, 6, 7, 8, 9, 10]</td>\n",
       "      <td>[0.7324506831623487, 0.9842891738831598, 0.908...</td>\n",
       "    </tr>\n",
       "    <tr>\n",
       "      <th>499</th>\n",
       "      <td>This was basically an attempt to do the same t...</td>\n",
       "      <td>postive</td>\n",
       "      <td>['This was basically an attempt to do the same...</td>\n",
       "      <td>['basically attempt thing Batman done Gilligan...</td>\n",
       "      <td>[['basically', 'attempt', 'thing', 'batman', '...</td>\n",
       "      <td>[['Gilligan', 'Island', 'Surviving', 'show', '...</td>\n",
       "      <td>[{0: 9.198504956903768, 1: 0.8053763021824775,...</td>\n",
       "      <td>[5, 6, 7, 8, 9, 10]</td>\n",
       "      <td>[0.6187306462906591, 0.590184138868238, 0.5875...</td>\n",
       "    </tr>\n",
       "  </tbody>\n",
       "</table>\n",
       "<p>500 rows × 9 columns</p>\n",
       "</div>"
      ],
      "text/plain": [
       "                                               Reviews     label  \\\n",
       "0    Okay, so I'm not a big video game buff, but wa...  negative   \n",
       "1    The premise of this movie has been tickling my...   postive   \n",
       "2    Jim Carrey is back to much the same role that ...   postive   \n",
       "3    I read several mixed reviews and several of th...   postive   \n",
       "4    Warning: Does contain spoilers.<br /><br />Ope...   postive   \n",
       "..                                                 ...       ...   \n",
       "495  The key to the joy and beauty, the pain and sa...   postive   \n",
       "496  This film started out very promising with the ...  negative   \n",
       "497  This film is one of the best shorts I've ever ...   postive   \n",
       "498  I am amazed at the amount of praise that is he...  negative   \n",
       "499  This was basically an attempt to do the same t...   postive   \n",
       "\n",
       "                                              sentence  \\\n",
       "0    [\"Okay, so I'm not a big video game buff, but ...   \n",
       "1    ['The premise of this movie has been tickling ...   \n",
       "2    ['Jim Carrey is back to much the same role tha...   \n",
       "3    ['I read several mixed reviews and several of ...   \n",
       "4    ['Warning: Does contain spoilers.<br /><br />O...   \n",
       "..                                                 ...   \n",
       "495  [\"The key to the joy and beauty, the pain and ...   \n",
       "496  ['This film started out very promising with th...   \n",
       "497  ['This film is one of the best shorts I\\'ve ev...   \n",
       "498  ['I am amazed at the amount of praise that is ...   \n",
       "499  ['This was basically an attempt to do the same...   \n",
       "\n",
       "                                             processed  \\\n",
       "0    ['Okay big video game buff game House Dead rea...   \n",
       "1    ['premise movie tickling imagination quite tim...   \n",
       "2    ['Jim Carrey back much role played Mask timid ...   \n",
       "3    ['read several mixed review several downright ...   \n",
       "4    ['Warning contain spoilersOpen EyesIf seen fil...   \n",
       "..                                                 ...   \n",
       "495  ['key joy beauty pain sadness life ability acc...   \n",
       "496  ['film started promising story director loses ...   \n",
       "497  ['film one best short ever seen make point maj...   \n",
       "498  ['amazed amount praise heaped movie commentato...   \n",
       "499  ['basically attempt thing Batman done Gilligan...   \n",
       "\n",
       "                                                   tok  \\\n",
       "0    [['okay', 'big', 'video', 'game', 'buff', 'gam...   \n",
       "1    [['premise', 'movie', 'tickling', 'imagination...   \n",
       "2    [['jim', 'carrey', 'back', 'much', 'role', 'pl...   \n",
       "3    [['read', 'several', 'mixed', 'review', 'sever...   \n",
       "4    [['warning', 'contain', 'spoilersopen', 'eyesi...   \n",
       "..                                                 ...   \n",
       "495  [['key', 'joy', 'beauty', 'pain', 'sadness', '...   \n",
       "496  [['film', 'started', 'promising', 'story', 'di...   \n",
       "497  [['film', 'one', 'best', 'short', 'ever', 'see...   \n",
       "498  [['amazed', 'amount', 'praise', 'heaped', 'mov...   \n",
       "499  [['basically', 'attempt', 'thing', 'batman', '...   \n",
       "\n",
       "                                           topic_words  \\\n",
       "0    [['movie', 'game', 'kid', 'video', 'Dead', 'Ho...   \n",
       "1    [['film', 'Nothing', 'movie', 'one', 'Andrew',...   \n",
       "2    [['scene', 'Bruce', 'film', 'movie', 'one', 'c...   \n",
       "3    [['character', 'true', 'rang', 'made', 'movie'...   \n",
       "4    [['best', 'film', 'one', 'David', 'love', 'wou...   \n",
       "..                                                 ...   \n",
       "495  [['u', 'film', 'truth', 'like', 'Elegant', 'di...   \n",
       "496  [['story', 'ship', 'character', 'completely', ...   \n",
       "497  [['film', 'story', 'sound', 'festival', 'shot'...   \n",
       "498  [['American', 'wife', 'Campbell', 'Jr', 'Germa...   \n",
       "499  [['Gilligan', 'Island', 'Surviving', 'show', '...   \n",
       "\n",
       "                          sentence_topic_distributions                    T  \\\n",
       "0    [{0: -9.563340356132766, 1: 2.3064089369354677...  [5, 6, 7, 8, 9, 10]   \n",
       "1    [{0: -0.40495483402481325, 1: 0.45042548266611...  [5, 6, 7, 8, 9, 10]   \n",
       "2    [{0: 0.3012661348922423, 1: -0.440155869681067...  [5, 6, 7, 8, 9, 10]   \n",
       "3    [{0: 0.28997331771769996, 1: -0.65833835760956...  [5, 6, 7, 8, 9, 10]   \n",
       "4    [{0: -0.4648135331248382, 1: 0.839586123485517...  [5, 6, 7, 8, 9, 10]   \n",
       "..                                                 ...                  ...   \n",
       "495  [{0: 0.8715927315182397, 1: -1.053990799313440...  [5, 6, 7, 8, 9, 10]   \n",
       "496  [{0: 0.5071761445409922, 1: -1.215106178908501...  [5, 6, 7, 8, 9, 10]   \n",
       "497  [{0: 2.0870317136553203, 1: -3.456452297021746...  [5, 6, 7, 8, 9, 10]   \n",
       "498  [{0: 0.05967898219039863, 1: -0.13416663613579...  [5, 6, 7, 8, 9, 10]   \n",
       "499  [{0: 9.198504956903768, 1: 0.8053763021824775,...  [5, 6, 7, 8, 9, 10]   \n",
       "\n",
       "                                                    CS  \n",
       "0    [0.6080425587455174, 0.6453362296427813, 0.633...  \n",
       "1    [0.5711366525657644, 0.5081707558649932, 0.516...  \n",
       "2    [0.6015610140516074, 0.6153721211779221, 0.565...  \n",
       "3    [0.6178353332728327, 0.5874098357180422, 0.534...  \n",
       "4    [0.5415434347270964, 0.5083497002681523, 0.726...  \n",
       "..                                                 ...  \n",
       "495  [0.40147151074422693, 0.3911413403621366, 0.32...  \n",
       "496  [0.2140735572012989, 0.28001564482980396, 0.44...  \n",
       "497  [0.6157121859390351, 0.7466281949146832, 0.548...  \n",
       "498  [0.7324506831623487, 0.9842891738831598, 0.908...  \n",
       "499  [0.6187306462906591, 0.590184138868238, 0.5875...  \n",
       "\n",
       "[500 rows x 9 columns]"
      ]
     },
     "execution_count": 1,
     "metadata": {},
     "output_type": "execute_result"
    }
   ],
   "source": [
    "import pandas as pd \n",
    "Iter =pd.read_csv('TSDA2.csv')\n",
    "Iter"
   ]
  },
  {
   "cell_type": "code",
   "execution_count": 2,
   "id": "991a701a-9501-4ae5-bde5-9e930a23f7d8",
   "metadata": {},
   "outputs": [
    {
     "data": {
      "image/png": "[encoded data removed]",
      "text/plain": [
       "<Figure size 640x480 with 1 Axes>"
      ]
     },
     "metadata": {},
     "output_type": "display_data"
    },
    {
     "data": {
      "image/png": "[encoded data removed]",
      "text/plain": [
       "<Figure size 640x480 with 1 Axes>"
      ]
     },
     "metadata": {},
     "output_type": "display_data"
    },
    {
     "data": {
      "image/png": "[encoded data removed]",
      "text/plain": [
       "<Figure size 640x480 with 1 Axes>"
      ]
     },
     "metadata": {},
     "output_type": "display_data"
    }
   ],
   "source": [
    "import matplotlib.pyplot as plt\n",
    "\n",
    "def plotnc(x, y, i):\n",
    "    if isinstance(x, str):\n",
    "        x = eval(x)\n",
    "    if isinstance(y, str):\n",
    "        y = eval(y)\n",
    "    x = [int(val) for val in x]\n",
    "    y = [float(val) for val in y]\n",
    "    plt.plot(x, y, marker='o', linestyle='-')\n",
    "    plt.xlabel('Number of Topics')\n",
    "    plt.ylabel('Coherence Score')\n",
    "    plt.title('Number of Topics vs Coherence Score For Sample Document ' + str(i))\n",
    "    plt.grid(True)\n",
    "    plt.show()\n",
    "\n",
    "for i in range(3):\n",
    "    x_values = Iter['T'][i] \n",
    "    y_values = Iter['CS'][i]\n",
    "    plotnc(x_values, y_values, i)\n"
   ]
  },
  {
   "cell_type": "code",
   "execution_count": 3,
   "id": "bbeaebfe-bf5c-47a9-9f11-5526aa31987b",
   "metadata": {},
   "outputs": [
    {
     "data": {
      "text/plain": [
       "'[{0: -9.563340356132766, 1: 2.3064089369354677, 2: -2.9052659497700613, 3: 1.3525845070383833, 4: -0.22484784316593678, 5: 0.575905594235386}, {0: -1.5275578227859297, 1: -0.3145519801842568, 2: 1.0847258510181106, 3: -0.6629306190845359, 4: 0.8838044599222631, 5: -0.5102867796586236}, {0: -0.3088996890140324, 1: -0.4640240387804256, 2: -0.1885809322389116, 3: -0.25546207375691915, 4: -0.10807986398428165, 5: 0.154504400062743}, {0: -0.9327649153111556, 1: -0.3469102450292544, 2: 0.753293519995165, 3: -1.3185035149189368, 4: 0.9638048777083433, 5: 0.952879614742957}, {0: -0.7064454164103598, 1: -0.017224245242933277, 2: 0.37519810016551103, 3: -1.6944394324525032, 4: 0.827718280745599, 5: 0.690031406699123}, {0: -0.015167021009033426, 1: -0.03072754321078456, 2: 0.008105889111817194, 3: 0.011792599301349817, 4: 0.07186349248452766, 5: -0.14728092508143528}, {0: -0.27197239390958644, 1: -0.058280356563301196, 2: 0.27724675223664574, 3: 0.3346664619555472, 4: -0.24354736985369554, 5: 0.04152871335104647}, {0: -1.3016988919420878, 1: -1.2214711257084185, 2: 0.6225369556499405, 3: -1.58187011383142, 4: 0.907388383372671, 5: -0.6688091350883534}, {0: -0.0874040249688284, 1: -0.07375602245295146, 2: 0.1835223181470017, 3: -0.18646812581804695, 4: 0.15036929997316922, 5: 0.053303804506031886}, {0: -0.1487562882571789, 1: -0.05036725247909648, 2: 0.11559068810418331, 3: 0.011231956523443238, 4: -0.2617052635788657, 5: -0.06151666800942319}, {0: -1.066829854637899, 1: -1.28344784740759, 2: -0.4159169586321897, 3: 1.4010733169801775, 4: 2.3133407649154387, 5: -4.5211721583740445}, {0: -1.1040962312309444, 1: -7.5578065361623255, 2: -2.604174224861612, 3: 0.5011000458624605, 4: 0.05820159023151464, 5: 1.351563386897831}, {0: -0.5153111933131473, 1: -1.3063366204016988, 2: -0.0970013196034311, 3: -0.06883013735902145, 4: -0.31740429856867935, 5: -0.5142920948772001}, {0: -0.4955757452280047, 1: -0.2453666218048894, 2: 0.5340327882738081, 3: -0.5165469603117504, 4: 0.34284873071620187, 5: 0.15442787769445548}, {0: -2.1686572667032586, 1: 0.18153973137343116, 2: 0.5850131100434152, 3: -1.5298006333912937, 4: -0.015082039246196655, 5: 0.33898818341815184}, {0: -0.11277721038842181, 1: -0.08422518623938383, 2: -0.062293051926339583, 3: 0.013307341628327569, 4: -0.05541023043808211, 5: 0.05459877431563775}, {0: -0.14862004970656167, 1: -0.060064871468819926, 2: 0.12309570927025117, 3: 0.015441125629933463, 4: -0.3120609392348381, 5: -0.07489798978024971}, {0: -2.5261187290365195, 1: -1.408397794732736, 2: 5.804304256469641, 3: 3.2931264218748377, 4: 0.5272507610245823, 5: 1.0465838954260114}, {0: -1.2594576838581817, 1: -0.558279406209797, 2: 0.4233638671896796, 3: -0.4326907584928968, 4: 0.39388042875734697, 5: -1.3966281688761284}, {0: -0.0027579650541664615, 1: -0.00028581255842901183, 2: 0.0003710048159728015, 3: -0.0005196021268731522, 4: -0.015032711322201922, 5: -0.006025927034693835}, {0: -0.3514050889452137, 1: -0.02040608445844183, 2: 0.022558878031856484, 3: -0.019663900984357684, 4: -0.5442826741794001, 5: -0.18376116161130554}, {0: -1.6207011502143112, 1: -1.2801343046247042, 2: 0.5913866157654346, 3: -1.4794867186381262, 4: -3.0608526901121387, 5: -1.290958317629928}, {0: -0.6170652328665656, 1: -0.4720065251001507, 2: 1.7393831512964868, 3: 0.18108733568975427, 4: -3.0849791748698143, 5: -0.9802359148312527}, {0: -0.85050345051258, 1: -0.8796709729082166, 2: 0.9006881318672381, 3: -0.9665850159214521, 4: 0.21672516351433851, 5: 0.17710864461136097}, {0: -1.6078520382475363, 1: -0.6936452365243355, 2: 1.0751794911961374, 3: -0.6971468260020269, 4: -2.0590895063802352, 5: -0.7660662699525118}, {0: -0.5909306564173685, 1: -0.10751156514404225, 2: -0.03195928939059326, 3: -0.7320713151686685, 4: -1.363929996580886, 5: -0.8000787764315899}, {0: -1.9814003715819852, 1: 0.0158644354724649, 2: 0.7088364332198451, 3: -0.6662400318827376, 4: 0.27493248951785193, 5: 0.44899281878748715}, {0: -0.5677312767274533, 1: -0.08365986930272046, 2: 0.4345813611778659, 3: -0.7360675376017717, 4: 0.4944979904907493, 5: -0.11468801709521928}, {0: -1.9738981766567398, 1: -0.17042565164881887, 2: 1.2423598155072062, 3: -2.668339117478086, 4: 1.5220915818494747, 5: -0.1864920834684973}, {0: -1.3615761869127325, 1: -0.31609487994990776, 2: 1.6952254913881748, 3: -1.4521474655847288, 4: 0.8347498228739578, 5: 0.35083879405057916}]'"
      ]
     },
     "execution_count": 3,
     "metadata": {},
     "output_type": "execute_result"
    }
   ],
   "source": [
    "Iter['sentence_topic_distributions'][0]"
   ]
  },
  {
   "cell_type": "code",
   "execution_count": 4,
   "id": "1e43d23d-488b-4364-ac36-aa9add383e0b",
   "metadata": {},
   "outputs": [
    {
     "data": {
      "application/vnd.jupyter.widget-view+json": {
       "model_id": "60019bf442b946e4a0bfda46036e385d",
       "version_major": 2,
       "version_minor": 0
      },
      "text/plain": [
       "Pandas Apply:   0%|          | 0/500 [00:00<?, ?it/s]"
      ]
     },
     "metadata": {},
     "output_type": "display_data"
    }
   ],
   "source": [
    "import ast\n",
    "import swifter\n",
    "\n",
    "def filter_topic_distribution(topic_distribution_list):\n",
    "    theta = 0.1\n",
    "    t1_list = []\n",
    "    distribution_list = ast.literal_eval(topic_distribution_list)\n",
    "    for distribution in distribution_list:\n",
    "        filtered_distribution = [{k: v} for k, v in distribution.items() if v > theta]\n",
    "        t1_list.extend(filtered_distribution)\n",
    "    return t1_list\n",
    "\n",
    "Iter['DTC'] = Iter['sentence_topic_distributions'].swifter.apply(filter_topic_distribution)"
   ]
  },
  {
   "cell_type": "code",
   "execution_count": 5,
   "id": "e7c524d7-39fe-4d2d-a940-5620941f62ae",
   "metadata": {},
   "outputs": [
    {
     "data": {
      "text/plain": [
       "[{1: 2.3064089369354677},\n",
       " {3: 1.3525845070383833},\n",
       " {5: 0.575905594235386},\n",
       " {2: 1.0847258510181106},\n",
       " {4: 0.8838044599222631},\n",
       " {5: 0.154504400062743},\n",
       " {2: 0.753293519995165},\n",
       " {4: 0.9638048777083433},\n",
       " {5: 0.952879614742957},\n",
       " {2: 0.37519810016551103},\n",
       " {4: 0.827718280745599},\n",
       " {5: 0.690031406699123},\n",
       " {2: 0.27724675223664574},\n",
       " {3: 0.3346664619555472},\n",
       " {2: 0.6225369556499405},\n",
       " {4: 0.907388383372671},\n",
       " {2: 0.1835223181470017},\n",
       " {4: 0.15036929997316922},\n",
       " {2: 0.11559068810418331},\n",
       " {3: 1.4010733169801775},\n",
       " {4: 2.3133407649154387},\n",
       " {3: 0.5011000458624605},\n",
       " {5: 1.351563386897831},\n",
       " {2: 0.5340327882738081},\n",
       " {4: 0.34284873071620187},\n",
       " {5: 0.15442787769445548},\n",
       " {1: 0.18153973137343116},\n",
       " {2: 0.5850131100434152},\n",
       " {5: 0.33898818341815184},\n",
       " {2: 0.12309570927025117},\n",
       " {2: 5.804304256469641},\n",
       " {3: 3.2931264218748377},\n",
       " {4: 0.5272507610245823},\n",
       " {5: 1.0465838954260114},\n",
       " {2: 0.4233638671896796},\n",
       " {4: 0.39388042875734697},\n",
       " {2: 0.5913866157654346},\n",
       " {2: 1.7393831512964868},\n",
       " {3: 0.18108733568975427},\n",
       " {2: 0.9006881318672381},\n",
       " {4: 0.21672516351433851},\n",
       " {5: 0.17710864461136097},\n",
       " {2: 1.0751794911961374},\n",
       " {2: 0.7088364332198451},\n",
       " {4: 0.27493248951785193},\n",
       " {5: 0.44899281878748715},\n",
       " {2: 0.4345813611778659},\n",
       " {4: 0.4944979904907493},\n",
       " {2: 1.2423598155072062},\n",
       " {4: 1.5220915818494747},\n",
       " {2: 1.6952254913881748},\n",
       " {4: 0.8347498228739578},\n",
       " {5: 0.35083879405057916}]"
      ]
     },
     "execution_count": 5,
     "metadata": {},
     "output_type": "execute_result"
    }
   ],
   "source": [
    "Iter['DTC'][0]"
   ]
  },
  {
   "cell_type": "code",
   "execution_count": 6,
   "id": "533a28a0-ddba-40d6-affe-4ba87bb62964",
   "metadata": {},
   "outputs": [],
   "source": [
    "def get_dominant_topics(sentence_topic_distribution):\n",
    "    dominant_topics = []\n",
    "    for distribution in sentence_topic_distribution:\n",
    "        dominant_topic = max(distribution, key=distribution.get)\n",
    "        dominant_topics.append(dominant_topic)\n",
    "    return dominant_topics"
   ]
  },
  {
   "cell_type": "code",
   "execution_count": 7,
   "id": "37de7c11-81a1-4fc9-8fae-d8dd94c36807",
   "metadata": {},
   "outputs": [
    {
     "data": {
      "application/vnd.jupyter.widget-view+json": {
       "model_id": "26696242370448e2bd319b15bfb07db2",
       "version_major": 2,
       "version_minor": 0
      },
      "text/plain": [
       "Pandas Apply:   0%|          | 0/500 [00:00<?, ?it/s]"
      ]
     },
     "metadata": {},
     "output_type": "display_data"
    }
   ],
   "source": [
    "Iter['ST']=Iter['DTC'].swifter.apply(get_dominant_topics)"
   ]
  },
  {
   "cell_type": "code",
   "execution_count": 8,
   "id": "205f20c3-02c0-45f7-9128-9f0d32af1f6f",
   "metadata": {},
   "outputs": [
    {
     "data": {
      "text/plain": [
       "[1,\n",
       " 3,\n",
       " 5,\n",
       " 2,\n",
       " 4,\n",
       " 5,\n",
       " 2,\n",
       " 4,\n",
       " 5,\n",
       " 2,\n",
       " 4,\n",
       " 5,\n",
       " 2,\n",
       " 3,\n",
       " 2,\n",
       " 4,\n",
       " 2,\n",
       " 4,\n",
       " 2,\n",
       " 3,\n",
       " 4,\n",
       " 3,\n",
       " 5,\n",
       " 2,\n",
       " 4,\n",
       " 5,\n",
       " 1,\n",
       " 2,\n",
       " 5,\n",
       " 2,\n",
       " 2,\n",
       " 3,\n",
       " 4,\n",
       " 5,\n",
       " 2,\n",
       " 4,\n",
       " 2,\n",
       " 2,\n",
       " 3,\n",
       " 2,\n",
       " 4,\n",
       " 5,\n",
       " 2,\n",
       " 2,\n",
       " 4,\n",
       " 5,\n",
       " 2,\n",
       " 4,\n",
       " 2,\n",
       " 4,\n",
       " 2,\n",
       " 4,\n",
       " 5]"
      ]
     },
     "execution_count": 8,
     "metadata": {},
     "output_type": "execute_result"
    }
   ],
   "source": [
    "Iter['ST'][0]"
   ]
  },
  {
   "cell_type": "code",
   "execution_count": 9,
   "id": "0d6919cd-e9bb-4045-affc-4c70bd9c62ad",
   "metadata": {},
   "outputs": [],
   "source": [
    "def get_topic_words(row):\n",
    "    index_values = row['ST']\n",
    "    topic_words = row['topic_word']\n",
    "    result = []\n",
    "    for index in index_values:\n",
    "        if 0 <= index < len(topic_words):\n",
    "            result.append(topic_words[index])\n",
    "        else:\n",
    "            result.append(None) \n",
    "    return result"
   ]
  },
  {
   "cell_type": "code",
   "execution_count": 10,
   "id": "29cffa4d-10c4-4ca7-a291-1c5451998bbc",
   "metadata": {},
   "outputs": [],
   "source": [
    "Iter['topic_word'] = Iter['topic_words'].apply(ast.literal_eval)\n",
    "Iter['ATW'] = Iter.apply(get_topic_words, axis=1)"
   ]
  },
  {
   "cell_type": "code",
   "execution_count": 11,
   "id": "e6cafadc-ea2e-4403-bc7e-5a49ca1dc20e",
   "metadata": {},
   "outputs": [
    {
     "data": {
      "text/plain": [
       "\"['Okay big video game buff game House Dead really famous enough make movie Sure went far actually put quick video game clip throughout movie though justifying particular scene violence dozen dozen game look exactly hand bottom screen supposedly holding whatever weapon goo-ing kind alien walking dead sniper whatever case may beIt interesting premise House Dead lot college kid LOADED college kid kid able pay fisherman something like ride miss boat trying get island supposed rave year', 'first thing come mind House Dead watching become increasingly clear modern horror movie become nothing exercise coming creative way get lot scantily clad teenager exactly situation', 'least case fact way rave excuse way girl dressed', 'look badly place running around wood cute little halter-tops least THOUGHT dressed occasionClint Howard tellingly interesting character film far delivers absolutely awful performance greatness overshadows every actor movie', 'stand well-known actor change accent movie rarely effective Howard show equally flat well-known actor pretend hardened fisherman raspy voice year breathing salty air', 'even rasp well', 'sounded like eating cinnamon roll shooting accidentally inhaled powdered sugar something', 'Real tough Clint expected agree part messOnce get island movie temporarily turn one Friday th movie took place Camp Crystal Lake', 'Lots teenager played actor way old part getting naked killed', 'nudity impressive guess let u consider something minute', 'kid pay almost two grand get island go Rave Year find ONE say well want beer Even guy pulled stack hundred wallet get think anything found full bar single solitary person sight', 'input director Uwe Boll alcohol notice party came consists one start drinking minding fact whole party seems vacated island one girl go dark wood find everyone dragging one girl one guy reluctantly along guy girl stay behind get smashed decide would great idea strip quickie alone', 'like expected find island empty rest people came gone little would privacy since one else around', 'Brilliant thing everyone hated judging review read movie', 'Yes intersplicing shot video game movie mostly order show yes movie faithful todirectly copying video game', 'Sure stupid idea', 'imagine thought little nugget worse Matrix-style bullet time scene thrown', 'first time point found pretentious cheesy movie like shot like though something original noticeable technique shot rather dramatic meaning creation kind tension filmOne thing make zombie film scary get edge seat slowly relentlessly coming living human much faster getting tired running place run terrifying shortage thing fight zombie', 'first two done right movie kid terrified lot place run since island since caught ride smuggler find heavily armed', 'mean strongly', 'mean people everything machine gun hand grenade remove tension impending walking deadThen call techno-slasher scene', 'Since rave never happened guess since Uwe Boll thought people going disappointed hearing techno music movie one scene right middle human fighting living dead amazingly enough turn something music video', 'techno music blasting shot edited together faster faster nothing blur gory shot mostly frame long second flashing across screen time speed techno music', 'Clever guess place horror movie completely remove sense scariness tension even gross-out effect see one thing long enough react', 'watching shot fly across screen wondering hell director thinking decided would good idea put something like movieI seen lot people compare movie Resident Evil mostly claiming copy premise exactly right', 'appreciate least case Resident Evil man-made virus turned people walking dead able infect people changing way vampire turn others vampire', 'Days Later also clearly inspiration movie bad House Dead single original thing except somewhat moronic idea putting quick shot video game based case forget', 'really think much better movie', 'obviously say know much game based title movie poster deserve much better movie unfortunately think often case horror movie', 'really kind sad movie come obviously advertised no-holds-barred horror film scariest thing entire movie closing shot suggests possibility sequel']\""
      ]
     },
     "execution_count": 11,
     "metadata": {},
     "output_type": "execute_result"
    }
   ],
   "source": [
    "Iter['processed'][0]"
   ]
  },
  {
   "cell_type": "code",
   "execution_count": 13,
   "id": "b997031c-649c-48c8-800e-ea60e6fe943a",
   "metadata": {},
   "outputs": [
    {
     "data": {
      "text/plain": [
       "[['one',\n",
       "  'girl',\n",
       "  'guy',\n",
       "  'party',\n",
       "  'get',\n",
       "  'find',\n",
       "  'island',\n",
       "  'would',\n",
       "  'game',\n",
       "  'came'],\n",
       " ['movie',\n",
       "  'like',\n",
       "  'zombie',\n",
       "  'horror',\n",
       "  'get',\n",
       "  'kid',\n",
       "  'actor',\n",
       "  'found',\n",
       "  'though',\n",
       "  'make'],\n",
       " ['get',\n",
       "  'two',\n",
       "  'island',\n",
       "  'find',\n",
       "  'think',\n",
       "  'say',\n",
       "  'well',\n",
       "  'since',\n",
       "  'music',\n",
       "  'want'],\n",
       " ['shot',\n",
       "  'thing',\n",
       "  'movie',\n",
       "  'zombie',\n",
       "  'like',\n",
       "  'faster',\n",
       "  'much',\n",
       "  'kid',\n",
       "  'place',\n",
       "  'game'],\n",
       " ['music',\n",
       "  'techno',\n",
       "  'people',\n",
       "  'movie',\n",
       "  'get',\n",
       "  'shot',\n",
       "  'faster',\n",
       "  'screen',\n",
       "  'something',\n",
       "  'mostly'],\n",
       " ['get',\n",
       "  'two',\n",
       "  'island',\n",
       "  'find',\n",
       "  'think',\n",
       "  'say',\n",
       "  'well',\n",
       "  'since',\n",
       "  'music',\n",
       "  'want'],\n",
       " ['shot',\n",
       "  'thing',\n",
       "  'movie',\n",
       "  'zombie',\n",
       "  'like',\n",
       "  'faster',\n",
       "  'much',\n",
       "  'kid',\n",
       "  'place',\n",
       "  'game'],\n",
       " ['music',\n",
       "  'techno',\n",
       "  'people',\n",
       "  'movie',\n",
       "  'get',\n",
       "  'shot',\n",
       "  'faster',\n",
       "  'screen',\n",
       "  'something',\n",
       "  'mostly'],\n",
       " ['get',\n",
       "  'two',\n",
       "  'island',\n",
       "  'find',\n",
       "  'think',\n",
       "  'say',\n",
       "  'well',\n",
       "  'since',\n",
       "  'music',\n",
       "  'want'],\n",
       " ['shot',\n",
       "  'thing',\n",
       "  'movie',\n",
       "  'zombie',\n",
       "  'like',\n",
       "  'faster',\n",
       "  'much',\n",
       "  'kid',\n",
       "  'place',\n",
       "  'game'],\n",
       " ['music',\n",
       "  'techno',\n",
       "  'people',\n",
       "  'movie',\n",
       "  'get',\n",
       "  'shot',\n",
       "  'faster',\n",
       "  'screen',\n",
       "  'something',\n",
       "  'mostly'],\n",
       " ['get',\n",
       "  'two',\n",
       "  'island',\n",
       "  'find',\n",
       "  'think',\n",
       "  'say',\n",
       "  'well',\n",
       "  'since',\n",
       "  'music',\n",
       "  'want'],\n",
       " ['shot',\n",
       "  'thing',\n",
       "  'movie',\n",
       "  'zombie',\n",
       "  'like',\n",
       "  'faster',\n",
       "  'much',\n",
       "  'kid',\n",
       "  'place',\n",
       "  'game'],\n",
       " ['movie',\n",
       "  'like',\n",
       "  'zombie',\n",
       "  'horror',\n",
       "  'get',\n",
       "  'kid',\n",
       "  'actor',\n",
       "  'found',\n",
       "  'though',\n",
       "  'make'],\n",
       " ['shot',\n",
       "  'thing',\n",
       "  'movie',\n",
       "  'zombie',\n",
       "  'like',\n",
       "  'faster',\n",
       "  'much',\n",
       "  'kid',\n",
       "  'place',\n",
       "  'game'],\n",
       " ['music',\n",
       "  'techno',\n",
       "  'people',\n",
       "  'movie',\n",
       "  'get',\n",
       "  'shot',\n",
       "  'faster',\n",
       "  'screen',\n",
       "  'something',\n",
       "  'mostly'],\n",
       " ['shot',\n",
       "  'thing',\n",
       "  'movie',\n",
       "  'zombie',\n",
       "  'like',\n",
       "  'faster',\n",
       "  'much',\n",
       "  'kid',\n",
       "  'place',\n",
       "  'game'],\n",
       " ['music',\n",
       "  'techno',\n",
       "  'people',\n",
       "  'movie',\n",
       "  'get',\n",
       "  'shot',\n",
       "  'faster',\n",
       "  'screen',\n",
       "  'something',\n",
       "  'mostly'],\n",
       " ['shot',\n",
       "  'thing',\n",
       "  'movie',\n",
       "  'zombie',\n",
       "  'like',\n",
       "  'faster',\n",
       "  'much',\n",
       "  'kid',\n",
       "  'place',\n",
       "  'game'],\n",
       " ['movie',\n",
       "  'like',\n",
       "  'zombie',\n",
       "  'horror',\n",
       "  'get',\n",
       "  'kid',\n",
       "  'actor',\n",
       "  'found',\n",
       "  'though',\n",
       "  'make'],\n",
       " ['music',\n",
       "  'techno',\n",
       "  'people',\n",
       "  'movie',\n",
       "  'get',\n",
       "  'shot',\n",
       "  'faster',\n",
       "  'screen',\n",
       "  'something',\n",
       "  'mostly'],\n",
       " ['movie',\n",
       "  'like',\n",
       "  'zombie',\n",
       "  'horror',\n",
       "  'get',\n",
       "  'kid',\n",
       "  'actor',\n",
       "  'found',\n",
       "  'though',\n",
       "  'make'],\n",
       " ['get',\n",
       "  'two',\n",
       "  'island',\n",
       "  'find',\n",
       "  'think',\n",
       "  'say',\n",
       "  'well',\n",
       "  'since',\n",
       "  'music',\n",
       "  'want'],\n",
       " ['shot',\n",
       "  'thing',\n",
       "  'movie',\n",
       "  'zombie',\n",
       "  'like',\n",
       "  'faster',\n",
       "  'much',\n",
       "  'kid',\n",
       "  'place',\n",
       "  'game'],\n",
       " ['music',\n",
       "  'techno',\n",
       "  'people',\n",
       "  'movie',\n",
       "  'get',\n",
       "  'shot',\n",
       "  'faster',\n",
       "  'screen',\n",
       "  'something',\n",
       "  'mostly'],\n",
       " ['get',\n",
       "  'two',\n",
       "  'island',\n",
       "  'find',\n",
       "  'think',\n",
       "  'say',\n",
       "  'well',\n",
       "  'since',\n",
       "  'music',\n",
       "  'want'],\n",
       " ['one',\n",
       "  'girl',\n",
       "  'guy',\n",
       "  'party',\n",
       "  'get',\n",
       "  'find',\n",
       "  'island',\n",
       "  'would',\n",
       "  'game',\n",
       "  'came'],\n",
       " ['shot',\n",
       "  'thing',\n",
       "  'movie',\n",
       "  'zombie',\n",
       "  'like',\n",
       "  'faster',\n",
       "  'much',\n",
       "  'kid',\n",
       "  'place',\n",
       "  'game'],\n",
       " ['get',\n",
       "  'two',\n",
       "  'island',\n",
       "  'find',\n",
       "  'think',\n",
       "  'say',\n",
       "  'well',\n",
       "  'since',\n",
       "  'music',\n",
       "  'want'],\n",
       " ['shot',\n",
       "  'thing',\n",
       "  'movie',\n",
       "  'zombie',\n",
       "  'like',\n",
       "  'faster',\n",
       "  'much',\n",
       "  'kid',\n",
       "  'place',\n",
       "  'game'],\n",
       " ['shot',\n",
       "  'thing',\n",
       "  'movie',\n",
       "  'zombie',\n",
       "  'like',\n",
       "  'faster',\n",
       "  'much',\n",
       "  'kid',\n",
       "  'place',\n",
       "  'game'],\n",
       " ['movie',\n",
       "  'like',\n",
       "  'zombie',\n",
       "  'horror',\n",
       "  'get',\n",
       "  'kid',\n",
       "  'actor',\n",
       "  'found',\n",
       "  'though',\n",
       "  'make'],\n",
       " ['music',\n",
       "  'techno',\n",
       "  'people',\n",
       "  'movie',\n",
       "  'get',\n",
       "  'shot',\n",
       "  'faster',\n",
       "  'screen',\n",
       "  'something',\n",
       "  'mostly'],\n",
       " ['get',\n",
       "  'two',\n",
       "  'island',\n",
       "  'find',\n",
       "  'think',\n",
       "  'say',\n",
       "  'well',\n",
       "  'since',\n",
       "  'music',\n",
       "  'want'],\n",
       " ['shot',\n",
       "  'thing',\n",
       "  'movie',\n",
       "  'zombie',\n",
       "  'like',\n",
       "  'faster',\n",
       "  'much',\n",
       "  'kid',\n",
       "  'place',\n",
       "  'game'],\n",
       " ['music',\n",
       "  'techno',\n",
       "  'people',\n",
       "  'movie',\n",
       "  'get',\n",
       "  'shot',\n",
       "  'faster',\n",
       "  'screen',\n",
       "  'something',\n",
       "  'mostly'],\n",
       " ['shot',\n",
       "  'thing',\n",
       "  'movie',\n",
       "  'zombie',\n",
       "  'like',\n",
       "  'faster',\n",
       "  'much',\n",
       "  'kid',\n",
       "  'place',\n",
       "  'game'],\n",
       " ['shot',\n",
       "  'thing',\n",
       "  'movie',\n",
       "  'zombie',\n",
       "  'like',\n",
       "  'faster',\n",
       "  'much',\n",
       "  'kid',\n",
       "  'place',\n",
       "  'game'],\n",
       " ['movie',\n",
       "  'like',\n",
       "  'zombie',\n",
       "  'horror',\n",
       "  'get',\n",
       "  'kid',\n",
       "  'actor',\n",
       "  'found',\n",
       "  'though',\n",
       "  'make'],\n",
       " ['shot',\n",
       "  'thing',\n",
       "  'movie',\n",
       "  'zombie',\n",
       "  'like',\n",
       "  'faster',\n",
       "  'much',\n",
       "  'kid',\n",
       "  'place',\n",
       "  'game'],\n",
       " ['music',\n",
       "  'techno',\n",
       "  'people',\n",
       "  'movie',\n",
       "  'get',\n",
       "  'shot',\n",
       "  'faster',\n",
       "  'screen',\n",
       "  'something',\n",
       "  'mostly'],\n",
       " ['get',\n",
       "  'two',\n",
       "  'island',\n",
       "  'find',\n",
       "  'think',\n",
       "  'say',\n",
       "  'well',\n",
       "  'since',\n",
       "  'music',\n",
       "  'want'],\n",
       " ['shot',\n",
       "  'thing',\n",
       "  'movie',\n",
       "  'zombie',\n",
       "  'like',\n",
       "  'faster',\n",
       "  'much',\n",
       "  'kid',\n",
       "  'place',\n",
       "  'game'],\n",
       " ['shot',\n",
       "  'thing',\n",
       "  'movie',\n",
       "  'zombie',\n",
       "  'like',\n",
       "  'faster',\n",
       "  'much',\n",
       "  'kid',\n",
       "  'place',\n",
       "  'game'],\n",
       " ['music',\n",
       "  'techno',\n",
       "  'people',\n",
       "  'movie',\n",
       "  'get',\n",
       "  'shot',\n",
       "  'faster',\n",
       "  'screen',\n",
       "  'something',\n",
       "  'mostly'],\n",
       " ['get',\n",
       "  'two',\n",
       "  'island',\n",
       "  'find',\n",
       "  'think',\n",
       "  'say',\n",
       "  'well',\n",
       "  'since',\n",
       "  'music',\n",
       "  'want'],\n",
       " ['shot',\n",
       "  'thing',\n",
       "  'movie',\n",
       "  'zombie',\n",
       "  'like',\n",
       "  'faster',\n",
       "  'much',\n",
       "  'kid',\n",
       "  'place',\n",
       "  'game'],\n",
       " ['music',\n",
       "  'techno',\n",
       "  'people',\n",
       "  'movie',\n",
       "  'get',\n",
       "  'shot',\n",
       "  'faster',\n",
       "  'screen',\n",
       "  'something',\n",
       "  'mostly'],\n",
       " ['shot',\n",
       "  'thing',\n",
       "  'movie',\n",
       "  'zombie',\n",
       "  'like',\n",
       "  'faster',\n",
       "  'much',\n",
       "  'kid',\n",
       "  'place',\n",
       "  'game'],\n",
       " ['music',\n",
       "  'techno',\n",
       "  'people',\n",
       "  'movie',\n",
       "  'get',\n",
       "  'shot',\n",
       "  'faster',\n",
       "  'screen',\n",
       "  'something',\n",
       "  'mostly'],\n",
       " ['shot',\n",
       "  'thing',\n",
       "  'movie',\n",
       "  'zombie',\n",
       "  'like',\n",
       "  'faster',\n",
       "  'much',\n",
       "  'kid',\n",
       "  'place',\n",
       "  'game'],\n",
       " ['music',\n",
       "  'techno',\n",
       "  'people',\n",
       "  'movie',\n",
       "  'get',\n",
       "  'shot',\n",
       "  'faster',\n",
       "  'screen',\n",
       "  'something',\n",
       "  'mostly'],\n",
       " ['get',\n",
       "  'two',\n",
       "  'island',\n",
       "  'find',\n",
       "  'think',\n",
       "  'say',\n",
       "  'well',\n",
       "  'since',\n",
       "  'music',\n",
       "  'want']]"
      ]
     },
     "execution_count": 13,
     "metadata": {},
     "output_type": "execute_result"
    }
   ],
   "source": [
    "Iter['ATW'][0]"
   ]
  },
  {
   "cell_type": "code",
   "execution_count": 12,
   "id": "ce79d827-3bb2-4383-af10-f9b34065da45",
   "metadata": {},
   "outputs": [],
   "source": [
    "Iter['processed'] = Iter['processed'].apply(ast.literal_eval)"
   ]
  },
  {
   "cell_type": "code",
   "execution_count": 13,
   "id": "f0419776-87d1-4531-b875-b3b29f480278",
   "metadata": {},
   "outputs": [],
   "source": [
    "def sentic(word):\n",
    "     score=0\n",
    "     if word in sn.data:\n",
    "        sentiment_info = sn.concept(word)\n",
    "        score = float(sentiment_info.get('polarity_value', 0))\n",
    "     return score\n",
    "\n",
    "def TEXTBLOB(word):  \n",
    "    sentiment_score=TextBlob(word).sentiment.polarity\n",
    "    return sentiment_score"
   ]
  },
  {
   "cell_type": "code",
   "execution_count": 14,
   "id": "36945f99-83d3-468b-84c0-63a4c1387f7c",
   "metadata": {},
   "outputs": [],
   "source": [
    "import nltk\n",
    "from nltk.sentiment import SentimentIntensityAnalyzer\n",
    "from textblob import TextBlob\n",
    "from senticnet.senticnet import SenticNet\n",
    "sid = SentimentIntensityAnalyzer()\n",
    "sn = SenticNet()\n",
    "\n",
    "def SA(word):\n",
    "     sentiment_score = sid.polarity_scores(word)['compound'] \n",
    "     return sentiment_score\n",
    "  \n",
    "def match_and_calculate_sentiment(sentences, topic_words):\n",
    "    sentiment_scores = []\n",
    "    \n",
    "    for sentence, words in zip(sentences, topic_words):\n",
    "        sentiment_score=0\n",
    "        for word in nltk.word_tokenize(sentence):\n",
    "            if word in words:\n",
    "                sentiment_score += (TEXTBLOB(word))\n",
    "        sentiment_scores.append(sentiment_score)\n",
    "        \n",
    "    return sentiment_scores"
   ]
  },
  {
   "cell_type": "code",
   "execution_count": 15,
   "id": "fb89fb71-c62f-486e-b185-7df0bcf704c3",
   "metadata": {},
   "outputs": [],
   "source": [
    "Iter['sentiment_score'] = Iter.apply(lambda row: match_and_calculate_sentiment(row['processed'], row['ATW']), axis=1)"
   ]
  },
  {
   "cell_type": "code",
   "execution_count": 16,
   "id": "8514a511-a8f1-4a65-beae-6ddf2dc9d69e",
   "metadata": {},
   "outputs": [
    {
     "data": {
      "text/plain": [
       "[-1.6,\n",
       " 0.0,\n",
       " 0,\n",
       " 0.0,\n",
       " 0.0,\n",
       " 0.0,\n",
       " 0.0,\n",
       " 0.0,\n",
       " 0,\n",
       " 0,\n",
       " 0.0,\n",
       " 0.0,\n",
       " 0.0,\n",
       " 0.0,\n",
       " -0.8,\n",
       " 0,\n",
       " 0,\n",
       " 0.0,\n",
       " 0.0,\n",
       " 0,\n",
       " 0.0,\n",
       " 0.0,\n",
       " 0.0,\n",
       " 0.0,\n",
       " 0.5,\n",
       " 0,\n",
       " -0.4,\n",
       " 0.2,\n",
       " 0.0,\n",
       " 0.0]"
      ]
     },
     "execution_count": 16,
     "metadata": {},
     "output_type": "execute_result"
    }
   ],
   "source": [
    "(Iter['sentiment_score'][0])"
   ]
  },
  {
   "cell_type": "code",
   "execution_count": 17,
   "id": "2e4b68cc-9aef-4551-a87b-a93d5580eebc",
   "metadata": {},
   "outputs": [],
   "source": [
    "def calculate_reaching_definition(df,r):\n",
    "    definitions_generated = []\n",
    "    definitions_killed = []\n",
    "    \n",
    "    for index, row in df.iterrows():\n",
    "        row_definitions_generated = [set() for _ in range(len(row['processed']))]\n",
    "        row_definitions_killed = [set() for _ in range(len(row['processed']))]\n",
    "        \n",
    "        for i, (sentence, topic_idx, sentiment_score) in enumerate(zip(row['processed'], row['ST'], row[r])):\n",
    "            definition_generated = (topic_idx, sentiment_score)\n",
    "            for j in range(i):\n",
    "                if (row['ST'][j], row[r][j]) == definition_generated:\n",
    "                    row_definitions_killed[i].add(j)\n",
    "            row_definitions_generated[i].add(definition_generated)\n",
    "            for j in range(i):\n",
    "                if j not in row_definitions_killed[i]:\n",
    "                    row_definitions_generated[i] |= row_definitions_generated[j]\n",
    "        \n",
    "        definitions_generated.append(row_definitions_generated)\n",
    "        definitions_killed.append(row_definitions_killed)\n",
    "    \n",
    "    df['definitions_generated'] = definitions_generated\n",
    "    df['definitions_killed'] = definitions_killed\n",
    "    \n",
    "    return df"
   ]
  },
  {
   "cell_type": "code",
   "execution_count": 18,
   "id": "452aba7b-9126-4452-a014-539611d03e0e",
   "metadata": {},
   "outputs": [],
   "source": [
    "df=calculate_reaching_definition(Iter,'sentiment_score')"
   ]
  },
  {
   "cell_type": "code",
   "execution_count": 19,
   "id": "f9e93da8-c4c9-4a0e-9661-0a12f3dbb0c9",
   "metadata": {},
   "outputs": [],
   "source": [
    "def calculate_IN_OUT_sets(definitions_generated_col, definitions_killed_col):\n",
    "    IN_sets = []\n",
    "    OUT_sets = []\n",
    "    for gen, killed in zip(definitions_generated_col, definitions_killed_col):\n",
    "        OUT = [set() for _ in range(len(gen))]\n",
    "        changed = True\n",
    "        while changed:\n",
    "            changed = False\n",
    "            for i in range(len(gen)):\n",
    "                IN = set().union(*[OUT[p] for p in range(len(gen)) if i not in killed[p]])\n",
    "                new_OUT = gen[i].union(IN - killed[i])\n",
    "                if new_OUT != OUT[i]:\n",
    "                    OUT[i] = new_OUT\n",
    "                    changed = True\n",
    "        IN = [set().union(*[OUT[p] for p in range(len(gen)) if i in gen[p]]) for i in range(len(gen))]\n",
    "        IN_sets.append(IN)\n",
    "        OUT_sets.append(OUT)\n",
    "    return IN_sets, OUT_sets"
   ]
  },
  {
   "cell_type": "code",
   "execution_count": 20,
   "id": "9a9c404a-d1b0-4d2e-a8d7-a79012f0dd9e",
   "metadata": {},
   "outputs": [],
   "source": [
    "IN_sets, OUT_sets = calculate_IN_OUT_sets(df['definitions_generated'], df['definitions_killed'])"
   ]
  },
  {
   "cell_type": "code",
   "execution_count": 21,
   "id": "40f01a37-5f29-432b-bf49-b1ad2f06692e",
   "metadata": {},
   "outputs": [
    {
     "name": "stdout",
     "output_type": "stream",
     "text": [
      "Output definition of the last node: {(4, 0.0), (7, 0), (7, -0.1875), (8, 0.0), (8, 0.5), (4, 0.2), (1, 0.0), (8, 0.2), (2, 0.0), (3, 0.0), (5, 0), (6, 0), (2, 0.2)}\n"
     ]
    }
   ],
   "source": [
    "S = [0] * len(OUT_sets)\n",
    "for i, out_set in enumerate(OUT_sets):\n",
    "    S[i] = list(out_set)[-1] if out_set else None\n",
    "\n",
    "print(\"Output definition of the last node:\", S[1])"
   ]
  },
  {
   "cell_type": "code",
   "execution_count": 23,
   "id": "c354f146-858e-4b72-be15-267a8459a41a",
   "metadata": {},
   "outputs": [],
   "source": [
    "def generate_summary(sentences, S, sentiment_scores):\n",
    "    summaries = []\n",
    "\n",
    "    for doc_sentences, out, doc_sentiment_scores in zip(sentences, S, sentiment_scores):\n",
    "        summary = \"\"\n",
    "        added_indices = set()\n",
    "\n",
    "        for out_set in out:\n",
    "            for j in out_set:\n",
    "                if isinstance(j, tuple):\n",
    "                    j = j[0]\n",
    "                j = int(j)  # \n",
    "                if 0 <= j < len(doc_sentences) and j < len(doc_sentiment_scores):\n",
    "                    if j not in added_indices:\n",
    "                        summary += doc_sentences[j] + \" \"\n",
    "                        added_indices.add(j)\n",
    "\n",
    "        summaries.append(summary.strip())\n",
    "\n",
    "    return summaries"
   ]
  },
  {
   "cell_type": "code",
   "execution_count": 27,
   "id": "4361feb1-3b14-472c-8d60-197ed870a19b",
   "metadata": {},
   "outputs": [
    {
     "name": "stdout",
     "output_type": "stream",
     "text": [
      "Summary DataFrame:\n",
      "                                               Summary\n",
      "0    I can't stand it when well-known actors change...\n",
      "1    That alone is the main reason to why these two...\n",
      "2    The results were not very promising, so it's n...\n",
      "3    This plot was one of the more interesting ones...\n",
      "4    His name was Mr Warning: Does contain spoilers...\n",
      "..                                                 ...\n",
      "495  Watching the actors is more like being in a ro...\n",
      "496  This film started out very promising with the ...\n",
      "497  This film is one of the best shorts I've ever ...\n",
      "498  Did I miss some central points? Or did I fail ...\n",
      "499  The re-telling of the history of the show, the...\n",
      "\n",
      "[500 rows x 1 columns]\n"
     ]
    }
   ],
   "source": [
    "summaries = generate_summary(Iter['sentence'], S, Iter['sentiment_score'])\n",
    "summary_df = pd.DataFrame({'Summary': summaries})\n",
    "print(\"Summary DataFrame:\")\n",
    "print(summary_df)"
   ]
  },
  {
   "cell_type": "code",
   "execution_count": 28,
   "id": "03513c79-a2a5-4beb-b103-ba25c892ad9c",
   "metadata": {},
   "outputs": [
    {
     "data": {
      "application/vnd.jupyter.widget-view+json": {
       "model_id": "9595dfcd0f474c0dae9af8f1c9b070bc",
       "version_major": 2,
       "version_minor": 0
      },
      "text/plain": [
       "Pandas Apply:   0%|          | 0/500 [00:00<?, ?it/s]"
      ]
     },
     "metadata": {},
     "output_type": "display_data"
    }
   ],
   "source": [
    "from bs4 import BeautifulSoup\n",
    "import contractions\n",
    "import re\n",
    "def preprocess_text(text):\n",
    "    soup = BeautifulSoup(text, 'html.parser')\n",
    "    text = soup.get_text()\n",
    "    text = contractions.fix(text)\n",
    "    text = re.sub(r'\\\\', '', text)\n",
    "    return text\n",
    "summary_df['Summary']=summary_df['Summary'].swifter.apply(preprocess_text)"
   ]
  },
  {
   "cell_type": "code",
   "execution_count": 29,
   "id": "34fa4bfe-4d29-422f-844a-583e943d47fd",
   "metadata": {},
   "outputs": [
    {
     "data": {
      "text/plain": [
       "'That alone is the main reason to why these two guys get so well along, because they simply only have each other to turn to when comforting is needed The premise of this movie has been tickling my imagination for quite some time now Dave is unsuccessful at his job and his colleagues do not treat him very well and with the respect he deserves The amount of problems they face keeps increasing until that one day where they may have to face the inevitable and deal with it We have all heard or read about it in some kind of con-text What would you do if you were all alone in the world? What would you do if the entire world suddenly disappeared in front of your eyes? In fact, the last part is actually what happens to Dave and Andrew, two room-mates living in a run-down house in the middle of a freeway system Andrew is a nervous wreck to say the least and Dave is considered being one of the biggest losers of society Just until...Straight from the beginning of the film lots and lots of problems happen to them Both of them get involved with crime, Andrew suffers from paranoia and simply does not dare going out of the house'"
      ]
     },
     "execution_count": 29,
     "metadata": {},
     "output_type": "execute_result"
    }
   ],
   "source": [
    "summary_df['Summary'][1]"
   ]
  },
  {
   "cell_type": "code",
   "execution_count": 30,
   "id": "af4230d4-4733-4f35-b98c-5ccf08781cdb",
   "metadata": {},
   "outputs": [
    {
     "data": {
      "text/plain": [
       "'The premise of this movie has been tickling my imagination for quite some time now. We\\'ve all heard or read about it in some kind of con-text. What would you do if you were all alone in the world? What would you do if the entire world suddenly disappeared in front of your eyes? In fact, the last part is actually what happens to Dave and Andrew, two room-mates living in a run-down house in the middle of a freeway system. Andrew is a nervous wreck to say the least and Dave is considered being one of the biggest losers of society. That alone is the main reason to why these two guys get so well along, because they simply only have each other to turn to when comforting is needed. Just until...<br /><br />Straight from the beginning of the film lots and lots of problems happen to them. Both of them get involved with crime, Andrew suffers from paranoia and simply doesn\\'t dare going out of the house. Dave is unsuccessful at his job and his colleagues don\\'t treat him very well and with the respect he deserves. The amount of problems they face keeps increasing until that one day where they may have to face the inevitable and deal with it. This is just too much for them and they wish that everything would just go away... And of course that is exactly what happens.<br /><br />The rest of the story places Dave and Andrew in this world of nothingness. At first they are surprised and have problems understanding and dealing with the features of this crazy environment, but later on they find out that they can do just about everything they want because it seems as if they are the only ones still left.<br /><br />Nothing features an incredibly small cast - in fact, besides the first couple of shots from the film, we only see Dave (David Hewlett) and Andrew (Andrew Miller) in the entire film. It is clear that in order to pull this off, the cast has to be more than up for the task, because in a world where nothing exists there is nothing that can distract the viewer in any way. Vincenzo has decided to use a reasonable amount of close-up head shots to make it more interesting and it actually works quite well. Director of Photography, Derek Rogers, also has a nice way of teasing the audience by withholding visual information, especially at times where a character sees something and reacts to it, but we don\\'t see it right away.<br /><br />Obviously, this can\\'t be an event driven film and it\\'s not. Much of the action happens outside their house when they move around in the void. And that\\'s where some of the most hilarious scenes take place, especially in the case of when Andrew discovers a candy bar.<br /><br />Now, one could be thinking: \"How does nothing look like?\" Well, it looks like nothing indeed. The entire world of nothing is white... white no matter in what direction you look. This is the weakness of this film... After an hour or less it\\'s getting extremely boring to look at and there has to be events to make sure it\\'s more interesting to look at. Thank God, there are some. For example at times when the two lads, due to the properties of nothing, are able to jump really high as if nothing is made out of... tofu (as Andrew claims). It\\'s fun to see how they are instantly able to use nothing to become gods of their own little society.<br /><br />One of the best parts of the film is the set... Production designer Jasna Stefanovic has done a beautiful job in this film, the house in which these two guys live is so unnaturally fun to look at, still it seems right for these two to be living in a place like this. All in all, the production design is with no doubt one of the most powerful aspects of this film at it really makes the film worth watching...<br /><br />However, the very best part of the film is the acting. Both David Hewlett and Andrew Miller really look like the professional actors they both are. The camera is on them for every second of the film and as previously said, there are just about no props in the film, they are really on a bare stage. With plenty of character development and some decent one-liners, clever dialogue (at times hilariously stupid), it all works to that end - and this really moves the movie away from the low-budget area to well-crafted handwork.<br /><br />Let\\'s talk a little about the visual effects, because they are definitely worth mentioning. Nothing features digital visual effects and prosthetics that equals any modern horror film. There\\'s a rather horrifying dream sequence in the film, and although The Drews have milked that scene completely it\\'s still fun to watch. One of the best visual effects in the film is at the end where Andrew and Dave suddenly discover their powers in this environment - they have the abilities to wish everything away, so what if they can do it the other way around and make things appear?<br /><br />\"Nothing\" is a bright and well-lit movie, it really helps promoting the idea of them probably being dead (this is in fact one of their theories), but \"Nothing\" is a comedy and it slowly destroys its own theory. We don\\'t know where they are or what has happened to them. We don\\'t know if they will ever get out, because the movie ends before we see anything like that. The ending, by the way, is not as good as it could\\'ve been. It\\'s rather easy to predict what is going to happen, still the writers have thought up a few incidents that help make it a little more interesting and in the end, it\\'s a reasonably satisfactory one.<br /><br />Take \"Hollow Man\", \"Kill Bill\", \"Cube\", \"Epoch\" and lots of other films and you have \"Nothing\". It really is an amalgam of different styles, still there is no other film (at least that I know of) Nothing is really like. For the people remembering the original Cube Production Commentary on its DVD may remember that Vincenzo Natali talked about how he came up with the story of Cube. He talks about him and André Bijelic having been room-mates at a time and they both were in this extremely dull room with no hope of getting out, \"Nothing\" could very well be the screened version of the origin of the Cube story, and to that end, it\\'s almost like one of the Cube prequels.<br /><br />What can I say? I enjoyed \"Nothing\", it is a great movie and the different parts of the movie are extremely well-made with tons of intelligent ideas, still I feel the movie is missing something and I have problems finding out precisely what it is... Maybe if we have a \"Nothing 2\" I can answer that question. \"Nothing\" is a great film, but not as good as I expected it to be.<br /><br />Final rating: 7.5 / 10'"
      ]
     },
     "execution_count": 30,
     "metadata": {},
     "output_type": "execute_result"
    }
   ],
   "source": [
    "Iter['Reviews'][1]"
   ]
  },
  {
   "cell_type": "code",
   "execution_count": 31,
   "id": "67656ef2-c9ab-4499-a7e2-4b9ee292cf55",
   "metadata": {},
   "outputs": [],
   "source": [
    "def classify_sentiment(text):\n",
    "    blob = TextBlob(text)\n",
    "    polarity = blob.sentiment.polarity\n",
    "    if polarity > 0:\n",
    "        return 'postive'\n",
    "    elif polarity < 0:\n",
    "        return 'negative'\n",
    "    else:\n",
    "        return 'neutral'"
   ]
  },
  {
   "cell_type": "code",
   "execution_count": 32,
   "id": "7bb38020-0db0-431a-baac-5841ef522fc5",
   "metadata": {},
   "outputs": [
    {
     "data": {
      "application/vnd.jupyter.widget-view+json": {
       "model_id": "77b16fb103f34a02a964404cd15c528f",
       "version_major": 2,
       "version_minor": 0
      },
      "text/plain": [
       "Pandas Apply:   0%|          | 0/500 [00:00<?, ?it/s]"
      ]
     },
     "metadata": {},
     "output_type": "display_data"
    },
    {
     "data": {
      "application/vnd.jupyter.widget-view+json": {
       "model_id": "cf1a450d61c64de983b3eb4e568d56e1",
       "version_major": 2,
       "version_minor": 0
      },
      "text/plain": [
       "Pandas Apply:   0%|          | 0/500 [00:00<?, ?it/s]"
      ]
     },
     "metadata": {},
     "output_type": "display_data"
    }
   ],
   "source": [
    "Iter['TBLabel']=Iter['Reviews'].swifter.apply( classify_sentiment)\n",
    "summary_df['TBLabel']=summary_df['Summary'].swifter.apply( classify_sentiment)"
   ]
  },
  {
   "cell_type": "code",
   "execution_count": 33,
   "id": "c143c3ab-bce3-4da4-8656-ab2eb9699b77",
   "metadata": {},
   "outputs": [
    {
     "data": {
      "image/png": "[encoded data removed]",
      "text/plain": [
       "<Figure size 800x600 with 2 Axes>"
      ]
     },
     "metadata": {},
     "output_type": "display_data"
    },
    {
     "name": "stdout",
     "output_type": "stream",
     "text": [
      "Accuracy: 0.802\n",
      "Precision: 0.8239346524606799\n",
      "Recall: 0.802\n",
      "F1-score: 0.8101302543748872\n"
     ]
    }
   ],
   "source": [
    "import pandas as pd\n",
    "from sklearn.metrics import accuracy_score, precision_score, recall_score, f1_score\n",
    "import numpy as np\n",
    "import seaborn as sns\n",
    "import matplotlib.pyplot as plt\n",
    "from sklearn.metrics import confusion_matrix\n",
    "\n",
    "actual = Iter['TBLabel']\n",
    "predicted = summary_df['TBLabel']\n",
    "\n",
    "cm = confusion_matrix(actual, predicted)\n",
    "labels = np.unique(actual)\n",
    "\n",
    "plt.figure(figsize=(8, 6))\n",
    "sns.set(font_scale=1.2)\n",
    "sns.heatmap(cm, annot=True, fmt=\"d\", cmap=\"Blues\", xticklabels=labels, yticklabels=labels)\n",
    "plt.xlabel('Predicted')\n",
    "plt.ylabel('Actual')\n",
    "plt.title('Confusion Matrix')\n",
    "plt.show()\n",
    "\n",
    "accuracy = accuracy_score(actual, predicted)\n",
    "precision = precision_score(actual, predicted, average='weighted')\n",
    "recall = recall_score(actual, predicted, average='weighted')\n",
    "f1 = f1_score(actual, predicted, average='weighted')\n",
    "print(\"Accuracy:\", accuracy)\n",
    "print(\"Precision:\", precision)\n",
    "print(\"Recall:\", recall)\n",
    "print(\"F1-score:\", f1)"
   ]
  },
  {
   "cell_type": "code",
   "execution_count": 34,
   "id": "b4199d47-cc51-44e2-ab69-aa89e17e4207",
   "metadata": {},
   "outputs": [
    {
     "name": "stdout",
     "output_type": "stream",
     "text": [
      "Average of maximum scores: 0.7347456178530337\n"
     ]
    }
   ],
   "source": [
    "df['scores'] = df['CS'].apply(ast.literal_eval)\n",
    "\n",
    "def find_max_score(score_list):\n",
    "    return max(score_list)\n",
    "\n",
    "df['max_score'] = df['scores'].apply(find_max_score)\n",
    "\n",
    "average_max_score = df['max_score'].mean()\n",
    "\n",
    "print(\"Average of maximum scores:\", average_max_score)"
   ]
  },
  {
   "cell_type": "code",
   "execution_count": 35,
   "id": "d23ff1e1-6cf0-42ff-9f66-c82ea7e7564d",
   "metadata": {},
   "outputs": [],
   "source": [
    "from collections import Counter\n",
    "\n",
    "def k_words(processed_documents, k=10):\n",
    "    exclude_chars = {\"'\", ',', ' '}\n",
    "    all_words = [word for sublist in processed_documents for word in sublist if word not in exclude_chars]\n",
    "    word_freq = Counter(all_words)\n",
    "    top_words = [word for word, _ in word_freq.most_common(k)] \n",
    "    return top_words\n",
    "\n",
    "summary_df['top'] = df['topic_word'].apply(lambda x: k_words(x, k=10))\n"
   ]
  },
  {
   "cell_type": "code",
   "execution_count": 36,
   "id": "068dcc2b-baae-4e43-bc1b-a7b875400620",
   "metadata": {},
   "outputs": [],
   "source": [
    "def evaluate_relevance(summary, topic_keywords):\n",
    "    relevance_score = 0\n",
    "    for keyword in topic_keywords:\n",
    "        if keyword.lower() in summary.lower():\n",
    "            relevance_score += 1\n",
    "    normalized_relevance_score = relevance_score / len(topic_keywords)\n",
    "    return normalized_relevance_score\n",
    "\n",
    "def evaluate_summary(df_summary):\n",
    "    \n",
    "    relevance_scores = []\n",
    "    for summary, topic_keywords in zip(df_summary['Summary'], df_summary['top']):\n",
    "        relevance_score = evaluate_relevance(summary, topic_keywords)\n",
    "        relevance_scores.append(relevance_score)\n",
    "    df_summary['Relevance Score'] = relevance_scores\n",
    "    \n",
    "    return df_summary"
   ]
  },
  {
   "cell_type": "code",
   "execution_count": 37,
   "id": "10ad9a9d-c85a-4da9-bcf7-2ff823bafdf0",
   "metadata": {},
   "outputs": [],
   "source": [
    "import nltk\n",
    "from nltk.tokenize import word_tokenize\n",
    "from nltk.tag import pos_tag"
   ]
  },
  {
   "cell_type": "code",
   "execution_count": 38,
   "id": "8a90dc03-0bfa-4638-bac1-70607c7b0925",
   "metadata": {},
   "outputs": [],
   "source": [
    "def calculate_fluency_score(summary):\n",
    "    tokens = word_tokenize(summary)\n",
    "    tagged_tokens = pos_tag(tokens)\n",
    "    correct_tags = ['CC', 'CD', 'DT', 'EX', 'FW', 'IN', 'JJ', 'JJR', 'JJS', 'LS', 'MD', 'NN', 'NNS',\n",
    "                    'NNP', 'NNPS', 'PDT', 'POS', 'PRP', 'PRP$', 'RB', 'RBR', 'RBS', 'RP', 'TO', 'UH',\n",
    "                    'VB', 'VBD', 'VBG', 'VBN', 'VBP', 'VBZ', 'WDT', 'WP', 'WP$', 'WRB']\n",
    "    correct_count = sum(1 for _, tag in tagged_tokens if tag in correct_tags)\n",
    "    fluency_score = correct_count / len(tokens)\n",
    "    return fluency_score"
   ]
  },
  {
   "cell_type": "code",
   "execution_count": 39,
   "id": "483b5063-01a7-4b4f-bc57-adfb14a4b479",
   "metadata": {},
   "outputs": [
    {
     "data": {
      "application/vnd.jupyter.widget-view+json": {
       "model_id": "8b23438b10dd48238290c4c49bbb3147",
       "version_major": 2,
       "version_minor": 0
      },
      "text/plain": [
       "Pandas Apply:   0%|          | 0/500 [00:00<?, ?it/s]"
      ]
     },
     "metadata": {},
     "output_type": "display_data"
    }
   ],
   "source": [
    "summary_df['top']=df['topic_word'].swifter.apply(k_words)\n",
    "summary_df=evaluate_summary(summary_df)\n",
    "summary_df['Fluency Score'] = summary_df['Summary'].apply(calculate_fluency_score)"
   ]
  },
  {
   "cell_type": "code",
   "execution_count": 40,
   "id": "d4dc10f9-5d3f-469c-895e-8473de0f7c68",
   "metadata": {},
   "outputs": [
    {
     "data": {
      "text/plain": [
       "['get',\n",
       " 'movie',\n",
       " 'game',\n",
       " 'kid',\n",
       " 'find',\n",
       " 'island',\n",
       " 'shot',\n",
       " 'zombie',\n",
       " 'like',\n",
       " 'faster']"
      ]
     },
     "execution_count": 40,
     "metadata": {},
     "output_type": "execute_result"
    }
   ],
   "source": [
    "summary_df['top'][0]"
   ]
  },
  {
   "cell_type": "code",
   "execution_count": 42,
   "id": "e9c16511-b88c-475a-a23d-b1f90d313716",
   "metadata": {},
   "outputs": [],
   "source": [
    "def avg(df, column_name):\n",
    "    column = df[column_name]\n",
    "    if len(column) == 0:\n",
    "        return 0  \n",
    "    total_score = sum(column)\n",
    "    avg_score = total_score / len(column)\n",
    "    return avg_score"
   ]
  },
  {
   "cell_type": "code",
   "execution_count": 43,
   "id": "ee7378ae-7ccd-431a-9cfe-fe48924532d0",
   "metadata": {},
   "outputs": [
    {
     "name": "stdout",
     "output_type": "stream",
     "text": [
      "Fluency = 0.9275322265565553\n",
      "Relevance = 0.5976\n"
     ]
    }
   ],
   "source": [
    "fluency=avg(summary_df,'Fluency Score')\n",
    "relevance=avg(summary_df,'Relevance Score')     \n",
    "print('Fluency = '+str(fluency))\n",
    "print('Relevance = '+str(relevance))"
   ]
  },
  {
   "cell_type": "code",
   "execution_count": 44,
   "id": "baaf03f5-5f6c-4e28-a799-59b6bc9e28e2",
   "metadata": {},
   "outputs": [],
   "source": [
    "from rouge_score import rouge_scorer\n",
    "\n",
    "def calculate_rouge(reference_summary, generated_summary):\n",
    "    scorer = rouge_scorer.RougeScorer(['rouge1', 'rouge2', 'rougeL'], use_stemmer=True)\n",
    "    scores = scorer.score(reference_summary, generated_summary)\n",
    "    \n",
    "    rouge1_score = [scores['rouge1'].precision, scores['rouge1'].recall, scores['rouge1'].fmeasure]\n",
    "    rouge2_score = [scores['rouge2'].precision, scores['rouge2'].recall, scores['rouge2'].fmeasure]\n",
    "    rougeL_score = [scores['rougeL'].precision, scores['rougeL'].recall, scores['rougeL'].fmeasure]\n",
    "    \n",
    "    return rouge1_score, rouge2_score, rougeL_score"
   ]
  },
  {
   "cell_type": "code",
   "execution_count": 45,
   "id": "222bff04-4d67-447b-a85c-8944981c0082",
   "metadata": {},
   "outputs": [],
   "source": [
    "PR = pd.read_csv('PageRank.csv')\n",
    "PR=PR.iloc[:500]"
   ]
  },
  {
   "cell_type": "code",
   "execution_count": 46,
   "id": "4c1bf43c-643c-44d0-9c0f-d0f85c792154",
   "metadata": {},
   "outputs": [
    {
     "name": "stdout",
     "output_type": "stream",
     "text": [
      "1 Average ROUGE-1 Precision, Recall, F-measure: [0.42545504603279016, 0.4971971666228942, 0.43925217750451284]\n",
      "Average ROUGE-2 Precision, Recall, F-measure: [0.22666466778333308, 0.28073945734188877, 0.24155074647930433]\n",
      "Average ROUGE-L Precision, Recall, F-measure: [0.2725540240663178, 0.32212390006611147, 0.2826929472454203]\n",
      "\n"
     ]
    }
   ],
   "source": [
    "import numpy as np\n",
    "\n",
    "avg_rouge_scores_list = []\n",
    "\n",
    "for i in range(1, 2):\n",
    "    print(i,end=' ')\n",
    "    df_name=summary_df\n",
    "    df = summary_df\n",
    "    \n",
    "    rouge1_scores = []\n",
    "    rouge2_scores = []\n",
    "    rougeL_scores = []\n",
    "    \n",
    "    for index, row in df.iterrows():\n",
    "        reference_summary = str(PR.loc[index, 'Summary'])  \n",
    "        generated_summary = str(row['Summary']) \n",
    "        \n",
    "        rouge1_score, rouge2_score, rougeL_score = calculate_rouge(reference_summary, generated_summary)\n",
    "        \n",
    "        rouge1_scores.append(rouge1_score)\n",
    "        rouge2_scores.append(rouge2_score)\n",
    "        rougeL_scores.append(rougeL_score)\n",
    "    \n",
    "    \n",
    "    avg_rouge1_precision = np.mean([score[0] for score in rouge1_scores])\n",
    "    avg_rouge1_recall = np.mean([score[1] for score in rouge1_scores])\n",
    "    avg_rouge1_fmeasure = np.mean([score[2] for score in rouge1_scores])\n",
    "    \n",
    "    avg_rouge2_precision = np.mean([score[0] for score in rouge2_scores])\n",
    "    avg_rouge2_recall = np.mean([score[1] for score in rouge2_scores])\n",
    "    avg_rouge2_fmeasure = np.mean([score[2] for score in rouge2_scores])\n",
    "    \n",
    "    avg_rougeL_precision = np.mean([score[0] for score in rougeL_scores])\n",
    "    avg_rougeL_recall = np.mean([score[1] for score in rougeL_scores])\n",
    "    avg_rougeL_fmeasure = np.mean([score[2] for score in rougeL_scores])\n",
    "    \n",
    "    avg_rouge_scores_list.append({\n",
    "        'df_name': df_name,\n",
    "        'avg_rouge1_precision': avg_rouge1_precision,\n",
    "        'avg_rouge1_recall': avg_rouge1_recall,\n",
    "        'avg_rouge1_fmeasure': avg_rouge1_fmeasure,\n",
    "        'avg_rouge2_precision': avg_rouge2_precision,\n",
    "        'avg_rouge2_recall': avg_rouge2_recall,\n",
    "        'avg_rouge2_fmeasure': avg_rouge2_fmeasure,\n",
    "        'avg_rougeL_precision': avg_rougeL_precision,\n",
    "        'avg_rougeL_recall': avg_rougeL_recall,\n",
    "        'avg_rougeL_fmeasure': avg_rougeL_fmeasure\n",
    "    })\n",
    "\n",
    "for avg_rouge_scores in avg_rouge_scores_list:\n",
    "    print(\"Average ROUGE-1 Precision, Recall, F-measure:\", [avg_rouge_scores['avg_rouge1_precision'],\n",
    "                                                            avg_rouge_scores['avg_rouge1_recall'],\n",
    "                                                            avg_rouge_scores['avg_rouge1_fmeasure']])\n",
    "    print(\"Average ROUGE-2 Precision, Recall, F-measure:\", [avg_rouge_scores['avg_rouge2_precision'],\n",
    "                                                            avg_rouge_scores['avg_rouge2_recall'],\n",
    "                                                            avg_rouge_scores['avg_rouge2_fmeasure']])\n",
    "    print(\"Average ROUGE-L Precision, Recall, F-measure:\", [avg_rouge_scores['avg_rougeL_precision'],\n",
    "                                                            avg_rouge_scores['avg_rougeL_recall'],\n",
    "                                                            avg_rouge_scores['avg_rougeL_fmeasure']])\n",
    "    print()\n"
   ]
  },
  {
   "cell_type": "code",
   "execution_count": 47,
   "id": "fc0d9932-0d9c-42a3-9d04-b6e7cfec17cc",
   "metadata": {},
   "outputs": [],
   "source": [
    "import pandas as pd\n",
    "from sklearn.feature_extraction.text import TfidfVectorizer\n",
    "from sklearn.model_selection import train_test_split\n",
    "from sklearn.pipeline import make_pipeline\n",
    "from sklearn.svm import LinearSVC\n",
    "from sklearn.metrics import accuracy_score\n",
    "import nltk\n",
    "from nltk.tokenize import word_tokenize\n",
    "from nltk.corpus import stopwords\n",
    "from nltk.stem import WordNetLemmatizer\n",
    "\n",
    "\n",
    "stop_words = set(stopwords.words('english'))\n",
    "lemmatizer = WordNetLemmatizer()\n",
    "\n",
    "def preprocess_text(text):\n",
    "    tokens = word_tokenize(text.lower()) \n",
    "    tokens = [lemmatizer.lemmatize(word) for word in tokens if word.isalnum()]  \n",
    "    tokens = [word for word in tokens if word not in stop_words]  \n",
    "    return ' '.join(tokens)"
   ]
  },
  {
   "cell_type": "code",
   "execution_count": 48,
   "id": "336b1f8f-9f20-4e9b-9fd1-161c783251a5",
   "metadata": {},
   "outputs": [],
   "source": [
    "summary_df['Summary']=summary_df['Summary'].apply(preprocess_text)"
   ]
  },
  {
   "cell_type": "code",
   "execution_count": 49,
   "id": "4e34e6de-b64d-471f-b346-7467ea532504",
   "metadata": {},
   "outputs": [],
   "source": [
    "summary_df['preprocessed_sentence'] = summary_df['Summary'].apply(preprocess_text)"
   ]
  },
  {
   "cell_type": "code",
   "execution_count": 50,
   "id": "a86c2470-6874-42e9-8840-32e67f1646d4",
   "metadata": {},
   "outputs": [
    {
     "name": "stdout",
     "output_type": "stream",
     "text": [
      "Cross-validation scores: [0.79041916 0.79640719 0.78915663]\n",
      "Mean accuracy: 0.7919943246038045\n"
     ]
    }
   ],
   "source": [
    "from sklearn.model_selection import cross_val_score, StratifiedKFold\n",
    "\n",
    "pipeline = make_pipeline(TfidfVectorizer(), LinearSVC())\n",
    "cv = StratifiedKFold(n_splits=3, shuffle=True, random_state=42)\n",
    "cv_scores = cross_val_score(pipeline, summary_df['preprocessed_sentence'], summary_df['TBLabel'], cv=cv)\n",
    "print(\"Cross-validation scores:\", cv_scores)\n",
    "print(\"Mean accuracy:\", cv_scores.mean())\n"
   ]
  },
  {
   "cell_type": "code",
   "execution_count": 51,
   "id": "4204d44b-6fa4-4783-9b49-97fd82697262",
   "metadata": {},
   "outputs": [
    {
     "name": "stdout",
     "output_type": "stream",
     "text": [
      "Cross-validation scores: [0.8  0.76]\n",
      "Mean accuracy: 0.78\n"
     ]
    }
   ],
   "source": [
    "from sklearn.model_selection import cross_val_score, StratifiedKFold\n",
    "\n",
    "pipeline = make_pipeline(TfidfVectorizer(), LinearSVC())\n",
    "cv = StratifiedKFold(n_splits=2, shuffle=True, random_state=42)\n",
    "cv_scores = cross_val_score(pipeline, summary_df['preprocessed_sentence'], summary_df['TBLabel'], cv=cv)\n",
    "print(\"Cross-validation scores:\", cv_scores)\n",
    "print(\"Mean accuracy:\", cv_scores.mean())\n"
   ]
  },
  {
   "cell_type": "code",
   "execution_count": 52,
   "id": "53becbbc-5b04-49c0-bc3e-bf6df7e54c72",
   "metadata": {},
   "outputs": [
    {
     "name": "stdout",
     "output_type": "stream",
     "text": [
      "Cross-validation scores: [0.74850299 0.76646707 0.74096386]\n",
      "Mean accuracy: 0.7519779717673089\n"
     ]
    }
   ],
   "source": [
    "from sklearn.ensemble import RandomForestClassifier\n",
    "\n",
    "pipeline = make_pipeline(TfidfVectorizer(), RandomForestClassifier())\n",
    "cv = StratifiedKFold(n_splits=3, shuffle=True, random_state=42)\n",
    "cv_scores = cross_val_score(pipeline, summary_df['preprocessed_sentence'], summary_df['TBLabel'], cv=cv)\n",
    "\n",
    "print(\"Cross-validation scores:\", cv_scores)\n",
    "print(\"Mean accuracy:\", cv_scores.mean())\n"
   ]
  },
  {
   "cell_type": "code",
   "execution_count": 53,
   "id": "cce80348-e6ef-45f1-a283-3910b41ba6be",
   "metadata": {},
   "outputs": [
    {
     "name": "stdout",
     "output_type": "stream",
     "text": [
      "Cross-validation scores: [0.748 0.756]\n",
      "Mean accuracy: 0.752\n"
     ]
    }
   ],
   "source": [
    "from sklearn.ensemble import RandomForestClassifier\n",
    "\n",
    "pipeline = make_pipeline(TfidfVectorizer(), RandomForestClassifier())\n",
    "cv = StratifiedKFold(n_splits=2, shuffle=True, random_state=42)\n",
    "cv_scores = cross_val_score(pipeline, summary_df['preprocessed_sentence'], summary_df['TBLabel'], cv=cv)\n",
    "\n",
    "print(\"Cross-validation scores:\", cv_scores)\n",
    "print(\"Mean accuracy:\", cv_scores.mean())\n"
   ]
  },
  {
   "cell_type": "code",
   "execution_count": 54,
   "id": "5aa6a88b-0a72-434e-9c72-0f2e919bdee3",
   "metadata": {},
   "outputs": [
    {
     "name": "stdout",
     "output_type": "stream",
     "text": [
      "Cross-validation scores: [0.73652695 0.75449102 0.74096386]\n",
      "Mean accuracy: 0.743993939831181\n"
     ]
    }
   ],
   "source": [
    "from sklearn.ensemble import VotingClassifier\n",
    "from sklearn.naive_bayes import MultinomialNB\n",
    "from sklearn.linear_model import LogisticRegression\n",
    "from sklearn.ensemble import RandomForestClassifier\n",
    "\n",
    "model1 = ('svm', LinearSVC())\n",
    "model2 = ('nb', MultinomialNB())\n",
    "model3 = ('lr', LogisticRegression())\n",
    "model4 = ('rf', RandomForestClassifier())\n",
    "\n",
    "ensemble_models = [model1, model2, model3, model4]\n",
    "\n",
    "ensemble_classifier = VotingClassifier(estimators=ensemble_models, voting='hard')\n",
    "\n",
    "pipeline = make_pipeline(TfidfVectorizer(), ensemble_classifier)\n",
    "\n",
    "cv = StratifiedKFold(n_splits=3, shuffle=True, random_state=42)\n",
    "cv_scores = cross_val_score(pipeline, summary_df['preprocessed_sentence'], summary_df['TBLabel'], cv=cv)\n",
    "\n",
    "print(\"Cross-validation scores:\", cv_scores)\n",
    "print(\"Mean accuracy:\", cv_scores.mean())\n"
   ]
  },
  {
   "cell_type": "code",
   "execution_count": 55,
   "id": "8e5aab0f-3cdf-49e9-9565-55bb1c8ba6ea",
   "metadata": {},
   "outputs": [
    {
     "name": "stdout",
     "output_type": "stream",
     "text": [
      "Cross-validation scores: [0.73652695 0.74850299 0.74096386]\n",
      "Mean accuracy: 0.7419979318471491\n"
     ]
    }
   ],
   "source": [
    "from sklearn.ensemble import VotingClassifier\n",
    "from sklearn.naive_bayes import MultinomialNB\n",
    "from sklearn.linear_model import LogisticRegression\n",
    "from sklearn.ensemble import RandomForestClassifier\n",
    "\n",
    "model1 = ('svm', LinearSVC())\n",
    "model2 = ('nb', MultinomialNB())\n",
    "model3 = ('lr', LogisticRegression())\n",
    "model4 = ('rf', RandomForestClassifier())\n",
    "\n",
    "ensemble_models = [model1, model2, model3, model4]\n",
    "\n",
    "ensemble_classifier = VotingClassifier(estimators=ensemble_models, voting='hard')\n",
    "\n",
    "pipeline = make_pipeline(TfidfVectorizer(), ensemble_classifier)\n",
    "\n",
    "cv = StratifiedKFold(n_splits=3, shuffle=True, random_state=42)\n",
    "cv_scores = cross_val_score(pipeline, summary_df['preprocessed_sentence'], summary_df['TBLabel'], cv=cv)\n",
    "\n",
    "print(\"Cross-validation scores:\", cv_scores)\n",
    "print(\"Mean accuracy:\", cv_scores.mean())"
   ]
  },
  {
   "cell_type": "code",
   "execution_count": null,
   "id": "06ca9976-747c-4b6b-83f0-c1b329f0fb89",
   "metadata": {},
   "outputs": [],
   "source": [
    "from itertools import combinations\n",
    "\n",
    "models = [\n",
    "    ('svm', LinearSVC()),\n",
    "    ('nb', MultinomialNB()),\n",
    "    ('lr', LogisticRegression()),\n",
    "    ('rf', RandomForestClassifier())\n",
    "]\n",
    "\n",
    "best_score = 0\n",
    "best_combination = None\n",
    "\n",
    "for i in range(2, 4):\n",
    "    for model_combination in combinations(models, i):\n",
    "        model_combination_list = list(model_combination)\n",
    "        ensemble_classifier = VotingClassifier(estimators=model_combination_list, voting='hard')\n",
    "        pipeline = make_pipeline(TfidfVectorizer(), ensemble_classifier)\n",
    "        cv_scores = cross_val_score(pipeline, summary_df['preprocessed_sentence'], summary_df['TBLabel'], cv=cv)     \n",
    "        mean_accuracy = cv_scores.mean()\n",
    "        if mean_accuracy > best_score:\n",
    "            best_score = mean_accuracy\n",
    "            best_combination = model_combination_list\n",
    "\n",
    "print(\"Best combination:\", best_combination)\n",
    "print(\"Best mean accuracy:\", best_score)\n"
   ]
  },
  {
   "cell_type": "code",
   "execution_count": null,
   "id": "043d3501-5f02-4f91-b2f7-3f57eb24f62a",
   "metadata": {},
   "outputs": [],
   "source": [
    "from sklearn.pipeline import Pipeline\n",
    "\n",
    "\n",
    "best_models = [\n",
    "    ('svm', LinearSVC()),\n",
    "    ('nb', MultinomialNB())\n",
    "]\n",
    "\n",
    "\n",
    "best_models_list = list(best_models)\n",
    "ensemble_classifier = VotingClassifier(estimators=best_models_list, voting='hard')\n",
    "pipeline = Pipeline([('tfidf', TfidfVectorizer()), ('classifier', ensemble_classifier)])\n",
    "pipeline.fit(summary_df['preprocessed_sentence'], summary_df['TBLabel'])"
   ]
  },
  {
   "cell_type": "code",
   "execution_count": null,
   "id": "af78d6a6-af0d-4ab4-8718-3f1f8e623682",
   "metadata": {},
   "outputs": [],
   "source": [
    "new_data = [PR['Summary'][1] ]\n",
    "predicted_label = pipeline.predict(new_data)[0]  \n",
    "print(\"Predicted label for the new data:\", predicted_label)"
   ]
  },
  {
   "cell_type": "code",
   "execution_count": null,
   "id": "30ecef6d-c662-4ad8-9d26-21261ed188af",
   "metadata": {},
   "outputs": [],
   "source": [
    "PR['Summary'][1]"
   ]
  },
  {
   "cell_type": "code",
   "execution_count": null,
   "id": "f604848e-77fd-480b-b171-033d08a2b290",
   "metadata": {},
   "outputs": [],
   "source": [
    "import numpy as np\n",
    "\n",
    "PR['Summary'] = PR['Summary'].fillna('')\n",
    "predicted_labels = []\n",
    "for summary in PR['Summary']:\n",
    "    predicted_label = pipeline.predict([summary])[0]\n",
    "    predicted_labels.append(predicted_label)\n",
    "\n",
    "PR['Predicted_Label'] = predicted_labels"
   ]
  },
  {
   "cell_type": "code",
   "execution_count": null,
   "id": "72e8414e-6956-4578-adad-c61d8aba42e6",
   "metadata": {},
   "outputs": [],
   "source": [
    "PR.head(2)"
   ]
  },
  {
   "cell_type": "code",
   "execution_count": null,
   "id": "79752f79-bb73-47ba-9aea-e1723f867f01",
   "metadata": {},
   "outputs": [],
   "source": [
    "import numpy as np\n",
    "import matplotlib.pyplot as plt\n",
    "from sklearn.model_selection import cross_val_score, StratifiedKFold\n",
    "from sklearn.pipeline import Pipeline\n",
    "from sklearn.ensemble import VotingClassifier\n",
    "from sklearn.svm import LinearSVC\n",
    "from sklearn.naive_bayes import MultinomialNB\n",
    "from sklearn.linear_model import LogisticRegression\n",
    "from sklearn.ensemble import RandomForestClassifier\n",
    "from sklearn.feature_extraction.text import TfidfVectorizer\n",
    "\n",
    "models = {\n",
    "    \"Linear SVC\": LinearSVC(),\n",
    "    \"Random Forest\": RandomForestClassifier(),\n",
    "    \"Ensemble (SVC, NB, LR, RF)\": VotingClassifier(\n",
    "        estimators=[\n",
    "            ('svc', LinearSVC()),\n",
    "            ('nb', MultinomialNB()),\n",
    "            ('lr', LogisticRegression()),\n",
    "            ('rf', RandomForestClassifier())\n",
    "        ],\n",
    "        voting='hard'\n",
    "    ),\n",
    "    \"Ensemble (SVC, RF)\": VotingClassifier(\n",
    "        estimators=[\n",
    "            ('svc', LinearSVC()),\n",
    "            ('rf', RandomForestClassifier())\n",
    "        ],\n",
    "        voting='hard'\n",
    "    )\n",
    "}\n",
    "\n",
    "folds = [2, 3]\n",
    "\n",
    "mean_accuracies = {}\n",
    "\n",
    "for model_name, model in models.items():\n",
    "    for fold in folds:\n",
    "        pipeline = Pipeline([\n",
    "            ('tfidf', TfidfVectorizer()),\n",
    "            ('classifier', model)\n",
    "        ])\n",
    "        cv = StratifiedKFold(n_splits=fold, shuffle=True, random_state=42)\n",
    "        cv_scores = cross_val_score(pipeline, summary_df['preprocessed_sentence'], summary_df['TBLabel'], cv=cv)\n",
    "        mean_accuracy = np.mean(cv_scores)\n",
    "        mean_accuracies[(model_name, fold)] = mean_accuracy\n",
    "\n",
    "fig, ax = plt.subplots(figsize=(12, 8))\n",
    "x = np.arange(len(models) * len(folds))\n",
    "labels = [f\"{model_name} ({fold}-fold CV)\" for model_name, fold in mean_accuracies.keys()]\n",
    "heights = mean_accuracies.values()\n",
    "ax.bar(x, heights, tick_label=labels)\n",
    "ax.set_ylabel('Mean Accuracy')\n",
    "ax.set_xticks(x)\n",
    "ax.set_xticklabels(labels, rotation=45, ha='right')\n",
    "ax.set_title('Mean Accuracy of Various Models with Different Cross-Validation Folds')\n",
    "plt.tight_layout()\n",
    "plt.show()\n"
   ]
  },
  {
   "cell_type": "code",
   "execution_count": null,
   "id": "74c189d8-f2c7-4ab5-94ea-46046e19f319",
   "metadata": {},
   "outputs": [],
   "source": []
  }
 ],
 "metadata": {
  "kernelspec": {
   "display_name": "Python 3 (ipykernel)",
   "language": "python",
   "name": "python3"
  },
  "language_info": {
   "codemirror_mode": {
    "name": "ipython",
    "version": 3
   },
   "file_extension": ".py",
   "mimetype": "text/x-python",
   "name": "python",
   "nbconvert_exporter": "python",
   "pygments_lexer": "ipython3",
   "version": "3.12.1"
  }
 },
 "nbformat": 4,
 "nbformat_minor": 5
}
