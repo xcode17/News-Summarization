{
 "cells": [
  {
   "cell_type": "code",
   "execution_count": 231,
   "id": "68776c9a-c9d5-42fc-b20b-ea17544b2394",
   "metadata": {},
   "outputs": [
    {
     "name": "stdout",
     "output_type": "stream",
     "text": [
      "                                                Reviews     label\n",
      "0     Okay, so I'm not a big video game buff, but wa...  negative\n",
      "1     The premise of this movie has been tickling my...   postive\n",
      "2     Jim Carrey is back to much the same role that ...   postive\n",
      "3     I read several mixed reviews and several of th...   postive\n",
      "4     Warning: Does contain spoilers.<br /><br />Ope...   postive\n",
      "...                                                 ...       ...\n",
      "7495  It was great to see some of my favorite stars ...  negative\n",
      "7496  2 stars for Kay Francis -- she's wonderful! An...  negative\n",
      "7497  I really wish i could give this a negative vot...  negative\n",
      "7498  I love B movies..but come on....this wasn't ev...  negative\n",
      "7499  As I said in my comment about the first part: ...   postive\n",
      "\n",
      "[7500 rows x 2 columns]\n",
      "(7500, 2)\n"
     ]
    }
   ],
   "source": [
    "import pandas as pd\n",
    "data=pd.read_csv('Data.csv')\n",
    "print(data)\n",
    "print(data.shape)"
   ]
  },
  {
   "cell_type": "code",
   "execution_count": 232,
   "id": "6080d232-4adb-4f3d-9340-c41a801ce226",
   "metadata": {},
   "outputs": [],
   "source": [
    "from bs4 import BeautifulSoup\n",
    "from nltk.tokenize import word_tokenize\n",
    "from nltk.corpus import stopwords\n",
    "from nltk.stem import WordNetLemmatizer\n",
    "import re\n",
    "import string\n",
    "import contractions\n",
    "import swifter\n",
    "\n",
    "def tosentences(article):\n",
    "    sentences=article.split(\". \")\n",
    "    sentences=[sentence.strip() for sentence in sentences]\n",
    "    return sentences"
   ]
  },
  {
   "cell_type": "code",
   "execution_count": 233,
   "id": "16e2163f-6e18-4ecc-8c72-a42a5a8eccd5",
   "metadata": {},
   "outputs": [
    {
     "data": {
      "application/vnd.jupyter.widget-view+json": {
       "model_id": "17b47f65a9f0431fb98c7cf31c19a0ab",
       "version_major": 2,
       "version_minor": 0
      },
      "text/plain": [
       "Pandas Apply:   0%|          | 0/7500 [00:00<?, ?it/s]"
      ]
     },
     "metadata": {},
     "output_type": "display_data"
    }
   ],
   "source": [
    "data['sentence']=data['Reviews'].swifter.apply(tosentences)"
   ]
  },
  {
   "cell_type": "code",
   "execution_count": 237,
   "id": "6e55aca2-f72a-471e-a35a-008e542677a6",
   "metadata": {},
   "outputs": [],
   "source": [
    "def preprocess(sentences, min_word_length=2):\n",
    "    preprocessed_sentences = []\n",
    "    for sentence in sentences:\n",
    "        soup = BeautifulSoup(sentence, 'html.parser')\n",
    "        sentence = soup.get_text()\n",
    "        sentence = contractions.fix(sentence)\n",
    "        words = word_tokenize(sentence)\n",
    "        stop_words = set(stopwords.words('english'))\n",
    "        words = [word for word in words if word.lower() not in stop_words]\n",
    "        words = [re.sub(r'\\d+', '', word) for word in words]  \n",
    "        words = [re.sub(r'\\d', '', word) for word in words]   \n",
    "        words = [re.sub(r'(.)\\1+', r'\\1\\1', word) for word in words] \n",
    "        words = [re.sub(r'\\{.*?\\}', '', word) for word in words] \n",
    "        words = [re.sub(r'^[\\'\\s]*|[^\\w\\s\\'-]', '', word) for word in words] \n",
    "        words = [re.sub(r'\\.{3,}', '', word) for word in words]  \n",
    "        words = [re.sub(r'\\.{4,}', '', word) for word in words]  \n",
    "        words = [re.sub(r'\\.( +)', '.', word) for word in words] \n",
    "        words = [word for word in words if len(word) >= min_word_length and not word.isnumeric() and word not in string.punctuation]\n",
    "        lemmatizer = WordNetLemmatizer()\n",
    "        words = [lemmatizer.lemmatize(word) for word in words]\n",
    "        preprocessed_sentence = ' '.join(words)\n",
    "        preprocessed_sentences.append(preprocessed_sentence)\n",
    "    \n",
    "    return preprocessed_sentences"
   ]
  },
  {
   "cell_type": "code",
   "execution_count": 238,
   "id": "cd761bfc-896f-422e-94a7-bd708d36c697",
   "metadata": {},
   "outputs": [
    {
     "data": {
      "application/vnd.jupyter.widget-view+json": {
       "model_id": "df215872baac492e8481b68307d27163",
       "version_major": 2,
       "version_minor": 0
      },
      "text/plain": [
       "Pandas Apply:   0%|          | 0/7500 [00:00<?, ?it/s]"
      ]
     },
     "metadata": {},
     "output_type": "display_data"
    },
    {
     "name": "stderr",
     "output_type": "stream",
     "text": [
      "C:\\Users\\akvnr\\AppData\\Local\\Temp\\ipykernel_14224\\1479389325.py:4: MarkupResemblesLocatorWarning: The input looks more like a filename than markup. You may want to open this file and pass the filehandle into Beautiful Soup.\n",
      "  soup = BeautifulSoup(sentence, 'html.parser')\n"
     ]
    }
   ],
   "source": [
    "data['processed'] = data['sentence'].swifter.apply(preprocess)"
   ]
  },
  {
   "cell_type": "code",
   "execution_count": 239,
   "id": "19385c25-7018-44bb-bba3-a0d4ca9518df",
   "metadata": {},
   "outputs": [
    {
     "data": {
      "text/plain": [
       "['Okay big video game buff game House Dead really famous enough make movie Sure went far actually put quick video game clip throughout movie though justifying particular scene violence dozen dozen game look exactly hand bottom screen supposedly holding whatever weapon goo-ing kind alien walking dead sniper whatever case may beIt interesting premise House Dead lot college kid LOADED college kid kid able pay fisherman something like ride miss boat trying get island supposed rave year',\n",
       " 'first thing come mind House Dead watching become increasingly clear modern horror movie become nothing exercise coming creative way get lot scantily clad teenager exactly situation',\n",
       " 'least case fact way rave excuse way girl dressed',\n",
       " 'look badly place running around wood cute little halter-tops least THOUGHT dressed occasionClint Howard tellingly interesting character film far delivers absolutely awful performance greatness overshadows every actor movie',\n",
       " 'stand well-known actor change accent movie rarely effective Howard show equally flat well-known actor pretend hardened fisherman raspy voice year breathing salty air',\n",
       " 'even rasp well',\n",
       " 'sounded like eating cinnamon roll shooting accidentally inhaled powdered sugar something',\n",
       " 'Real tough Clint expected agree part messOnce get island movie temporarily turn one Friday th movie took place Camp Crystal Lake',\n",
       " 'Lots teenager played actor way old part getting naked killed',\n",
       " 'nudity impressive guess let u consider something minute',\n",
       " 'kid pay almost two grand get island go Rave Year find ONE say well want beer Even guy pulled stack hundred wallet get think anything found full bar single solitary person sight',\n",
       " 'input director Uwe Boll alcohol notice party came consists one start drinking minding fact whole party seems vacated island one girl go dark wood find everyone dragging one girl one guy reluctantly along guy girl stay behind get smashed decide would great idea strip quickie alone',\n",
       " 'like expected find island empty rest people came gone little would privacy since one else around',\n",
       " 'Brilliant thing everyone hated judging review read movie',\n",
       " 'Yes intersplicing shot video game movie mostly order show yes movie faithful todirectly copying video game',\n",
       " 'Sure stupid idea',\n",
       " 'imagine thought little nugget worse Matrix-style bullet time scene thrown',\n",
       " 'first time point found pretentious cheesy movie like shot like though something original noticeable technique shot rather dramatic meaning creation kind tension filmOne thing make zombie film scary get edge seat slowly relentlessly coming living human much faster getting tired running place run terrifying shortage thing fight zombie',\n",
       " 'first two done right movie kid terrified lot place run since island since caught ride smuggler find heavily armed',\n",
       " 'mean strongly',\n",
       " 'mean people everything machine gun hand grenade remove tension impending walking deadThen call techno-slasher scene',\n",
       " 'Since rave never happened guess since Uwe Boll thought people going disappointed hearing techno music movie one scene right middle human fighting living dead amazingly enough turn something music video',\n",
       " 'techno music blasting shot edited together faster faster nothing blur gory shot mostly frame long second flashing across screen time speed techno music',\n",
       " 'Clever guess place horror movie completely remove sense scariness tension even gross-out effect see one thing long enough react',\n",
       " 'watching shot fly across screen wondering hell director thinking decided would good idea put something like movieI seen lot people compare movie Resident Evil mostly claiming copy premise exactly right',\n",
       " 'appreciate least case Resident Evil man-made virus turned people walking dead able infect people changing way vampire turn others vampire',\n",
       " 'Days Later also clearly inspiration movie bad House Dead single original thing except somewhat moronic idea putting quick shot video game based case forget',\n",
       " 'really think much better movie',\n",
       " 'obviously say know much game based title movie poster deserve much better movie unfortunately think often case horror movie',\n",
       " 'really kind sad movie come obviously advertised no-holds-barred horror film scariest thing entire movie closing shot suggests possibility sequel']"
      ]
     },
     "execution_count": 239,
     "metadata": {},
     "output_type": "execute_result"
    }
   ],
   "source": [
    "data['processed'][0]"
   ]
  },
  {
   "cell_type": "code",
   "execution_count": 240,
   "id": "3e8cbe6d-14b1-414a-85a0-984a84b3afbd",
   "metadata": {},
   "outputs": [],
   "source": [
    "def wordtokenize(sentences):\n",
    "    tokenized_sentences = []\n",
    "    for sentence in sentences:\n",
    "        words = word_tokenize(sentence.lower())\n",
    "        tokenized_sentences.append(words)\n",
    "    return tokenized_sentences"
   ]
  },
  {
   "cell_type": "code",
   "execution_count": 241,
   "id": "6d37c44d-44a3-4738-add3-bf7f4aa402fb",
   "metadata": {},
   "outputs": [],
   "source": [
    "data['tok']=data['processed'].apply(wordtokenize)"
   ]
  },
  {
   "cell_type": "code",
   "execution_count": null,
   "id": "63177cdb-2263-4032-bfe1-cf3ef39e9399",
   "metadata": {},
   "outputs": [],
   "source": [
    "import numpy as np\n",
    "from gensim.models import LdaModel\n",
    "from gensim.corpora import Dictionary\n",
    "from gensim.models.coherencemodel import CoherenceModel\n",
    "from nltk.tokenize import word_tokenize\n",
    "from nltk.corpus import stopwords\n",
    "import string\n",
    "\n",
    "\n",
    "def Iterative(row,c=1):\n",
    "    num_runs=6\n",
    "    num_topics=5\n",
    "    tokenized_sentences = [word_tokenize(sentence) for sentence in row['processed']]\n",
    "    dictionary = Dictionary(tokenized_sentences)\n",
    "    corpus = [dictionary.doc2bow(doc) for doc in tokenized_sentences]\n",
    "    coherence_scores = []\n",
    "    lda_models = []\n",
    "    t = []\n",
    "    for i in range(num_runs):\n",
    "        t.append(num_topics)\n",
    "        lda_model = LdaModel(corpus=corpus, id2word=dictionary, num_topics=num_topics)\n",
    "        coherence_model = CoherenceModel(model=lda_model, texts=tokenized_sentences, dictionary=dictionary, coherence='c_v')\n",
    "        coherence_score = coherence_model.get_coherence()\n",
    "        coherence_scores.append(coherence_score)\n",
    "        lda_models.append(lda_model)\n",
    "        num_topics += 1\n",
    "        \n",
    "    best_model_index = np.argmax(coherence_scores)\n",
    "    best_model = lda_models[best_model_index]\n",
    "    \n",
    "    topic_words_list = []\n",
    "    for idx, topic in best_model.print_topics(-1):\n",
    "        topic_words = [word.split('\"')[1] for word in topic.split()[1:] if '\"' in word]\n",
    "        topic_words_list.append(topic_words)\n",
    "    print(c,end=' ')\n",
    "    sentence_topic_distributions = []\n",
    "    for doc in corpus:\n",
    "        sentence_topic_distribution = best_model.get_document_topics(doc)\n",
    "        sentence_topic_distributions.append(dict(sentence_topic_distribution))    \n",
    "    row['topic_words'] = topic_words_list\n",
    "    row['sentence_topic_distributions'] = sentence_topic_distributions\n",
    "    row['T'] = t\n",
    "    row['CS'] = coherence_scores\n",
    "    return row"
   ]
  },
  {
   "cell_type": "code",
   "execution_count": null,
   "id": "29ac92c4-7aa6-4767-a435-0d4befae7800",
   "metadata": {},
   "outputs": [],
   "source": [
    "import time\n",
    "from datetime import datetime\n",
    "start_time = time.time()\n",
    "Iter=Iter.apply(Iterative,axis=1)\n",
    "end_time = time.time()\n",
    "execution_time_seconds=end_time - start_time\n",
    "execution_time_formatted = execution_time_seconds/60\n",
    "print(\"Execution Time:\", execution_time_formatted)"
   ]
  },
  {
   "cell_type": "code",
   "execution_count": 1,
   "id": "4490d951-4fcf-4b58-accb-010fd0fe31ef",
   "metadata": {},
   "outputs": [],
   "source": [
    "import pandas as pd\n",
    "Iter=pd.read_csv('TSDA1.csv')"
   ]
  },
  {
   "cell_type": "code",
   "execution_count": 2,
   "id": "40dfb4ec-b844-4af0-aef9-9c268ec61228",
   "metadata": {},
   "outputs": [
    {
     "data": {
      "text/html": [
       "<div>\n",
       "<style scoped>\n",
       "    .dataframe tbody tr th:only-of-type {\n",
       "        vertical-align: middle;\n",
       "    }\n",
       "\n",
       "    .dataframe tbody tr th {\n",
       "        vertical-align: top;\n",
       "    }\n",
       "\n",
       "    .dataframe thead th {\n",
       "        text-align: right;\n",
       "    }\n",
       "</style>\n",
       "<table border=\"1\" class=\"dataframe\">\n",
       "  <thead>\n",
       "    <tr style=\"text-align: right;\">\n",
       "      <th></th>\n",
       "      <th>Reviews</th>\n",
       "      <th>label</th>\n",
       "      <th>sentence</th>\n",
       "      <th>processed</th>\n",
       "      <th>tok</th>\n",
       "      <th>topic_words</th>\n",
       "      <th>sentence_topic_distributions</th>\n",
       "      <th>T</th>\n",
       "      <th>CS</th>\n",
       "    </tr>\n",
       "  </thead>\n",
       "  <tbody>\n",
       "    <tr>\n",
       "      <th>0</th>\n",
       "      <td>Okay, so I'm not a big video game buff, but wa...</td>\n",
       "      <td>negative</td>\n",
       "      <td>[\"Okay, so I'm not a big video game buff, but ...</td>\n",
       "      <td>['Okay big video game buff game House Dead rea...</td>\n",
       "      <td>[['okay', 'big', 'video', 'game', 'buff', 'gam...</td>\n",
       "      <td>[['well-known', 'Sure', 'movie', 'something', ...</td>\n",
       "      <td>[{1: 0.9545177, 4: 0.03509016}, {7: 0.96665996...</td>\n",
       "      <td>[5, 6, 7, 8, 9, 10]</td>\n",
       "      <td>[0.4583729995310059, 0.334587069025875, 0.3904...</td>\n",
       "    </tr>\n",
       "    <tr>\n",
       "      <th>1</th>\n",
       "      <td>The premise of this movie has been tickling my...</td>\n",
       "      <td>postive</td>\n",
       "      <td>['The premise of this movie has been tickling ...</td>\n",
       "      <td>['premise movie tickling imagination quite tim...</td>\n",
       "      <td>[['premise', 'movie', 'tickling', 'imagination...</td>\n",
       "      <td>[['movie', 'like', 'story', 'Nothing', 'extrem...</td>\n",
       "      <td>[{0: 0.014288956, 1: 0.014285956, 2: 0.0142859...</td>\n",
       "      <td>[5, 6, 7, 8, 9, 10]</td>\n",
       "      <td>[0.3372027356528349, 0.33957990065147653, 0.34...</td>\n",
       "    </tr>\n",
       "    <tr>\n",
       "      <th>2</th>\n",
       "      <td>Jim Carrey is back to much the same role that ...</td>\n",
       "      <td>postive</td>\n",
       "      <td>['Jim Carrey is back to much the same role tha...</td>\n",
       "      <td>['Jim Carrey back much role played Mask timid ...</td>\n",
       "      <td>[['jim', 'carrey', 'back', 'much', 'role', 'pl...</td>\n",
       "      <td>[['comedy', 'nice', 'see', 'cheesy', 'definite...</td>\n",
       "      <td>[{5: 0.95061326}, {5: 0.9477094}, {8: 0.931618...</td>\n",
       "      <td>[5, 6, 7, 8, 9, 10]</td>\n",
       "      <td>[0.4738946513467172, 0.4727621906821173, 0.386...</td>\n",
       "    </tr>\n",
       "    <tr>\n",
       "      <th>3</th>\n",
       "      <td>I read several mixed reviews and several of th...</td>\n",
       "      <td>postive</td>\n",
       "      <td>['I read several mixed reviews and several of ...</td>\n",
       "      <td>['read several mixed review several downright ...</td>\n",
       "      <td>[['read', 'several', 'mixed', 'review', 'sever...</td>\n",
       "      <td>[['lot', 'movie', 'give', 'Scott', 'people', '...</td>\n",
       "      <td>[{0: 0.011111938, 1: 0.01111126, 2: 0.01111146...</td>\n",
       "      <td>[5, 6, 7, 8, 9, 10]</td>\n",
       "      <td>[0.36906453003518147, 0.32832384974819934, 0.3...</td>\n",
       "    </tr>\n",
       "    <tr>\n",
       "      <th>4</th>\n",
       "      <td>Warning: Does contain spoilers.&lt;br /&gt;&lt;br /&gt;Ope...</td>\n",
       "      <td>postive</td>\n",
       "      <td>['Warning: Does contain spoilers.&lt;br /&gt;&lt;br /&gt;O...</td>\n",
       "      <td>['Warning contain spoilersOpen EyesIf seen fil...</td>\n",
       "      <td>[['warning', 'contain', 'spoilersopen', 'eyesi...</td>\n",
       "      <td>[['craze', 'Julie', 'play', 'good', 'character...</td>\n",
       "      <td>[{0: 0.013890208, 1: 0.013897444, 2: 0.0139040...</td>\n",
       "      <td>[5, 6, 7, 8, 9, 10]</td>\n",
       "      <td>[0.3995085302800798, 0.4099410207385928, 0.369...</td>\n",
       "    </tr>\n",
       "    <tr>\n",
       "      <th>...</th>\n",
       "      <td>...</td>\n",
       "      <td>...</td>\n",
       "      <td>...</td>\n",
       "      <td>...</td>\n",
       "      <td>...</td>\n",
       "      <td>...</td>\n",
       "      <td>...</td>\n",
       "      <td>...</td>\n",
       "      <td>...</td>\n",
       "    </tr>\n",
       "    <tr>\n",
       "      <th>495</th>\n",
       "      <td>The key to the joy and beauty, the pain and sa...</td>\n",
       "      <td>postive</td>\n",
       "      <td>[\"The key to the joy and beauty, the pain and ...</td>\n",
       "      <td>['key joy beauty pain sadness life ability acc...</td>\n",
       "      <td>[['key', 'joy', 'beauty', 'pain', 'sadness', '...</td>\n",
       "      <td>[['played', 'yet', 'fable', 'beautiful', 'well...</td>\n",
       "      <td>[{5: 0.94531196}, {0: 0.041666806, 1: 0.041666...</td>\n",
       "      <td>[5, 6, 7, 8, 9, 10]</td>\n",
       "      <td>[0.4987844245355492, 0.4893576390582497, 0.508...</td>\n",
       "    </tr>\n",
       "    <tr>\n",
       "      <th>496</th>\n",
       "      <td>This film started out very promising with the ...</td>\n",
       "      <td>negative</td>\n",
       "      <td>['This film started out very promising with th...</td>\n",
       "      <td>['film started promising story director loses ...</td>\n",
       "      <td>[['film', 'started', 'promising', 'story', 'di...</td>\n",
       "      <td>[['ship', 'know', 'character', 'somewhere', 'H...</td>\n",
       "      <td>[{0: 0.013898993, 1: 0.013907761, 2: 0.0139031...</td>\n",
       "      <td>[5, 6, 7, 8, 9, 10]</td>\n",
       "      <td>[0.5161691232150755, 0.6296543045345957, 0.516...</td>\n",
       "    </tr>\n",
       "    <tr>\n",
       "      <th>497</th>\n",
       "      <td>This film is one of the best shorts I've ever ...</td>\n",
       "      <td>postive</td>\n",
       "      <td>['This film is one of the best shorts I\\'ve ev...</td>\n",
       "      <td>['film one best short ever seen make point maj...</td>\n",
       "      <td>[['film', 'one', 'best', 'short', 'ever', 'see...</td>\n",
       "      <td>[['engaging', 'award', 'people', 'script', 'li...</td>\n",
       "      <td>[{2: 0.051776588, 6: 0.9124676}, {0: 0.0109891...</td>\n",
       "      <td>[5, 6, 7, 8, 9, 10]</td>\n",
       "      <td>[0.5751657189619286, 0.43900857778711716, 0.60...</td>\n",
       "    </tr>\n",
       "    <tr>\n",
       "      <th>498</th>\n",
       "      <td>I am amazed at the amount of praise that is he...</td>\n",
       "      <td>negative</td>\n",
       "      <td>['I am amazed at the amount of praise that is ...</td>\n",
       "      <td>['amazed amount praise heaped movie commentato...</td>\n",
       "      <td>[['amazed', 'amount', 'praise', 'heaped', 'mov...</td>\n",
       "      <td>[['Republic', 'Campbell', 'Jr', 'wife', 'story...</td>\n",
       "      <td>[{0: 0.0142862145, 1: 0.014286415, 2: 0.014285...</td>\n",
       "      <td>[5, 6, 7, 8, 9, 10]</td>\n",
       "      <td>[0.40678453470555914, 0.4187965512943764, 0.40...</td>\n",
       "    </tr>\n",
       "    <tr>\n",
       "      <th>499</th>\n",
       "      <td>This was basically an attempt to do the same t...</td>\n",
       "      <td>postive</td>\n",
       "      <td>['This was basically an attempt to do the same...</td>\n",
       "      <td>['basically attempt thing Batman done Gilligan...</td>\n",
       "      <td>[['basically', 'attempt', 'thing', 'batman', '...</td>\n",
       "      <td>[['well', 'Newmar', 'plot', 'enough', 'Frank',...</td>\n",
       "      <td>[{5: 0.20955265, 7: 0.7741193}, {0: 0.01000023...</td>\n",
       "      <td>[5, 6, 7, 8, 9, 10]</td>\n",
       "      <td>[0.40608937517305205, 0.4280625522256984, 0.41...</td>\n",
       "    </tr>\n",
       "  </tbody>\n",
       "</table>\n",
       "<p>500 rows × 9 columns</p>\n",
       "</div>"
      ],
      "text/plain": [
       "                                               Reviews     label  \\\n",
       "0    Okay, so I'm not a big video game buff, but wa...  negative   \n",
       "1    The premise of this movie has been tickling my...   postive   \n",
       "2    Jim Carrey is back to much the same role that ...   postive   \n",
       "3    I read several mixed reviews and several of th...   postive   \n",
       "4    Warning: Does contain spoilers.<br /><br />Ope...   postive   \n",
       "..                                                 ...       ...   \n",
       "495  The key to the joy and beauty, the pain and sa...   postive   \n",
       "496  This film started out very promising with the ...  negative   \n",
       "497  This film is one of the best shorts I've ever ...   postive   \n",
       "498  I am amazed at the amount of praise that is he...  negative   \n",
       "499  This was basically an attempt to do the same t...   postive   \n",
       "\n",
       "                                              sentence  \\\n",
       "0    [\"Okay, so I'm not a big video game buff, but ...   \n",
       "1    ['The premise of this movie has been tickling ...   \n",
       "2    ['Jim Carrey is back to much the same role tha...   \n",
       "3    ['I read several mixed reviews and several of ...   \n",
       "4    ['Warning: Does contain spoilers.<br /><br />O...   \n",
       "..                                                 ...   \n",
       "495  [\"The key to the joy and beauty, the pain and ...   \n",
       "496  ['This film started out very promising with th...   \n",
       "497  ['This film is one of the best shorts I\\'ve ev...   \n",
       "498  ['I am amazed at the amount of praise that is ...   \n",
       "499  ['This was basically an attempt to do the same...   \n",
       "\n",
       "                                             processed  \\\n",
       "0    ['Okay big video game buff game House Dead rea...   \n",
       "1    ['premise movie tickling imagination quite tim...   \n",
       "2    ['Jim Carrey back much role played Mask timid ...   \n",
       "3    ['read several mixed review several downright ...   \n",
       "4    ['Warning contain spoilersOpen EyesIf seen fil...   \n",
       "..                                                 ...   \n",
       "495  ['key joy beauty pain sadness life ability acc...   \n",
       "496  ['film started promising story director loses ...   \n",
       "497  ['film one best short ever seen make point maj...   \n",
       "498  ['amazed amount praise heaped movie commentato...   \n",
       "499  ['basically attempt thing Batman done Gilligan...   \n",
       "\n",
       "                                                   tok  \\\n",
       "0    [['okay', 'big', 'video', 'game', 'buff', 'gam...   \n",
       "1    [['premise', 'movie', 'tickling', 'imagination...   \n",
       "2    [['jim', 'carrey', 'back', 'much', 'role', 'pl...   \n",
       "3    [['read', 'several', 'mixed', 'review', 'sever...   \n",
       "4    [['warning', 'contain', 'spoilersopen', 'eyesi...   \n",
       "..                                                 ...   \n",
       "495  [['key', 'joy', 'beauty', 'pain', 'sadness', '...   \n",
       "496  [['film', 'started', 'promising', 'story', 'di...   \n",
       "497  [['film', 'one', 'best', 'short', 'ever', 'see...   \n",
       "498  [['amazed', 'amount', 'praise', 'heaped', 'mov...   \n",
       "499  [['basically', 'attempt', 'thing', 'batman', '...   \n",
       "\n",
       "                                           topic_words  \\\n",
       "0    [['well-known', 'Sure', 'movie', 'something', ...   \n",
       "1    [['movie', 'like', 'story', 'Nothing', 'extrem...   \n",
       "2    [['comedy', 'nice', 'see', 'cheesy', 'definite...   \n",
       "3    [['lot', 'movie', 'give', 'Scott', 'people', '...   \n",
       "4    [['craze', 'Julie', 'play', 'good', 'character...   \n",
       "..                                                 ...   \n",
       "495  [['played', 'yet', 'fable', 'beautiful', 'well...   \n",
       "496  [['ship', 'know', 'character', 'somewhere', 'H...   \n",
       "497  [['engaging', 'award', 'people', 'script', 'li...   \n",
       "498  [['Republic', 'Campbell', 'Jr', 'wife', 'story...   \n",
       "499  [['well', 'Newmar', 'plot', 'enough', 'Frank',...   \n",
       "\n",
       "                          sentence_topic_distributions                    T  \\\n",
       "0    [{1: 0.9545177, 4: 0.03509016}, {7: 0.96665996...  [5, 6, 7, 8, 9, 10]   \n",
       "1    [{0: 0.014288956, 1: 0.014285956, 2: 0.0142859...  [5, 6, 7, 8, 9, 10]   \n",
       "2    [{5: 0.95061326}, {5: 0.9477094}, {8: 0.931618...  [5, 6, 7, 8, 9, 10]   \n",
       "3    [{0: 0.011111938, 1: 0.01111126, 2: 0.01111146...  [5, 6, 7, 8, 9, 10]   \n",
       "4    [{0: 0.013890208, 1: 0.013897444, 2: 0.0139040...  [5, 6, 7, 8, 9, 10]   \n",
       "..                                                 ...                  ...   \n",
       "495  [{5: 0.94531196}, {0: 0.041666806, 1: 0.041666...  [5, 6, 7, 8, 9, 10]   \n",
       "496  [{0: 0.013898993, 1: 0.013907761, 2: 0.0139031...  [5, 6, 7, 8, 9, 10]   \n",
       "497  [{2: 0.051776588, 6: 0.9124676}, {0: 0.0109891...  [5, 6, 7, 8, 9, 10]   \n",
       "498  [{0: 0.0142862145, 1: 0.014286415, 2: 0.014285...  [5, 6, 7, 8, 9, 10]   \n",
       "499  [{5: 0.20955265, 7: 0.7741193}, {0: 0.01000023...  [5, 6, 7, 8, 9, 10]   \n",
       "\n",
       "                                                    CS  \n",
       "0    [0.4583729995310059, 0.334587069025875, 0.3904...  \n",
       "1    [0.3372027356528349, 0.33957990065147653, 0.34...  \n",
       "2    [0.4738946513467172, 0.4727621906821173, 0.386...  \n",
       "3    [0.36906453003518147, 0.32832384974819934, 0.3...  \n",
       "4    [0.3995085302800798, 0.4099410207385928, 0.369...  \n",
       "..                                                 ...  \n",
       "495  [0.4987844245355492, 0.4893576390582497, 0.508...  \n",
       "496  [0.5161691232150755, 0.6296543045345957, 0.516...  \n",
       "497  [0.5751657189619286, 0.43900857778711716, 0.60...  \n",
       "498  [0.40678453470555914, 0.4187965512943764, 0.40...  \n",
       "499  [0.40608937517305205, 0.4280625522256984, 0.41...  \n",
       "\n",
       "[500 rows x 9 columns]"
      ]
     },
     "execution_count": 2,
     "metadata": {},
     "output_type": "execute_result"
    }
   ],
   "source": [
    "Iter"
   ]
  },
  {
   "cell_type": "code",
   "execution_count": 3,
   "id": "ac17711a-e6d8-42f3-aa12-c8110d5c1f3c",
   "metadata": {},
   "outputs": [
    {
     "name": "stdout",
     "output_type": "stream",
     "text": [
      "x shape: 6\n",
      "y shape: 6\n"
     ]
    },
    {
     "data": {
      "image/png": "[encoded data removed]",
      "text/plain": [
       "<Figure size 640x480 with 1 Axes>"
      ]
     },
     "metadata": {},
     "output_type": "display_data"
    },
    {
     "name": "stdout",
     "output_type": "stream",
     "text": [
      "x shape: 6\n",
      "y shape: 6\n"
     ]
    },
    {
     "data": {
      "image/png": "[encoded data removed]",
      "text/plain": [
       "<Figure size 640x480 with 1 Axes>"
      ]
     },
     "metadata": {},
     "output_type": "display_data"
    },
    {
     "name": "stdout",
     "output_type": "stream",
     "text": [
      "x shape: 6\n",
      "y shape: 6\n"
     ]
    },
    {
     "data": {
      "image/png": "[encoded data removed]",
      "text/plain": [
       "<Figure size 640x480 with 1 Axes>"
      ]
     },
     "metadata": {},
     "output_type": "display_data"
    }
   ],
   "source": [
    "import matplotlib.pyplot as plt\n",
    "\n",
    "def plotnc(x, y, i):\n",
    "    if isinstance(x, str):\n",
    "        x = eval(x)\n",
    "    if isinstance(y, str):\n",
    "        y = eval(y)\n",
    "    x = [int(val) for val in x]\n",
    "    y = [float(val) for val in y]\n",
    "    print(\"x shape:\", len(x))  \n",
    "    print(\"y shape:\", len(y)) \n",
    "    plt.plot(x, y, marker='o', linestyle='-')\n",
    "    plt.xlabel('Number of Topics')\n",
    "    plt.ylabel('Coherence Score')\n",
    "    plt.title('Number of Topics vs Coherence Score For Sample Document ' + str(i))\n",
    "    plt.grid(True)\n",
    "    plt.show()\n",
    "\n",
    "for i in range(3):\n",
    "    x_values = Iter['T'][i] \n",
    "    y_values = Iter['CS'][i]\n",
    "    plotnc(x_values, y_values, i)\n"
   ]
  },
  {
   "cell_type": "code",
   "execution_count": 4,
   "id": "a79ad42e-25b1-45e4-9171-a5c31209b710",
   "metadata": {},
   "outputs": [
    {
     "data": {
      "application/vnd.jupyter.widget-view+json": {
       "model_id": "445912dc43d44ea3ba51de3edf6ffd6e",
       "version_major": 2,
       "version_minor": 0
      },
      "text/plain": [
       "Pandas Apply:   0%|          | 0/500 [00:00<?, ?it/s]"
      ]
     },
     "metadata": {},
     "output_type": "display_data"
    }
   ],
   "source": [
    "import ast\n",
    "import swifter\n",
    "\n",
    "def filter_topic_distribution(topic_distribution_list):\n",
    "    theta = 0.1\n",
    "    t1_list = []\n",
    "    distribution_list = ast.literal_eval(topic_distribution_list)\n",
    "    for distribution in distribution_list:\n",
    "        filtered_distribution = [{k: v} for k, v in distribution.items() if v > theta]\n",
    "        t1_list.extend(filtered_distribution)\n",
    "    return t1_list\n",
    "\n",
    "Iter['DTC'] = Iter['sentence_topic_distributions'].swifter.apply(filter_topic_distribution)"
   ]
  },
  {
   "cell_type": "code",
   "execution_count": 5,
   "id": "55804c92-cfa3-4768-b9f9-cbd08c0f5a8f",
   "metadata": {},
   "outputs": [
    {
     "data": {
      "text/plain": [
       "[{1: 0.9545177},\n",
       " {7: 0.96665996},\n",
       " {2: 0.90999764},\n",
       " {4: 0.9689605},\n",
       " {0: 0.96249825},\n",
       " {3: 0.774996},\n",
       " {0: 0.9249976},\n",
       " {6: 0.95908606},\n",
       " {8: 0.9181775},\n",
       " {3: 0.899998},\n",
       " {6: 0.97272474},\n",
       " {4: 0.9808503},\n",
       " {4: 0.94705486},\n",
       " {5: 0.8999953},\n",
       " {9: 0.94705623},\n",
       " {0: 0.7749911},\n",
       " {4: 0.9181777},\n",
       " {5: 0.9816315},\n",
       " {9: 0.9549979},\n",
       " {6: 0.6999948},\n",
       " {6: 0.9437475},\n",
       " {4: 0.5082871},\n",
       " {6: 0.46590003},\n",
       " {1: 0.96249866},\n",
       " {5: 0.9549975},\n",
       " {6: 0.97096187},\n",
       " {2: 0.957142},\n",
       " {8: 0.9639977},\n",
       " {4: 0.31202573},\n",
       " {8: 0.5546321},\n",
       " {8: 0.9549978},\n",
       " {9: 0.95499074}]"
      ]
     },
     "execution_count": 5,
     "metadata": {},
     "output_type": "execute_result"
    }
   ],
   "source": [
    "Iter['DTC'][0]"
   ]
  },
  {
   "cell_type": "code",
   "execution_count": 6,
   "id": "361c2059-8bc0-4a73-867e-8227407834be",
   "metadata": {},
   "outputs": [],
   "source": [
    "def get_dominant_topics(sentence_topic_distribution):\n",
    "    dominant_topics = []\n",
    "    for distribution in sentence_topic_distribution:\n",
    "        dominant_topic = max(distribution, key=distribution.get)\n",
    "        dominant_topics.append(dominant_topic)\n",
    "    return dominant_topics"
   ]
  },
  {
   "cell_type": "code",
   "execution_count": 7,
   "id": "3fc141d9-c097-48a4-b536-34890a746a80",
   "metadata": {},
   "outputs": [
    {
     "data": {
      "application/vnd.jupyter.widget-view+json": {
       "model_id": "fffcb2415580473faa2760d12464592a",
       "version_major": 2,
       "version_minor": 0
      },
      "text/plain": [
       "Pandas Apply:   0%|          | 0/500 [00:00<?, ?it/s]"
      ]
     },
     "metadata": {},
     "output_type": "display_data"
    }
   ],
   "source": [
    "Iter['ST']=Iter['DTC'].swifter.apply(get_dominant_topics)"
   ]
  },
  {
   "cell_type": "code",
   "execution_count": 8,
   "id": "b43dea29-2ba0-4416-ac74-0796f0156136",
   "metadata": {},
   "outputs": [
    {
     "data": {
      "text/plain": [
       "[1,\n",
       " 7,\n",
       " 2,\n",
       " 4,\n",
       " 0,\n",
       " 3,\n",
       " 0,\n",
       " 6,\n",
       " 8,\n",
       " 3,\n",
       " 6,\n",
       " 4,\n",
       " 4,\n",
       " 5,\n",
       " 9,\n",
       " 0,\n",
       " 4,\n",
       " 5,\n",
       " 9,\n",
       " 6,\n",
       " 6,\n",
       " 4,\n",
       " 6,\n",
       " 1,\n",
       " 5,\n",
       " 6,\n",
       " 2,\n",
       " 8,\n",
       " 4,\n",
       " 8,\n",
       " 8,\n",
       " 9]"
      ]
     },
     "execution_count": 8,
     "metadata": {},
     "output_type": "execute_result"
    }
   ],
   "source": [
    "Iter['ST'][0]"
   ]
  },
  {
   "cell_type": "code",
   "execution_count": 9,
   "id": "de932789-fecf-43c7-ba23-44705e9d5f55",
   "metadata": {},
   "outputs": [],
   "source": [
    "def get_topic_words(row):\n",
    "    index_values = row['ST']\n",
    "    topic_words = row['topic_word']\n",
    "    result = []\n",
    "    for index in index_values:\n",
    "        if 0 <= index < len(topic_words):\n",
    "            result.append(topic_words[index])\n",
    "        else:\n",
    "            result.append(None) \n",
    "    return result"
   ]
  },
  {
   "cell_type": "code",
   "execution_count": 10,
   "id": "f41b754b-1033-4ee8-8077-583f1a1a89fe",
   "metadata": {},
   "outputs": [],
   "source": [
    "Iter['topic_word'] = Iter['topic_words'].apply(ast.literal_eval)\n",
    "Iter['ATW'] = Iter.apply(get_topic_words, axis=1)"
   ]
  },
  {
   "cell_type": "code",
   "execution_count": 11,
   "id": "79373309-8626-41ba-8e9f-ea3b169aba5d",
   "metadata": {},
   "outputs": [
    {
     "data": {
      "text/plain": [
       "\"['Okay big video game buff game House Dead really famous enough make movie Sure went far actually put quick video game clip throughout movie though justifying particular scene violence dozen dozen game look exactly hand bottom screen supposedly holding whatever weapon goo-ing kind alien walking dead sniper whatever case may beIt interesting premise House Dead lot college kid LOADED college kid kid able pay fisherman something like ride miss boat trying get island supposed rave year', 'first thing come mind House Dead watching become increasingly clear modern horror movie become nothing exercise coming creative way get lot scantily clad teenager exactly situation', 'least case fact way rave excuse way girl dressed', 'look badly place running around wood cute little halter-tops least THOUGHT dressed occasionClint Howard tellingly interesting character film far delivers absolutely awful performance greatness overshadows every actor movie', 'stand well-known actor change accent movie rarely effective Howard show equally flat well-known actor pretend hardened fisherman raspy voice year breathing salty air', 'even rasp well', 'sounded like eating cinnamon roll shooting accidentally inhaled powdered sugar something', 'Real tough Clint expected agree part messOnce get island movie temporarily turn one Friday th movie took place Camp Crystal Lake', 'Lots teenager played actor way old part getting naked killed', 'nudity impressive guess let u consider something minute', 'kid pay almost two grand get island go Rave Year find ONE say well want beer Even guy pulled stack hundred wallet get think anything found full bar single solitary person sight', 'input director Uwe Boll alcohol notice party came consists one start drinking minding fact whole party seems vacated island one girl go dark wood find everyone dragging one girl one guy reluctantly along guy girl stay behind get smashed decide would great idea strip quickie alone', 'like expected find island empty rest people came gone little would privacy since one else around', 'Brilliant thing everyone hated judging review read movie', 'Yes intersplicing shot video game movie mostly order show yes movie faithful todirectly copying video game', 'Sure stupid idea', 'imagine thought little nugget worse Matrix-style bullet time scene thrown', 'first time point found pretentious cheesy movie like shot like though something original noticeable technique shot rather dramatic meaning creation kind tension filmOne thing make zombie film scary get edge seat slowly relentlessly coming living human much faster getting tired running place run terrifying shortage thing fight zombie', 'first two done right movie kid terrified lot place run since island since caught ride smuggler find heavily armed', 'mean strongly', 'mean people everything machine gun hand grenade remove tension impending walking deadThen call techno-slasher scene', 'Since rave never happened guess since Uwe Boll thought people going disappointed hearing techno music movie one scene right middle human fighting living dead amazingly enough turn something music video', 'techno music blasting shot edited together faster faster nothing blur gory shot mostly frame long second flashing across screen time speed techno music', 'Clever guess place horror movie completely remove sense scariness tension even gross-out effect see one thing long enough react', 'watching shot fly across screen wondering hell director thinking decided would good idea put something like movieI seen lot people compare movie Resident Evil mostly claiming copy premise exactly right', 'appreciate least case Resident Evil man-made virus turned people walking dead able infect people changing way vampire turn others vampire', 'Days Later also clearly inspiration movie bad House Dead single original thing except somewhat moronic idea putting quick shot video game based case forget', 'really think much better movie', 'obviously say know much game based title movie poster deserve much better movie unfortunately think often case horror movie', 'really kind sad movie come obviously advertised no-holds-barred horror film scariest thing entire movie closing shot suggests possibility sequel']\""
      ]
     },
     "execution_count": 11,
     "metadata": {},
     "output_type": "execute_result"
    }
   ],
   "source": [
    "Iter['processed'][0]"
   ]
  },
  {
   "cell_type": "code",
   "execution_count": 12,
   "id": "d0b3d754-245d-4ae3-a18b-8262ee64d17a",
   "metadata": {},
   "outputs": [
    {
     "data": {
      "text/plain": [
       "[['faster',\n",
       "  'shot',\n",
       "  'techno',\n",
       "  'game',\n",
       "  'screen',\n",
       "  'gory',\n",
       "  'time',\n",
       "  'long',\n",
       "  'blasting'],\n",
       " ['nothing',\n",
       "  'House',\n",
       "  'get',\n",
       "  'watching',\n",
       "  'lot',\n",
       "  'Dead',\n",
       "  'teenager',\n",
       "  'coming',\n",
       "  'first'],\n",
       " ['people',\n",
       "  'case',\n",
       "  'vampire',\n",
       "  'least',\n",
       "  'Evil',\n",
       "  'Resident',\n",
       "  'dead',\n",
       "  'man-made',\n",
       "  'walking'],\n",
       " ['movie', 'girl', 'island', 'little', 'get', 'find', 'guy', 'really', 'came'],\n",
       " ['well-known',\n",
       "  'Sure',\n",
       "  'movie',\n",
       "  'something',\n",
       "  'like',\n",
       "  'fisherman',\n",
       "  'year',\n",
       "  'eating',\n",
       "  'inhaled'],\n",
       " ['nudity',\n",
       "  'u',\n",
       "  'let',\n",
       "  'minute',\n",
       "  'impressive',\n",
       "  'guess',\n",
       "  'something',\n",
       "  'rasp',\n",
       "  'well'],\n",
       " ['well-known',\n",
       "  'Sure',\n",
       "  'movie',\n",
       "  'something',\n",
       "  'like',\n",
       "  'fisherman',\n",
       "  'year',\n",
       "  'eating',\n",
       "  'inhaled'],\n",
       " ['people',\n",
       "  'get',\n",
       "  'mean',\n",
       "  'island',\n",
       "  'scene',\n",
       "  'one',\n",
       "  'turn',\n",
       "  'hand',\n",
       "  'walking'],\n",
       " ['much',\n",
       "  'game',\n",
       "  'case',\n",
       "  'based',\n",
       "  'part',\n",
       "  'actor',\n",
       "  'shot',\n",
       "  'thing',\n",
       "  'original'],\n",
       " ['nudity',\n",
       "  'u',\n",
       "  'let',\n",
       "  'minute',\n",
       "  'impressive',\n",
       "  'guess',\n",
       "  'something',\n",
       "  'rasp',\n",
       "  'well'],\n",
       " ['people',\n",
       "  'get',\n",
       "  'mean',\n",
       "  'island',\n",
       "  'scene',\n",
       "  'one',\n",
       "  'turn',\n",
       "  'hand',\n",
       "  'walking'],\n",
       " ['movie', 'girl', 'island', 'little', 'get', 'find', 'guy', 'really', 'came'],\n",
       " ['movie', 'girl', 'island', 'little', 'get', 'find', 'guy', 'really', 'came'],\n",
       " ['movie',\n",
       "  'tension',\n",
       "  'place',\n",
       "  'zombie',\n",
       "  'shot',\n",
       "  'like',\n",
       "  'horror',\n",
       "  'enough',\n",
       "  'even'],\n",
       " ['video',\n",
       "  'since',\n",
       "  'game',\n",
       "  'shot',\n",
       "  'right',\n",
       "  'terrified',\n",
       "  'armed',\n",
       "  'heavily',\n",
       "  'show'],\n",
       " ['well-known',\n",
       "  'Sure',\n",
       "  'movie',\n",
       "  'something',\n",
       "  'like',\n",
       "  'fisherman',\n",
       "  'year',\n",
       "  'eating',\n",
       "  'inhaled'],\n",
       " ['movie', 'girl', 'island', 'little', 'get', 'find', 'guy', 'really', 'came'],\n",
       " ['movie',\n",
       "  'tension',\n",
       "  'place',\n",
       "  'zombie',\n",
       "  'shot',\n",
       "  'like',\n",
       "  'horror',\n",
       "  'enough',\n",
       "  'even'],\n",
       " ['video',\n",
       "  'since',\n",
       "  'game',\n",
       "  'shot',\n",
       "  'right',\n",
       "  'terrified',\n",
       "  'armed',\n",
       "  'heavily',\n",
       "  'show'],\n",
       " ['people',\n",
       "  'get',\n",
       "  'mean',\n",
       "  'island',\n",
       "  'scene',\n",
       "  'one',\n",
       "  'turn',\n",
       "  'hand',\n",
       "  'walking'],\n",
       " ['people',\n",
       "  'get',\n",
       "  'mean',\n",
       "  'island',\n",
       "  'scene',\n",
       "  'one',\n",
       "  'turn',\n",
       "  'hand',\n",
       "  'walking'],\n",
       " ['movie', 'girl', 'island', 'little', 'get', 'find', 'guy', 'really', 'came'],\n",
       " ['people',\n",
       "  'get',\n",
       "  'mean',\n",
       "  'island',\n",
       "  'scene',\n",
       "  'one',\n",
       "  'turn',\n",
       "  'hand',\n",
       "  'walking'],\n",
       " ['faster',\n",
       "  'shot',\n",
       "  'techno',\n",
       "  'game',\n",
       "  'screen',\n",
       "  'gory',\n",
       "  'time',\n",
       "  'long',\n",
       "  'blasting'],\n",
       " ['movie',\n",
       "  'tension',\n",
       "  'place',\n",
       "  'zombie',\n",
       "  'shot',\n",
       "  'like',\n",
       "  'horror',\n",
       "  'enough',\n",
       "  'even'],\n",
       " ['people',\n",
       "  'get',\n",
       "  'mean',\n",
       "  'island',\n",
       "  'scene',\n",
       "  'one',\n",
       "  'turn',\n",
       "  'hand',\n",
       "  'walking'],\n",
       " ['people',\n",
       "  'case',\n",
       "  'vampire',\n",
       "  'least',\n",
       "  'Evil',\n",
       "  'Resident',\n",
       "  'dead',\n",
       "  'man-made',\n",
       "  'walking'],\n",
       " ['much',\n",
       "  'game',\n",
       "  'case',\n",
       "  'based',\n",
       "  'part',\n",
       "  'actor',\n",
       "  'shot',\n",
       "  'thing',\n",
       "  'original'],\n",
       " ['movie', 'girl', 'island', 'little', 'get', 'find', 'guy', 'really', 'came'],\n",
       " ['much',\n",
       "  'game',\n",
       "  'case',\n",
       "  'based',\n",
       "  'part',\n",
       "  'actor',\n",
       "  'shot',\n",
       "  'thing',\n",
       "  'original'],\n",
       " ['much',\n",
       "  'game',\n",
       "  'case',\n",
       "  'based',\n",
       "  'part',\n",
       "  'actor',\n",
       "  'shot',\n",
       "  'thing',\n",
       "  'original'],\n",
       " ['video',\n",
       "  'since',\n",
       "  'game',\n",
       "  'shot',\n",
       "  'right',\n",
       "  'terrified',\n",
       "  'armed',\n",
       "  'heavily',\n",
       "  'show']]"
      ]
     },
     "execution_count": 12,
     "metadata": {},
     "output_type": "execute_result"
    }
   ],
   "source": [
    "Iter['ATW'][0]"
   ]
  },
  {
   "cell_type": "code",
   "execution_count": 13,
   "id": "8f739cc2-0c9d-417a-99e9-2f042e175b76",
   "metadata": {},
   "outputs": [],
   "source": [
    "Iter['processed'] = Iter['processed'].apply(ast.literal_eval)"
   ]
  },
  {
   "cell_type": "code",
   "execution_count": 14,
   "id": "6993c6c4-d3cb-48a2-aa54-0cf54c6e38e8",
   "metadata": {},
   "outputs": [],
   "source": [
    "def sentic(word):\n",
    "     score=0\n",
    "     if word in sn.data:\n",
    "        sentiment_info = sn.concept(word)\n",
    "        score = float(sentiment_info.get('polarity_value', 0))\n",
    "     return score\n",
    "\n",
    "def TEXTBLOB(word):  \n",
    "    sentiment_score=TextBlob(word).sentiment.polarity\n",
    "    return sentiment_score"
   ]
  },
  {
   "cell_type": "code",
   "execution_count": 15,
   "id": "9302937d-52ce-4d37-8f4f-6b0583d6f1e4",
   "metadata": {},
   "outputs": [],
   "source": [
    "import nltk\n",
    "from nltk.sentiment import SentimentIntensityAnalyzer\n",
    "from textblob import TextBlob\n",
    "from senticnet.senticnet import SenticNet\n",
    "sid = SentimentIntensityAnalyzer()\n",
    "sn = SenticNet()\n",
    "\n",
    "def SA(word):\n",
    "     sentiment_score = sid.polarity_scores(word)['compound'] \n",
    "     return sentiment_score\n",
    "  \n",
    "def match_and_calculate_sentiment(sentences, topic_words):\n",
    "    sentiment_scores = []\n",
    "    \n",
    "    for sentence, words in zip(sentences, topic_words):\n",
    "        sentiment_score=0\n",
    "        for word in nltk.word_tokenize(sentence):\n",
    "            if word in words:\n",
    "                sentiment_score += TEXTBLOB((word))\n",
    "        sentiment_scores.append(sentiment_score)\n",
    "        \n",
    "    return sentiment_scores"
   ]
  },
  {
   "cell_type": "code",
   "execution_count": 16,
   "id": "cd36818e-eb73-4b1a-9575-f50f29e97a01",
   "metadata": {},
   "outputs": [],
   "source": [
    "Iter['sentiment_score'] = Iter.apply(lambda row: match_and_calculate_sentiment(row['processed'], row['ATW']), axis=1)"
   ]
  },
  {
   "cell_type": "code",
   "execution_count": 17,
   "id": "d231b3ea-3533-49e4-905e-9c763905801c",
   "metadata": {},
   "outputs": [
    {
     "data": {
      "text/plain": [
       "[-1.6,\n",
       " 0.04999999999999999,\n",
       " -0.3,\n",
       " -0.1875,\n",
       " 0.0,\n",
       " 0.0,\n",
       " 0.0,\n",
       " 0.0,\n",
       " 0.0,\n",
       " 1.0,\n",
       " 0.0,\n",
       " 0.0,\n",
       " -0.1875,\n",
       " 0.0,\n",
       " -0.8,\n",
       " 0.5,\n",
       " -0.1875,\n",
       " 0.0,\n",
       " 0.08571428571428569,\n",
       " -0.3125,\n",
       " -0.3125,\n",
       " 0.0,\n",
       " 0,\n",
       " -0.05,\n",
       " 0.0,\n",
       " 0.0,\n",
       " 0.0,\n",
       " 0.2,\n",
       " 0.0,\n",
       " 0.0]"
      ]
     },
     "execution_count": 17,
     "metadata": {},
     "output_type": "execute_result"
    }
   ],
   "source": [
    "(Iter['sentiment_score'][0])"
   ]
  },
  {
   "cell_type": "code",
   "execution_count": 18,
   "id": "09e34c4b-67c5-444a-9cc4-783d50f012a2",
   "metadata": {},
   "outputs": [],
   "source": [
    "def calculate_reaching_definition(df,r):\n",
    "    definitions_generated = []\n",
    "    definitions_killed = []\n",
    "    \n",
    "    for index, row in df.iterrows():\n",
    "        row_definitions_generated = [set() for _ in range(len(row['processed']))]\n",
    "        row_definitions_killed = [set() for _ in range(len(row['processed']))]\n",
    "        \n",
    "        for i, (sentence, topic_idx, sentiment_score) in enumerate(zip(row['processed'], row['ST'], row[r])):\n",
    "            definition_generated = (topic_idx, sentiment_score)\n",
    "            for j in range(i):\n",
    "                if (row['ST'][j], row[r][j]) == definition_generated:\n",
    "                    row_definitions_killed[i].add(j)\n",
    "            row_definitions_generated[i].add(definition_generated)\n",
    "            for j in range(i):\n",
    "                if j not in row_definitions_killed[i]:\n",
    "                    row_definitions_generated[i] |= row_definitions_generated[j]\n",
    "        \n",
    "        definitions_generated.append(row_definitions_generated)\n",
    "        definitions_killed.append(row_definitions_killed)\n",
    "    \n",
    "    df['definitions_generated'] = definitions_generated\n",
    "    df['definitions_killed'] = definitions_killed\n",
    "    \n",
    "    return df"
   ]
  },
  {
   "cell_type": "code",
   "execution_count": 19,
   "id": "bc7cfa9d-704e-4b6e-a51f-279372ce06db",
   "metadata": {},
   "outputs": [],
   "source": [
    "df=calculate_reaching_definition(Iter,'sentiment_score')"
   ]
  },
  {
   "cell_type": "code",
   "execution_count": 20,
   "id": "f4a2793f-f1ed-4955-98d4-73fbcb6e4bad",
   "metadata": {},
   "outputs": [
    {
     "data": {
      "text/html": [
       "<div>\n",
       "<style scoped>\n",
       "    .dataframe tbody tr th:only-of-type {\n",
       "        vertical-align: middle;\n",
       "    }\n",
       "\n",
       "    .dataframe tbody tr th {\n",
       "        vertical-align: top;\n",
       "    }\n",
       "\n",
       "    .dataframe thead th {\n",
       "        text-align: right;\n",
       "    }\n",
       "</style>\n",
       "<table border=\"1\" class=\"dataframe\">\n",
       "  <thead>\n",
       "    <tr style=\"text-align: right;\">\n",
       "      <th></th>\n",
       "      <th>Reviews</th>\n",
       "      <th>label</th>\n",
       "      <th>sentence</th>\n",
       "      <th>processed</th>\n",
       "      <th>tok</th>\n",
       "      <th>topic_words</th>\n",
       "      <th>sentence_topic_distributions</th>\n",
       "      <th>T</th>\n",
       "      <th>CS</th>\n",
       "      <th>DTC</th>\n",
       "      <th>ST</th>\n",
       "      <th>topic_word</th>\n",
       "      <th>ATW</th>\n",
       "      <th>sentiment_score</th>\n",
       "      <th>definitions_generated</th>\n",
       "      <th>definitions_killed</th>\n",
       "    </tr>\n",
       "  </thead>\n",
       "  <tbody>\n",
       "    <tr>\n",
       "      <th>0</th>\n",
       "      <td>Okay, so I'm not a big video game buff, but wa...</td>\n",
       "      <td>negative</td>\n",
       "      <td>[\"Okay, so I'm not a big video game buff, but ...</td>\n",
       "      <td>[Okay big video game buff game House Dead real...</td>\n",
       "      <td>[['okay', 'big', 'video', 'game', 'buff', 'gam...</td>\n",
       "      <td>[['well-known', 'Sure', 'movie', 'something', ...</td>\n",
       "      <td>[{1: 0.9545177, 4: 0.03509016}, {7: 0.96665996...</td>\n",
       "      <td>[5, 6, 7, 8, 9, 10]</td>\n",
       "      <td>[0.4583729995310059, 0.334587069025875, 0.3904...</td>\n",
       "      <td>[{1: 0.9545177}, {7: 0.96665996}, {2: 0.909997...</td>\n",
       "      <td>[1, 7, 2, 4, 0, 3, 0, 6, 8, 3, 6, 4, 4, 5, 9, ...</td>\n",
       "      <td>[[well-known, Sure, movie, something, like, fi...</td>\n",
       "      <td>[[faster, shot, techno, game, screen, gory, ti...</td>\n",
       "      <td>[-1.6, 0.04999999999999999, -0.3, -0.1875, 0.0...</td>\n",
       "      <td>[{(1, -1.6)}, {(7, 0.04999999999999999), (1, -...</td>\n",
       "      <td>[{}, {}, {}, {}, {}, {}, {4}, {}, {}, {}, {7},...</td>\n",
       "    </tr>\n",
       "  </tbody>\n",
       "</table>\n",
       "</div>"
      ],
      "text/plain": [
       "                                             Reviews     label  \\\n",
       "0  Okay, so I'm not a big video game buff, but wa...  negative   \n",
       "\n",
       "                                            sentence  \\\n",
       "0  [\"Okay, so I'm not a big video game buff, but ...   \n",
       "\n",
       "                                           processed  \\\n",
       "0  [Okay big video game buff game House Dead real...   \n",
       "\n",
       "                                                 tok  \\\n",
       "0  [['okay', 'big', 'video', 'game', 'buff', 'gam...   \n",
       "\n",
       "                                         topic_words  \\\n",
       "0  [['well-known', 'Sure', 'movie', 'something', ...   \n",
       "\n",
       "                        sentence_topic_distributions                    T  \\\n",
       "0  [{1: 0.9545177, 4: 0.03509016}, {7: 0.96665996...  [5, 6, 7, 8, 9, 10]   \n",
       "\n",
       "                                                  CS  \\\n",
       "0  [0.4583729995310059, 0.334587069025875, 0.3904...   \n",
       "\n",
       "                                                 DTC  \\\n",
       "0  [{1: 0.9545177}, {7: 0.96665996}, {2: 0.909997...   \n",
       "\n",
       "                                                  ST  \\\n",
       "0  [1, 7, 2, 4, 0, 3, 0, 6, 8, 3, 6, 4, 4, 5, 9, ...   \n",
       "\n",
       "                                          topic_word  \\\n",
       "0  [[well-known, Sure, movie, something, like, fi...   \n",
       "\n",
       "                                                 ATW  \\\n",
       "0  [[faster, shot, techno, game, screen, gory, ti...   \n",
       "\n",
       "                                     sentiment_score  \\\n",
       "0  [-1.6, 0.04999999999999999, -0.3, -0.1875, 0.0...   \n",
       "\n",
       "                               definitions_generated  \\\n",
       "0  [{(1, -1.6)}, {(7, 0.04999999999999999), (1, -...   \n",
       "\n",
       "                                  definitions_killed  \n",
       "0  [{}, {}, {}, {}, {}, {}, {4}, {}, {}, {}, {7},...  "
      ]
     },
     "execution_count": 20,
     "metadata": {},
     "output_type": "execute_result"
    }
   ],
   "source": [
    "df.head(1)"
   ]
  },
  {
   "cell_type": "code",
   "execution_count": 21,
   "id": "74ff1f6c-7649-4cbc-9ac0-f78d50ff50eb",
   "metadata": {},
   "outputs": [],
   "source": [
    "def calculate_IN_OUT_sets(definitions_generated_col, definitions_killed_col):\n",
    "    IN_sets = []\n",
    "    OUT_sets = []\n",
    "    for gen, killed in zip(definitions_generated_col, definitions_killed_col):\n",
    "        OUT = [set() for _ in range(len(gen))]\n",
    "        changed = True\n",
    "        while changed:\n",
    "            changed = False\n",
    "            for i in range(len(gen)):\n",
    "                IN = set().union(*[OUT[p] for p in range(len(gen)) if i not in killed[p]])\n",
    "                new_OUT = gen[i].union(IN - killed[i])\n",
    "                if new_OUT != OUT[i]:\n",
    "                    OUT[i] = new_OUT\n",
    "                    changed = True\n",
    "        IN = [set().union(*[OUT[p] for p in range(len(gen)) if i in gen[p]]) for i in range(len(gen))]\n",
    "        IN_sets.append(IN)\n",
    "        OUT_sets.append(OUT)\n",
    "    return IN_sets, OUT_sets"
   ]
  },
  {
   "cell_type": "code",
   "execution_count": 22,
   "id": "5d75f084-77a4-4adb-bd7e-475b8c0d3502",
   "metadata": {},
   "outputs": [],
   "source": [
    "IN_sets, OUT_sets = calculate_IN_OUT_sets(df['definitions_generated'], df['definitions_killed'])"
   ]
  },
  {
   "cell_type": "code",
   "execution_count": 23,
   "id": "3f287d2c-45a1-42c5-a06f-b91d500fa7ce",
   "metadata": {},
   "outputs": [
    {
     "name": "stdout",
     "output_type": "stream",
     "text": [
      "Output definition of the last node: {(4, 0.0), (0, 1.2), (7, 0), (0, 0.6), (8, 0.0), (1, 0.0), (7, -0.3), (0, 0), (0, -0.5), (8, 0.4), (2, 0.0), (3, 0.0), (5, 0.0), (6, 0)}\n"
     ]
    }
   ],
   "source": [
    "S = [0] * len(OUT_sets)\n",
    "for i, out_set in enumerate(OUT_sets):\n",
    "    S[i] = list(out_set)[-1] if out_set else None\n",
    "\n",
    "print(\"Output definition of the last node:\", S[2])"
   ]
  },
  {
   "cell_type": "code",
   "execution_count": 24,
   "id": "9bebb31a-6d69-4150-bcf9-00a56077a0c0",
   "metadata": {},
   "outputs": [
    {
     "name": "stdout",
     "output_type": "stream",
     "text": [
      "[0.0, 0.0, 0.0, -0.3, 1.2, 0.0, 0.0, 0, 0, 0.0, 0.0, 0, 0, 0.0, 0, 0, 0.0, -0.5, 0.0, 0.6, 0.0, 0.0, 0.0, 0.0, 0.4, 0.0, 0.0, 0.0, 0]\n"
     ]
    }
   ],
   "source": [
    "print(Iter['sentiment_score'][2])"
   ]
  },
  {
   "cell_type": "code",
   "execution_count": 25,
   "id": "4ddab7a0-8192-481d-a023-bc8f1d12d171",
   "metadata": {},
   "outputs": [
    {
     "name": "stdout",
     "output_type": "stream",
     "text": [
      "[5, 5, 8, 7, 0, 1, 1, 0, 5, 2, 1, 5, 1, 4, 6, 7, 8, 0, 3, 0, 0, 2, 4, 3, 8, 3, 2, 2, 7, 3]\n"
     ]
    }
   ],
   "source": [
    "print(Iter['ST'][2])"
   ]
  },
  {
   "cell_type": "code",
   "execution_count": 26,
   "id": "0c4ee4c3-d6e3-4141-9f3f-bb8598465449",
   "metadata": {},
   "outputs": [],
   "source": [
    "def generate_summary(sentences, S, sentiment_scores):\n",
    "    summaries = []\n",
    "\n",
    "    for doc_sentences, out, doc_sentiment_scores in zip(sentences, S, sentiment_scores):\n",
    "        summary = \"\"\n",
    "        added_indices = set()\n",
    "\n",
    "        for out_set in out:\n",
    "            for j in out_set:\n",
    "                if isinstance(j, tuple):\n",
    "                    j = j[0]\n",
    "                j = int(j)  # Convert to integer\n",
    "                if 0 <= j < len(doc_sentences) and j < len(doc_sentiment_scores):\n",
    "                    if j not in added_indices:\n",
    "                        summary += doc_sentences[j] + \" \"\n",
    "                        added_indices.add(j)\n",
    "\n",
    "        summaries.append(summary.strip())\n",
    "\n",
    "    return summaries"
   ]
  },
  {
   "cell_type": "code",
   "execution_count": 27,
   "id": "21d45307-0cab-4cc1-8513-2c169a1d73e4",
   "metadata": {},
   "outputs": [
    {
     "name": "stdout",
     "output_type": "stream",
     "text": [
      "Summary DataFrame:\n",
      "                                               Summary\n",
      "0    The nudity was impressive, I guess, but let's ...\n",
      "1    That alone is the main reason to why these two...\n",
      "2    The results were not very promising, so it's n...\n",
      "3    This plot was one of the more interesting ones...\n",
      "4    His name was Mr Warning: Does contain spoilers...\n",
      "..                                                 ...\n",
      "495  In so doing, we find peace Watching the actors...\n",
      "496  This film started out very promising with the ...\n",
      "497  His acting generally tends to be overdone and ...\n",
      "498  BANG I am amazed at the amount of praise that ...\n",
      "499  The re-telling of the history of the show, the...\n",
      "\n",
      "[500 rows x 1 columns]\n"
     ]
    }
   ],
   "source": [
    "Iter['sentence'] = Iter['sentence'].apply(ast.literal_eval)\n",
    "summaries = generate_summary(Iter['sentence'], S, Iter['sentiment_score'])\n",
    "summary_df = pd.DataFrame({'Summary': summaries})\n",
    "print(\"Summary DataFrame:\")\n",
    "print(summary_df)"
   ]
  },
  {
   "cell_type": "code",
   "execution_count": 28,
   "id": "09caab83-5947-44dc-8242-26e8c49be0ec",
   "metadata": {},
   "outputs": [
    {
     "data": {
      "application/vnd.jupyter.widget-view+json": {
       "model_id": "87467240adab4ec2b546f8d9f7556d95",
       "version_major": 2,
       "version_minor": 0
      },
      "text/plain": [
       "Pandas Apply:   0%|          | 0/500 [00:00<?, ?it/s]"
      ]
     },
     "metadata": {},
     "output_type": "display_data"
    }
   ],
   "source": [
    "from bs4 import BeautifulSoup\n",
    "import contractions\n",
    "import re\n",
    "def preprocess_text(text):\n",
    "    soup = BeautifulSoup(text, 'html.parser')\n",
    "    text = soup.get_text()\n",
    "    text = contractions.fix(text)\n",
    "    text = re.sub(r'\\\\', '', text)\n",
    "    return text\n",
    "summary_df['Summary']=summary_df['Summary'].swifter.apply(preprocess_text)"
   ]
  },
  {
   "cell_type": "code",
   "execution_count": 29,
   "id": "eb64b903-7ebd-4fd3-b860-7d384ad5f0fa",
   "metadata": {},
   "outputs": [
    {
     "data": {
      "text/plain": [
       "'That alone is the main reason to why these two guys get so well along, because they simply only have each other to turn to when comforting is needed The premise of this movie has been tickling my imagination for quite some time now Andrew is a nervous wreck to say the least and Dave is considered being one of the biggest losers of society Dave is unsuccessful at his job and his colleagues do not treat him very well and with the respect he deserves The amount of problems they face keeps increasing until that one day where they may have to face the inevitable and deal with it What would you do if you were all alone in the world? What would you do if the entire world suddenly disappeared in front of your eyes? In fact, the last part is actually what happens to Dave and Andrew, two room-mates living in a run-down house in the middle of a freeway system We have all heard or read about it in some kind of con-text This is just too much for them and they wish that everything would just go away.. Just until...Straight from the beginning of the film lots and lots of problems happen to them Both of them get involved with crime, Andrew suffers from paranoia and simply does not dare going out of the house'"
      ]
     },
     "execution_count": 29,
     "metadata": {},
     "output_type": "execute_result"
    }
   ],
   "source": [
    "summary_df['Summary'][1]"
   ]
  },
  {
   "cell_type": "code",
   "execution_count": 32,
   "id": "9ae095d6-a96f-4fe1-a2c4-379de5207d21",
   "metadata": {},
   "outputs": [
    {
     "data": {
      "text/plain": [
       "'The premise of this movie has been tickling my imagination for quite some time now. We\\'ve all heard or read about it in some kind of con-text. What would you do if you were all alone in the world? What would you do if the entire world suddenly disappeared in front of your eyes? In fact, the last part is actually what happens to Dave and Andrew, two room-mates living in a run-down house in the middle of a freeway system. Andrew is a nervous wreck to say the least and Dave is considered being one of the biggest losers of society. That alone is the main reason to why these two guys get so well along, because they simply only have each other to turn to when comforting is needed. Just until...<br /><br />Straight from the beginning of the film lots and lots of problems happen to them. Both of them get involved with crime, Andrew suffers from paranoia and simply doesn\\'t dare going out of the house. Dave is unsuccessful at his job and his colleagues don\\'t treat him very well and with the respect he deserves. The amount of problems they face keeps increasing until that one day where they may have to face the inevitable and deal with it. This is just too much for them and they wish that everything would just go away... And of course that is exactly what happens.<br /><br />The rest of the story places Dave and Andrew in this world of nothingness. At first they are surprised and have problems understanding and dealing with the features of this crazy environment, but later on they find out that they can do just about everything they want because it seems as if they are the only ones still left.<br /><br />Nothing features an incredibly small cast - in fact, besides the first couple of shots from the film, we only see Dave (David Hewlett) and Andrew (Andrew Miller) in the entire film. It is clear that in order to pull this off, the cast has to be more than up for the task, because in a world where nothing exists there is nothing that can distract the viewer in any way. Vincenzo has decided to use a reasonable amount of close-up head shots to make it more interesting and it actually works quite well. Director of Photography, Derek Rogers, also has a nice way of teasing the audience by withholding visual information, especially at times where a character sees something and reacts to it, but we don\\'t see it right away.<br /><br />Obviously, this can\\'t be an event driven film and it\\'s not. Much of the action happens outside their house when they move around in the void. And that\\'s where some of the most hilarious scenes take place, especially in the case of when Andrew discovers a candy bar.<br /><br />Now, one could be thinking: \"How does nothing look like?\" Well, it looks like nothing indeed. The entire world of nothing is white... white no matter in what direction you look. This is the weakness of this film... After an hour or less it\\'s getting extremely boring to look at and there has to be events to make sure it\\'s more interesting to look at. Thank God, there are some. For example at times when the two lads, due to the properties of nothing, are able to jump really high as if nothing is made out of... tofu (as Andrew claims). It\\'s fun to see how they are instantly able to use nothing to become gods of their own little society.<br /><br />One of the best parts of the film is the set... Production designer Jasna Stefanovic has done a beautiful job in this film, the house in which these two guys live is so unnaturally fun to look at, still it seems right for these two to be living in a place like this. All in all, the production design is with no doubt one of the most powerful aspects of this film at it really makes the film worth watching...<br /><br />However, the very best part of the film is the acting. Both David Hewlett and Andrew Miller really look like the professional actors they both are. The camera is on them for every second of the film and as previously said, there are just about no props in the film, they are really on a bare stage. With plenty of character development and some decent one-liners, clever dialogue (at times hilariously stupid), it all works to that end - and this really moves the movie away from the low-budget area to well-crafted handwork.<br /><br />Let\\'s talk a little about the visual effects, because they are definitely worth mentioning. Nothing features digital visual effects and prosthetics that equals any modern horror film. There\\'s a rather horrifying dream sequence in the film, and although The Drews have milked that scene completely it\\'s still fun to watch. One of the best visual effects in the film is at the end where Andrew and Dave suddenly discover their powers in this environment - they have the abilities to wish everything away, so what if they can do it the other way around and make things appear?<br /><br />\"Nothing\" is a bright and well-lit movie, it really helps promoting the idea of them probably being dead (this is in fact one of their theories), but \"Nothing\" is a comedy and it slowly destroys its own theory. We don\\'t know where they are or what has happened to them. We don\\'t know if they will ever get out, because the movie ends before we see anything like that. The ending, by the way, is not as good as it could\\'ve been. It\\'s rather easy to predict what is going to happen, still the writers have thought up a few incidents that help make it a little more interesting and in the end, it\\'s a reasonably satisfactory one.<br /><br />Take \"Hollow Man\", \"Kill Bill\", \"Cube\", \"Epoch\" and lots of other films and you have \"Nothing\". It really is an amalgam of different styles, still there is no other film (at least that I know of) Nothing is really like. For the people remembering the original Cube Production Commentary on its DVD may remember that Vincenzo Natali talked about how he came up with the story of Cube. He talks about him and André Bijelic having been room-mates at a time and they both were in this extremely dull room with no hope of getting out, \"Nothing\" could very well be the screened version of the origin of the Cube story, and to that end, it\\'s almost like one of the Cube prequels.<br /><br />What can I say? I enjoyed \"Nothing\", it is a great movie and the different parts of the movie are extremely well-made with tons of intelligent ideas, still I feel the movie is missing something and I have problems finding out precisely what it is... Maybe if we have a \"Nothing 2\" I can answer that question. \"Nothing\" is a great film, but not as good as I expected it to be.<br /><br />Final rating: 7.5 / 10'"
      ]
     },
     "execution_count": 32,
     "metadata": {},
     "output_type": "execute_result"
    }
   ],
   "source": [
    "Iter['Reviews'][1]"
   ]
  },
  {
   "cell_type": "code",
   "execution_count": 30,
   "id": "7c094d0d-d654-4842-bbbc-aefebf54521f",
   "metadata": {},
   "outputs": [],
   "source": [
    "def classify_sentiment(text):\n",
    "    blob = TextBlob(text)\n",
    "    polarity = blob.sentiment.polarity\n",
    "    if polarity > 0:\n",
    "        return 'postive'\n",
    "    elif polarity < 0:\n",
    "        return 'negative'\n",
    "    else:\n",
    "        return 'neutral'\n"
   ]
  },
  {
   "cell_type": "code",
   "execution_count": 31,
   "id": "497dc6e6-7343-40ee-888d-a1da02ac1225",
   "metadata": {},
   "outputs": [
    {
     "data": {
      "application/vnd.jupyter.widget-view+json": {
       "model_id": "02d448358ea64dfab289f67140e2517c",
       "version_major": 2,
       "version_minor": 0
      },
      "text/plain": [
       "Pandas Apply:   0%|          | 0/500 [00:00<?, ?it/s]"
      ]
     },
     "metadata": {},
     "output_type": "display_data"
    }
   ],
   "source": [
    "Iter['TBLabel']=Iter['Reviews'].swifter.apply( classify_sentiment)"
   ]
  },
  {
   "cell_type": "code",
   "execution_count": 32,
   "id": "4493abdb-e042-4e7c-878d-e7104d0ccdb3",
   "metadata": {},
   "outputs": [
    {
     "data": {
      "text/plain": [
       "0      postive\n",
       "1      postive\n",
       "2      postive\n",
       "3      postive\n",
       "4      postive\n",
       "        ...   \n",
       "495    postive\n",
       "496    postive\n",
       "497    postive\n",
       "498    postive\n",
       "499    postive\n",
       "Name: TBLabel, Length: 500, dtype: object"
      ]
     },
     "execution_count": 32,
     "metadata": {},
     "output_type": "execute_result"
    }
   ],
   "source": [
    "Iter['TBLabel']"
   ]
  },
  {
   "cell_type": "code",
   "execution_count": 33,
   "id": "8643b76e-c960-4818-9088-97086d45e331",
   "metadata": {},
   "outputs": [
    {
     "data": {
      "application/vnd.jupyter.widget-view+json": {
       "model_id": "42a7eba6835f4817ab1c6a7847379861",
       "version_major": 2,
       "version_minor": 0
      },
      "text/plain": [
       "Pandas Apply:   0%|          | 0/500 [00:00<?, ?it/s]"
      ]
     },
     "metadata": {},
     "output_type": "display_data"
    }
   ],
   "source": [
    "summary_df['TBLabel']=summary_df['Summary'].swifter.apply( classify_sentiment)"
   ]
  },
  {
   "cell_type": "code",
   "execution_count": 34,
   "id": "7a9c8ddd-63d2-4693-b5c6-5964ee3bf89b",
   "metadata": {},
   "outputs": [
    {
     "data": {
      "image/png": "[encoded data removed]",
      "text/plain": [
       "<Figure size 800x600 with 2 Axes>"
      ]
     },
     "metadata": {},
     "output_type": "display_data"
    },
    {
     "name": "stdout",
     "output_type": "stream",
     "text": [
      "Accuracy: 0.804\n",
      "Precision: 0.8266308985132516\n",
      "Recall: 0.804\n",
      "F1-score: 0.8122701323622408\n"
     ]
    }
   ],
   "source": [
    "import pandas as pd\n",
    "from sklearn.metrics import accuracy_score, precision_score, recall_score, f1_score\n",
    "import numpy as np\n",
    "import seaborn as sns\n",
    "import matplotlib.pyplot as plt\n",
    "from sklearn.metrics import confusion_matrix\n",
    "\n",
    "actual = Iter['TBLabel']\n",
    "predicted = summary_df['TBLabel']\n",
    "\n",
    "cm = confusion_matrix(actual, predicted)\n",
    "labels =['negative','positive']\n",
    "plt.figure(figsize=(8, 6))\n",
    "sns.set(font_scale=1.2)\n",
    "sns.heatmap(cm, annot=True, fmt=\"d\", cmap=\"Blues\", xticklabels=labels, yticklabels=labels)\n",
    "plt.xlabel('Predicted')\n",
    "plt.ylabel('Actual')\n",
    "plt.title('Confusion Matrix')\n",
    "plt.show()\n",
    "\n",
    "accuracy = accuracy_score(actual, predicted)\n",
    "precision = precision_score(actual, predicted, average='weighted')\n",
    "recall = recall_score(actual, predicted, average='weighted')\n",
    "f1 = f1_score(actual, predicted, average='weighted')\n",
    "print(\"Accuracy:\", accuracy)\n",
    "print(\"Precision:\", precision)\n",
    "print(\"Recall:\", recall)\n",
    "print(\"F1-score:\", f1)"
   ]
  },
  {
   "cell_type": "code",
   "execution_count": 41,
   "id": "1ed1e762-961e-4237-b8c1-34f1ff00b6b1",
   "metadata": {},
   "outputs": [
    {
     "name": "stdout",
     "output_type": "stream",
     "text": [
      "Average of maximum scores: 0.5577159598033997\n"
     ]
    }
   ],
   "source": [
    "df['scores'] = df['CS'].apply(ast.literal_eval)\n",
    "\n",
    "def find_max_score(score_list):\n",
    "    return max(score_list)\n",
    "\n",
    "df['max_score'] = df['scores'].apply(find_max_score)\n",
    "\n",
    "average_max_score = df['max_score'].mean()\n",
    "\n",
    "print(\"Average of maximum scores:\", average_max_score)"
   ]
  },
  {
   "cell_type": "code",
   "execution_count": 63,
   "id": "2ce1514b-e2c9-484b-af3b-b2385ff7356a",
   "metadata": {},
   "outputs": [],
   "source": [
    "from collections import Counter\n",
    "\n",
    "def k_words(processed_documents, k=10):\n",
    "    exclude_chars = {\"'\", ',', ' '}\n",
    "    all_words = [word for sublist in processed_documents for word in sublist if word not in exclude_chars]\n",
    "    word_freq = Counter(all_words)\n",
    "    top_words = [word for word, _ in word_freq.most_common(k)] \n",
    "    return top_words\n",
    "\n",
    "summary_df['top'] = df['topic_word'].apply(lambda x: k_words(x, k=10))\n"
   ]
  },
  {
   "cell_type": "code",
   "execution_count": 56,
   "id": "7d353f59-863c-4c40-8ec9-3de3844c063d",
   "metadata": {},
   "outputs": [],
   "source": [
    "def evaluate_relevance(summary, topic_keywords):\n",
    "    relevance_score = 0\n",
    "    for keyword in topic_keywords:\n",
    "        if keyword.lower() in summary.lower():\n",
    "            relevance_score += 1\n",
    "    normalized_relevance_score = relevance_score / len(topic_keywords)\n",
    "    return normalized_relevance_score\n",
    "\n",
    "def evaluate_summary(df_summary):\n",
    "    \n",
    "    relevance_scores = []\n",
    "    for summary, topic_keywords in zip(df_summary['Summary'], df_summary['top']):\n",
    "        relevance_score = evaluate_relevance(summary, topic_keywords)\n",
    "        relevance_scores.append(relevance_score)\n",
    "    df_summary['Relevance Score'] = relevance_scores\n",
    "    \n",
    "    return df_summary"
   ]
  },
  {
   "cell_type": "code",
   "execution_count": 44,
   "id": "3499d675-621e-4408-adf4-c7e90a31ea61",
   "metadata": {},
   "outputs": [],
   "source": [
    "import nltk\n",
    "from nltk.tokenize import word_tokenize\n",
    "from nltk.tag import pos_tag"
   ]
  },
  {
   "cell_type": "code",
   "execution_count": 45,
   "id": "69d311a1-d9fd-4ba3-8684-72d4c96e320f",
   "metadata": {},
   "outputs": [],
   "source": [
    "def calculate_fluency_score(summary):\n",
    "    tokens = word_tokenize(summary)\n",
    "    tagged_tokens = pos_tag(tokens)\n",
    "    correct_tags = ['CC', 'CD', 'DT', 'EX', 'FW', 'IN', 'JJ', 'JJR', 'JJS', 'LS', 'MD', 'NN', 'NNS',\n",
    "                    'NNP', 'NNPS', 'PDT', 'POS', 'PRP', 'PRP$', 'RB', 'RBR', 'RBS', 'RP', 'TO', 'UH',\n",
    "                    'VB', 'VBD', 'VBG', 'VBN', 'VBP', 'VBZ', 'WDT', 'WP', 'WP$', 'WRB']\n",
    "    correct_count = sum(1 for _, tag in tagged_tokens if tag in correct_tags)\n",
    "    fluency_score = correct_count / len(tokens)\n",
    "    return fluency_score"
   ]
  },
  {
   "cell_type": "code",
   "execution_count": 66,
   "id": "f1c52039-b9e4-4d35-a0cb-f231e7c76816",
   "metadata": {},
   "outputs": [
    {
     "data": {
      "application/vnd.jupyter.widget-view+json": {
       "model_id": "1231ad09281b40a29170c7abcfa2ea3b",
       "version_major": 2,
       "version_minor": 0
      },
      "text/plain": [
       "Pandas Apply:   0%|          | 0/500 [00:00<?, ?it/s]"
      ]
     },
     "metadata": {},
     "output_type": "display_data"
    }
   ],
   "source": [
    "summary_df['top']=df['topic_word'].swifter.apply(k_words)\n",
    "summary_df=evaluate_summary(summary_df)\n",
    "summary_df['Fluency Score'] = summary_df['Summary'].apply(calculate_fluency_score)"
   ]
  },
  {
   "cell_type": "code",
   "execution_count": 67,
   "id": "e8e83672-0127-4dfb-b8c5-1f2872f0ca7c",
   "metadata": {},
   "outputs": [
    {
     "data": {
      "text/plain": [
       "['shot',\n",
       " 'movie',\n",
       " 'game',\n",
       " 'get',\n",
       " 'something',\n",
       " 'like',\n",
       " 'people',\n",
       " 'case',\n",
       " 'walking',\n",
       " 'island']"
      ]
     },
     "execution_count": 67,
     "metadata": {},
     "output_type": "execute_result"
    }
   ],
   "source": [
    "summary_df['top'][0]"
   ]
  },
  {
   "cell_type": "code",
   "execution_count": 69,
   "id": "3733fc56-04e2-4240-9506-fa81d5fde67b",
   "metadata": {},
   "outputs": [
    {
     "name": "stdout",
     "output_type": "stream",
     "text": [
      "Fluency = 0.926642630194109\n",
      "Relevance = 0.6616000000000001\n"
     ]
    }
   ],
   "source": [
    "fluency=avg(summary_df,'Fluency Score')\n",
    "relevance=avg(summary_df,'Relevance Score')     \n",
    "print('Fluency = '+str(fluency))\n",
    "print('Relevance = '+str(relevance))"
   ]
  },
  {
   "cell_type": "code",
   "execution_count": 70,
   "id": "948ba329-1bac-499c-8476-e48bf833440e",
   "metadata": {},
   "outputs": [],
   "source": [
    "from rouge_score import rouge_scorer\n",
    "\n",
    "def calculate_rouge(reference_summary, generated_summary):\n",
    "    scorer = rouge_scorer.RougeScorer(['rouge1', 'rouge2', 'rougeL'], use_stemmer=True)\n",
    "    scores = scorer.score(reference_summary, generated_summary)\n",
    "    \n",
    "    rouge1_score = [scores['rouge1'].precision, scores['rouge1'].recall, scores['rouge1'].fmeasure]\n",
    "    rouge2_score = [scores['rouge2'].precision, scores['rouge2'].recall, scores['rouge2'].fmeasure]\n",
    "    rougeL_score = [scores['rougeL'].precision, scores['rougeL'].recall, scores['rougeL'].fmeasure]\n",
    "    \n",
    "    return rouge1_score, rouge2_score, rougeL_score"
   ]
  },
  {
   "cell_type": "code",
   "execution_count": 71,
   "id": "35be6609-08b7-4bfa-8f8c-dc1ba8421506",
   "metadata": {},
   "outputs": [],
   "source": [
    "PR = pd.read_csv('PageRank.csv')\n",
    "PR=PR.iloc[:500]"
   ]
  },
  {
   "cell_type": "code",
   "execution_count": 73,
   "id": "a8635d74-a4da-4164-bc55-aa807a3ba154",
   "metadata": {},
   "outputs": [
    {
     "name": "stdout",
     "output_type": "stream",
     "text": [
      "1 Average ROUGE-1 Precision, Recall, F-measure: [0.3965241686927993, 0.5860857723489079, 0.4564763403385973]\n",
      "Average ROUGE-2 Precision, Recall, F-measure: [0.22677344739721003, 0.356329552606436, 0.2680981941894254]\n",
      "Average ROUGE-L Precision, Recall, F-measure: [0.2554853565736677, 0.3838738375376052, 0.2962400050393862]\n",
      "\n"
     ]
    }
   ],
   "source": [
    "import numpy as np\n",
    "\n",
    "avg_rouge_scores_list = []\n",
    "\n",
    "for i in range(1, 2):\n",
    "    print(i,end=' ')\n",
    "    df_name=summary_df\n",
    "    df = summary_df\n",
    "    \n",
    "    rouge1_scores = []\n",
    "    rouge2_scores = []\n",
    "    rougeL_scores = []\n",
    "    \n",
    "    for index, row in df.iterrows():\n",
    "        reference_summary = str(PR.loc[index, 'Summary'])  \n",
    "        generated_summary = str(row['Summary']) \n",
    "        \n",
    "        rouge1_score, rouge2_score, rougeL_score = calculate_rouge(reference_summary, generated_summary)\n",
    "        \n",
    "        rouge1_scores.append(rouge1_score)\n",
    "        rouge2_scores.append(rouge2_score)\n",
    "        rougeL_scores.append(rougeL_score)\n",
    "    \n",
    "    \n",
    "    avg_rouge1_precision = np.mean([score[0] for score in rouge1_scores])\n",
    "    avg_rouge1_recall = np.mean([score[1] for score in rouge1_scores])\n",
    "    avg_rouge1_fmeasure = np.mean([score[2] for score in rouge1_scores])\n",
    "    \n",
    "    avg_rouge2_precision = np.mean([score[0] for score in rouge2_scores])\n",
    "    avg_rouge2_recall = np.mean([score[1] for score in rouge2_scores])\n",
    "    avg_rouge2_fmeasure = np.mean([score[2] for score in rouge2_scores])\n",
    "    \n",
    "    avg_rougeL_precision = np.mean([score[0] for score in rougeL_scores])\n",
    "    avg_rougeL_recall = np.mean([score[1] for score in rougeL_scores])\n",
    "    avg_rougeL_fmeasure = np.mean([score[2] for score in rougeL_scores])\n",
    "    \n",
    "    avg_rouge_scores_list.append({\n",
    "        'df_name': df_name,\n",
    "        'avg_rouge1_precision': avg_rouge1_precision,\n",
    "        'avg_rouge1_recall': avg_rouge1_recall,\n",
    "        'avg_rouge1_fmeasure': avg_rouge1_fmeasure,\n",
    "        'avg_rouge2_precision': avg_rouge2_precision,\n",
    "        'avg_rouge2_recall': avg_rouge2_recall,\n",
    "        'avg_rouge2_fmeasure': avg_rouge2_fmeasure,\n",
    "        'avg_rougeL_precision': avg_rougeL_precision,\n",
    "        'avg_rougeL_recall': avg_rougeL_recall,\n",
    "        'avg_rougeL_fmeasure': avg_rougeL_fmeasure\n",
    "    })\n",
    "\n",
    "for avg_rouge_scores in avg_rouge_scores_list:\n",
    "    print(\"Average ROUGE-1 Precision, Recall, F-measure:\", [avg_rouge_scores['avg_rouge1_precision'],\n",
    "                                                            avg_rouge_scores['avg_rouge1_recall'],\n",
    "                                                            avg_rouge_scores['avg_rouge1_fmeasure']])\n",
    "    print(\"Average ROUGE-2 Precision, Recall, F-measure:\", [avg_rouge_scores['avg_rouge2_precision'],\n",
    "                                                            avg_rouge_scores['avg_rouge2_recall'],\n",
    "                                                            avg_rouge_scores['avg_rouge2_fmeasure']])\n",
    "    print(\"Average ROUGE-L Precision, Recall, F-measure:\", [avg_rouge_scores['avg_rougeL_precision'],\n",
    "                                                            avg_rouge_scores['avg_rougeL_recall'],\n",
    "                                                            avg_rouge_scores['avg_rougeL_fmeasure']])\n",
    "    print()\n"
   ]
  },
  {
   "cell_type": "code",
   "execution_count": 74,
   "id": "05c858c3-94dc-4a99-a7d1-8fc727464a89",
   "metadata": {},
   "outputs": [],
   "source": [
    "import pandas as pd\n",
    "from sklearn.feature_extraction.text import TfidfVectorizer\n",
    "from sklearn.model_selection import train_test_split\n",
    "from sklearn.pipeline import make_pipeline\n",
    "from sklearn.svm import LinearSVC\n",
    "from sklearn.metrics import accuracy_score\n",
    "import nltk\n",
    "from nltk.tokenize import word_tokenize\n",
    "from nltk.corpus import stopwords\n",
    "from nltk.stem import WordNetLemmatizer\n",
    "\n",
    "\n",
    "stop_words = set(stopwords.words('english'))\n",
    "lemmatizer = WordNetLemmatizer()\n",
    "\n",
    "def preprocess_text(text):\n",
    "    tokens = word_tokenize(text.lower()) \n",
    "    tokens = [lemmatizer.lemmatize(word) for word in tokens if word.isalnum()]  \n",
    "    tokens = [word for word in tokens if word not in stop_words]  \n",
    "    return ' '.join(tokens)"
   ]
  },
  {
   "cell_type": "code",
   "execution_count": 76,
   "id": "c1f2eacf-dee0-428d-a628-e01fed1252c4",
   "metadata": {},
   "outputs": [],
   "source": [
    "summary_df['Summary']=summary_df['Summary'].apply(preprocess_text)"
   ]
  },
  {
   "cell_type": "code",
   "execution_count": 79,
   "id": "fae9c992-a63b-4b23-a626-b72277faf394",
   "metadata": {},
   "outputs": [],
   "source": [
    "summary_df['preprocessed_sentence'] = summary_df['Summary'].apply(preprocess_text)"
   ]
  },
  {
   "cell_type": "code",
   "execution_count": 80,
   "id": "94c67683-8a2f-4155-a7cd-bd17445bfa41",
   "metadata": {},
   "outputs": [
    {
     "name": "stdout",
     "output_type": "stream",
     "text": [
      "Cross-validation scores: [0.79041916 0.76646707 0.77108434]\n",
      "Mean accuracy: 0.7759901882981026\n"
     ]
    }
   ],
   "source": [
    "from sklearn.model_selection import cross_val_score, StratifiedKFold\n",
    "\n",
    "pipeline = make_pipeline(TfidfVectorizer(), LinearSVC())\n",
    "cv = StratifiedKFold(n_splits=3, shuffle=True, random_state=42)\n",
    "cv_scores = cross_val_score(pipeline, summary_df['preprocessed_sentence'], summary_df['TBLabel'], cv=cv)\n",
    "print(\"Cross-validation scores:\", cv_scores)\n",
    "print(\"Mean accuracy:\", cv_scores.mean())\n"
   ]
  },
  {
   "cell_type": "code",
   "execution_count": 82,
   "id": "8b0caec7-cb7c-4a8e-88f0-ac557fed8ed2",
   "metadata": {},
   "outputs": [
    {
     "name": "stdout",
     "output_type": "stream",
     "text": [
      "Cross-validation scores: [0.756 0.752]\n",
      "Mean accuracy: 0.754\n"
     ]
    }
   ],
   "source": [
    "from sklearn.model_selection import cross_val_score, StratifiedKFold\n",
    "\n",
    "pipeline = make_pipeline(TfidfVectorizer(), LinearSVC())\n",
    "cv = StratifiedKFold(n_splits=2, shuffle=True, random_state=42)\n",
    "cv_scores = cross_val_score(pipeline, summary_df['preprocessed_sentence'], summary_df['TBLabel'], cv=cv)\n",
    "print(\"Cross-validation scores:\", cv_scores)\n",
    "print(\"Mean accuracy:\", cv_scores.mean())\n"
   ]
  },
  {
   "cell_type": "code",
   "execution_count": 83,
   "id": "3700b281-0a82-4372-b194-e1fa16fe8d9e",
   "metadata": {},
   "outputs": [
    {
     "name": "stdout",
     "output_type": "stream",
     "text": [
      "Cross-validation scores: [0.73652695 0.76047904 0.75301205]\n",
      "Mean accuracy: 0.750006012072241\n"
     ]
    }
   ],
   "source": [
    "from sklearn.ensemble import RandomForestClassifier\n",
    "\n",
    "pipeline = make_pipeline(TfidfVectorizer(), RandomForestClassifier())\n",
    "cv = StratifiedKFold(n_splits=3, shuffle=True, random_state=42)\n",
    "cv_scores = cross_val_score(pipeline, summary_df['preprocessed_sentence'], summary_df['TBLabel'], cv=cv)\n",
    "\n",
    "print(\"Cross-validation scores:\", cv_scores)\n",
    "print(\"Mean accuracy:\", cv_scores.mean())\n"
   ]
  },
  {
   "cell_type": "code",
   "execution_count": 84,
   "id": "276af7fe-eae3-4841-b90e-72752dd1314b",
   "metadata": {},
   "outputs": [
    {
     "name": "stdout",
     "output_type": "stream",
     "text": [
      "Cross-validation scores: [0.728 0.74 ]\n",
      "Mean accuracy: 0.734\n"
     ]
    }
   ],
   "source": [
    "from sklearn.ensemble import RandomForestClassifier\n",
    "\n",
    "pipeline = make_pipeline(TfidfVectorizer(), RandomForestClassifier())\n",
    "cv = StratifiedKFold(n_splits=2, shuffle=True, random_state=42)\n",
    "cv_scores = cross_val_score(pipeline, summary_df['preprocessed_sentence'], summary_df['TBLabel'], cv=cv)\n",
    "\n",
    "print(\"Cross-validation scores:\", cv_scores)\n",
    "print(\"Mean accuracy:\", cv_scores.mean())\n"
   ]
  },
  {
   "cell_type": "code",
   "execution_count": 85,
   "id": "2a3fa54a-5f0f-4ff8-939f-bb92478d7381",
   "metadata": {},
   "outputs": [
    {
     "name": "stdout",
     "output_type": "stream",
     "text": [
      "Cross-validation scores: [0.74850299 0.74251497 0.74096386]\n",
      "Mean accuracy: 0.743993939831181\n"
     ]
    }
   ],
   "source": [
    "from sklearn.ensemble import VotingClassifier\n",
    "from sklearn.naive_bayes import MultinomialNB\n",
    "from sklearn.linear_model import LogisticRegression\n",
    "from sklearn.ensemble import RandomForestClassifier\n",
    "\n",
    "model1 = ('svm', LinearSVC())\n",
    "model2 = ('nb', MultinomialNB())\n",
    "model3 = ('lr', LogisticRegression())\n",
    "model4 = ('rf', RandomForestClassifier())\n",
    "\n",
    "ensemble_models = [model1, model2, model3, model4]\n",
    "\n",
    "ensemble_classifier = VotingClassifier(estimators=ensemble_models, voting='hard')\n",
    "\n",
    "pipeline = make_pipeline(TfidfVectorizer(), ensemble_classifier)\n",
    "\n",
    "cv = StratifiedKFold(n_splits=3, shuffle=True, random_state=42)\n",
    "cv_scores = cross_val_score(pipeline, summary_df['preprocessed_sentence'], summary_df['TBLabel'], cv=cv)\n",
    "\n",
    "print(\"Cross-validation scores:\", cv_scores)\n",
    "print(\"Mean accuracy:\", cv_scores.mean())\n"
   ]
  },
  {
   "cell_type": "code",
   "execution_count": 86,
   "id": "a5695b36-4506-4ab7-acd0-a6901d8ce2f3",
   "metadata": {},
   "outputs": [
    {
     "name": "stdout",
     "output_type": "stream",
     "text": [
      "Cross-validation scores: [0.73652695 0.74850299 0.74698795]\n",
      "Mean accuracy: 0.7440059639756632\n"
     ]
    }
   ],
   "source": [
    "from sklearn.ensemble import VotingClassifier\n",
    "from sklearn.naive_bayes import MultinomialNB\n",
    "from sklearn.linear_model import LogisticRegression\n",
    "from sklearn.ensemble import RandomForestClassifier\n",
    "\n",
    "model1 = ('svm', LinearSVC())\n",
    "model2 = ('nb', MultinomialNB())\n",
    "model3 = ('lr', LogisticRegression())\n",
    "model4 = ('rf', RandomForestClassifier())\n",
    "\n",
    "ensemble_models = [model1, model2, model3, model4]\n",
    "\n",
    "ensemble_classifier = VotingClassifier(estimators=ensemble_models, voting='hard')\n",
    "\n",
    "pipeline = make_pipeline(TfidfVectorizer(), ensemble_classifier)\n",
    "\n",
    "cv = StratifiedKFold(n_splits=3, shuffle=True, random_state=42)\n",
    "cv_scores = cross_val_score(pipeline, summary_df['preprocessed_sentence'], summary_df['TBLabel'], cv=cv)\n",
    "\n",
    "print(\"Cross-validation scores:\", cv_scores)\n",
    "print(\"Mean accuracy:\", cv_scores.mean())"
   ]
  },
  {
   "cell_type": "code",
   "execution_count": 87,
   "id": "9ac96d38-b34f-40c1-876a-66de543ad6ea",
   "metadata": {},
   "outputs": [
    {
     "name": "stdout",
     "output_type": "stream",
     "text": [
      "Best combination: [('svm', LinearSVC()), ('nb', MultinomialNB())]\n",
      "Best mean accuracy: 0.7759901882981026\n"
     ]
    }
   ],
   "source": [
    "from itertools import combinations\n",
    "\n",
    "models = [\n",
    "    ('svm', LinearSVC()),\n",
    "    ('nb', MultinomialNB()),\n",
    "    ('lr', LogisticRegression()),\n",
    "    ('rf', RandomForestClassifier())\n",
    "]\n",
    "\n",
    "best_score = 0\n",
    "best_combination = None\n",
    "\n",
    "for i in range(2, 4):\n",
    "    for model_combination in combinations(models, i):\n",
    "        model_combination_list = list(model_combination)\n",
    "        ensemble_classifier = VotingClassifier(estimators=model_combination_list, voting='hard')\n",
    "        pipeline = make_pipeline(TfidfVectorizer(), ensemble_classifier)\n",
    "        cv_scores = cross_val_score(pipeline, summary_df['preprocessed_sentence'], summary_df['TBLabel'], cv=cv)     \n",
    "        mean_accuracy = cv_scores.mean()\n",
    "        if mean_accuracy > best_score:\n",
    "            best_score = mean_accuracy\n",
    "            best_combination = model_combination_list\n",
    "\n",
    "print(\"Best combination:\", best_combination)\n",
    "print(\"Best mean accuracy:\", best_score)\n"
   ]
  },
  {
   "cell_type": "code",
   "execution_count": 89,
   "id": "ae21d541-b112-46fd-98ee-b94a4c3fd1b9",
   "metadata": {},
   "outputs": [
    {
     "data": {
      "text/html": [
       "<style>#sk-container-id-1 {color: black;}#sk-container-id-1 pre{padding: 0;}#sk-container-id-1 div.sk-toggleable {background-color: white;}#sk-container-id-1 label.sk-toggleable__label {cursor: pointer;display: block;width: 100%;margin-bottom: 0;padding: 0.3em;box-sizing: border-box;text-align: center;}#sk-container-id-1 label.sk-toggleable__label-arrow:before {content: \"▸\";float: left;margin-right: 0.25em;color: #696969;}#sk-container-id-1 label.sk-toggleable__label-arrow:hover:before {color: black;}#sk-container-id-1 div.sk-estimator:hover label.sk-toggleable__label-arrow:before {color: black;}#sk-container-id-1 div.sk-toggleable__content {max-height: 0;max-width: 0;overflow: hidden;text-align: left;background-color: #f0f8ff;}#sk-container-id-1 div.sk-toggleable__content pre {margin: 0.2em;color: black;border-radius: 0.25em;background-color: #f0f8ff;}#sk-container-id-1 input.sk-toggleable__control:checked~div.sk-toggleable__content {max-height: 200px;max-width: 100%;overflow: auto;}#sk-container-id-1 input.sk-toggleable__control:checked~label.sk-toggleable__label-arrow:before {content: \"▾\";}#sk-container-id-1 div.sk-estimator input.sk-toggleable__control:checked~label.sk-toggleable__label {background-color: #d4ebff;}#sk-container-id-1 div.sk-label input.sk-toggleable__control:checked~label.sk-toggleable__label {background-color: #d4ebff;}#sk-container-id-1 input.sk-hidden--visually {border: 0;clip: rect(1px 1px 1px 1px);clip: rect(1px, 1px, 1px, 1px);height: 1px;margin: -1px;overflow: hidden;padding: 0;position: absolute;width: 1px;}#sk-container-id-1 div.sk-estimator {font-family: monospace;background-color: #f0f8ff;border: 1px dotted black;border-radius: 0.25em;box-sizing: border-box;margin-bottom: 0.5em;}#sk-container-id-1 div.sk-estimator:hover {background-color: #d4ebff;}#sk-container-id-1 div.sk-parallel-item::after {content: \"\";width: 100%;border-bottom: 1px solid gray;flex-grow: 1;}#sk-container-id-1 div.sk-label:hover label.sk-toggleable__label {background-color: #d4ebff;}#sk-container-id-1 div.sk-serial::before {content: \"\";position: absolute;border-left: 1px solid gray;box-sizing: border-box;top: 0;bottom: 0;left: 50%;z-index: 0;}#sk-container-id-1 div.sk-serial {display: flex;flex-direction: column;align-items: center;background-color: white;padding-right: 0.2em;padding-left: 0.2em;position: relative;}#sk-container-id-1 div.sk-item {position: relative;z-index: 1;}#sk-container-id-1 div.sk-parallel {display: flex;align-items: stretch;justify-content: center;background-color: white;position: relative;}#sk-container-id-1 div.sk-item::before, #sk-container-id-1 div.sk-parallel-item::before {content: \"\";position: absolute;border-left: 1px solid gray;box-sizing: border-box;top: 0;bottom: 0;left: 50%;z-index: -1;}#sk-container-id-1 div.sk-parallel-item {display: flex;flex-direction: column;z-index: 1;position: relative;background-color: white;}#sk-container-id-1 div.sk-parallel-item:first-child::after {align-self: flex-end;width: 50%;}#sk-container-id-1 div.sk-parallel-item:last-child::after {align-self: flex-start;width: 50%;}#sk-container-id-1 div.sk-parallel-item:only-child::after {width: 0;}#sk-container-id-1 div.sk-dashed-wrapped {border: 1px dashed gray;margin: 0 0.4em 0.5em 0.4em;box-sizing: border-box;padding-bottom: 0.4em;background-color: white;}#sk-container-id-1 div.sk-label label {font-family: monospace;font-weight: bold;display: inline-block;line-height: 1.2em;}#sk-container-id-1 div.sk-label-container {text-align: center;}#sk-container-id-1 div.sk-container {/* jupyter's `normalize.less` sets `[hidden] { display: none; }` but bootstrap.min.css set `[hidden] { display: none !important; }` so we also need the `!important` here to be able to override the default hidden behavior on the sphinx rendered scikit-learn.org. See: https://github.com/scikit-learn/scikit-learn/issues/21755 */display: inline-block !important;position: relative;}#sk-container-id-1 div.sk-text-repr-fallback {display: none;}</style><div id=\"sk-container-id-1\" class=\"sk-top-container\"><div class=\"sk-text-repr-fallback\"><pre>Pipeline(steps=[(&#x27;tfidf&#x27;, TfidfVectorizer()),\n",
       "                (&#x27;classifier&#x27;,\n",
       "                 VotingClassifier(estimators=[(&#x27;svm&#x27;, LinearSVC()),\n",
       "                                              (&#x27;nb&#x27;, MultinomialNB())]))])</pre><b>In a Jupyter environment, please rerun this cell to show the HTML representation or trust the notebook. <br />On GitHub, the HTML representation is unable to render, please try loading this page with nbviewer.org.</b></div><div class=\"sk-container\" hidden><div class=\"sk-item sk-dashed-wrapped\"><div class=\"sk-label-container\"><div class=\"sk-label sk-toggleable\"><input class=\"sk-toggleable__control sk-hidden--visually\" id=\"sk-estimator-id-1\" type=\"checkbox\" ><label for=\"sk-estimator-id-1\" class=\"sk-toggleable__label sk-toggleable__label-arrow\">Pipeline</label><div class=\"sk-toggleable__content\"><pre>Pipeline(steps=[(&#x27;tfidf&#x27;, TfidfVectorizer()),\n",
       "                (&#x27;classifier&#x27;,\n",
       "                 VotingClassifier(estimators=[(&#x27;svm&#x27;, LinearSVC()),\n",
       "                                              (&#x27;nb&#x27;, MultinomialNB())]))])</pre></div></div></div><div class=\"sk-serial\"><div class=\"sk-item\"><div class=\"sk-estimator sk-toggleable\"><input class=\"sk-toggleable__control sk-hidden--visually\" id=\"sk-estimator-id-2\" type=\"checkbox\" ><label for=\"sk-estimator-id-2\" class=\"sk-toggleable__label sk-toggleable__label-arrow\">TfidfVectorizer</label><div class=\"sk-toggleable__content\"><pre>TfidfVectorizer()</pre></div></div></div><div class=\"sk-item sk-dashed-wrapped\"><div class=\"sk-label-container\"><div class=\"sk-label sk-toggleable\"><input class=\"sk-toggleable__control sk-hidden--visually\" id=\"sk-estimator-id-3\" type=\"checkbox\" ><label for=\"sk-estimator-id-3\" class=\"sk-toggleable__label sk-toggleable__label-arrow\">classifier: VotingClassifier</label><div class=\"sk-toggleable__content\"><pre>VotingClassifier(estimators=[(&#x27;svm&#x27;, LinearSVC()), (&#x27;nb&#x27;, MultinomialNB())])</pre></div></div></div><div class=\"sk-parallel\"><div class=\"sk-parallel-item\"><div class=\"sk-item\"><div class=\"sk-label-container\"><div class=\"sk-label sk-toggleable\"><label>svm</label></div></div><div class=\"sk-serial\"><div class=\"sk-item\"><div class=\"sk-estimator sk-toggleable\"><input class=\"sk-toggleable__control sk-hidden--visually\" id=\"sk-estimator-id-4\" type=\"checkbox\" ><label for=\"sk-estimator-id-4\" class=\"sk-toggleable__label sk-toggleable__label-arrow\">LinearSVC</label><div class=\"sk-toggleable__content\"><pre>LinearSVC()</pre></div></div></div></div></div></div><div class=\"sk-parallel-item\"><div class=\"sk-item\"><div class=\"sk-label-container\"><div class=\"sk-label sk-toggleable\"><label>nb</label></div></div><div class=\"sk-serial\"><div class=\"sk-item\"><div class=\"sk-estimator sk-toggleable\"><input class=\"sk-toggleable__control sk-hidden--visually\" id=\"sk-estimator-id-5\" type=\"checkbox\" ><label for=\"sk-estimator-id-5\" class=\"sk-toggleable__label sk-toggleable__label-arrow\">MultinomialNB</label><div class=\"sk-toggleable__content\"><pre>MultinomialNB()</pre></div></div></div></div></div></div></div></div></div></div></div></div>"
      ],
      "text/plain": [
       "Pipeline(steps=[('tfidf', TfidfVectorizer()),\n",
       "                ('classifier',\n",
       "                 VotingClassifier(estimators=[('svm', LinearSVC()),\n",
       "                                              ('nb', MultinomialNB())]))])"
      ]
     },
     "execution_count": 89,
     "metadata": {},
     "output_type": "execute_result"
    }
   ],
   "source": [
    "from sklearn.pipeline import Pipeline\n",
    "\n",
    "\n",
    "best_models = [\n",
    "    ('svm', LinearSVC()),\n",
    "    ('nb', MultinomialNB())\n",
    "]\n",
    "\n",
    "\n",
    "best_models_list = list(best_models)\n",
    "ensemble_classifier = VotingClassifier(estimators=best_models_list, voting='hard')\n",
    "pipeline = Pipeline([('tfidf', TfidfVectorizer()), ('classifier', ensemble_classifier)])\n",
    "pipeline.fit(summary_df['preprocessed_sentence'], summary_df['TBLabel'])"
   ]
  },
  {
   "cell_type": "code",
   "execution_count": 90,
   "id": "d596cb77-0b8c-420a-93d1-bb58d8f1c064",
   "metadata": {},
   "outputs": [
    {
     "name": "stdout",
     "output_type": "stream",
     "text": [
      "Predicted label for the new data: postive\n"
     ]
    }
   ],
   "source": [
    "new_data = [PR['Summary'][1] ]\n",
    "predicted_label = pipeline.predict(new_data)[0]  \n",
    "print(\"Predicted label for the new data:\", predicted_label)"
   ]
  },
  {
   "cell_type": "code",
   "execution_count": 91,
   "id": "19fdbd57-6dd5-4c90-ab07-15ce50daa501",
   "metadata": {},
   "outputs": [
    {
     "data": {
      "text/plain": [
       "'<br /><br />One of the best parts of the film is the set  One of the best visual effects in the film is at the end where Andrew and Dave suddenly discover their powers in this environment - they have the abilities to wish everything away, so what if they can do it the other way around and make things appear?<br /><br />\"Nothing\" is a bright and well-lit movie, it really helps promoting the idea of them probably being dead (this is in fact one of their theories), but \"Nothing\" is a comedy and it slowly destroys its own theory  He talks about him and André Bijelic having been room-mates at a time and they both were in this extremely dull room with no hope of getting out, \"Nothing\" could very well be the screened version of the origin of the Cube story, and to that end, it\\'s almost like one of the Cube prequels <br /><br />What can I say? I enjoyed \"Nothing\", it is a great movie and the different parts of the movie are extremely well-made with tons of intelligent ideas, still I feel the movie is missing something and I have problems finding out precisely what it is'"
      ]
     },
     "execution_count": 91,
     "metadata": {},
     "output_type": "execute_result"
    }
   ],
   "source": [
    "PR['Summary'][1]"
   ]
  },
  {
   "cell_type": "code",
   "execution_count": 92,
   "id": "586a0c85-6f7a-4ef3-a33a-983480c992d5",
   "metadata": {},
   "outputs": [],
   "source": [
    "import numpy as np\n",
    "\n",
    "PR['Summary'] = PR['Summary'].fillna('')\n",
    "predicted_labels = []\n",
    "for summary in PR['Summary']:\n",
    "    predicted_label = pipeline.predict([summary])[0]\n",
    "    predicted_labels.append(predicted_label)\n",
    "\n",
    "PR['Predicted_Label'] = predicted_labels"
   ]
  },
  {
   "cell_type": "code",
   "execution_count": 93,
   "id": "9e02d0e7-a673-4f42-86d5-e184a3779135",
   "metadata": {},
   "outputs": [
    {
     "data": {
      "text/html": [
       "<div>\n",
       "<style scoped>\n",
       "    .dataframe tbody tr th:only-of-type {\n",
       "        vertical-align: middle;\n",
       "    }\n",
       "\n",
       "    .dataframe tbody tr th {\n",
       "        vertical-align: top;\n",
       "    }\n",
       "\n",
       "    .dataframe thead th {\n",
       "        text-align: right;\n",
       "    }\n",
       "</style>\n",
       "<table border=\"1\" class=\"dataframe\">\n",
       "  <thead>\n",
       "    <tr style=\"text-align: right;\">\n",
       "      <th></th>\n",
       "      <th>Unnamed: 0</th>\n",
       "      <th>Summary</th>\n",
       "      <th>Predicted_Label</th>\n",
       "    </tr>\n",
       "  </thead>\n",
       "  <tbody>\n",
       "    <tr>\n",
       "      <th>0</th>\n",
       "      <td>0</td>\n",
       "      <td>Okay, so I'm not a big video game buff, but wa...</td>\n",
       "      <td>postive</td>\n",
       "    </tr>\n",
       "    <tr>\n",
       "      <th>1</th>\n",
       "      <td>1</td>\n",
       "      <td>&lt;br /&gt;&lt;br /&gt;One of the best parts of the film ...</td>\n",
       "      <td>postive</td>\n",
       "    </tr>\n",
       "  </tbody>\n",
       "</table>\n",
       "</div>"
      ],
      "text/plain": [
       "   Unnamed: 0                                            Summary  \\\n",
       "0           0  Okay, so I'm not a big video game buff, but wa...   \n",
       "1           1  <br /><br />One of the best parts of the film ...   \n",
       "\n",
       "  Predicted_Label  \n",
       "0         postive  \n",
       "1         postive  "
      ]
     },
     "execution_count": 93,
     "metadata": {},
     "output_type": "execute_result"
    }
   ],
   "source": [
    "PR.head(2)"
   ]
  },
  {
   "cell_type": "code",
   "execution_count": 95,
   "id": "7f0af63b-c75c-4513-b498-8d6c2fad2354",
   "metadata": {},
   "outputs": [
    {
     "data": {
      "image/png": "[encoded data removed]",
      "text/plain": [
       "<Figure size 1200x800 with 1 Axes>"
      ]
     },
     "metadata": {},
     "output_type": "display_data"
    }
   ],
   "source": [
    "import numpy as np\n",
    "import matplotlib.pyplot as plt\n",
    "from sklearn.model_selection import cross_val_score, StratifiedKFold\n",
    "from sklearn.pipeline import Pipeline\n",
    "from sklearn.ensemble import VotingClassifier\n",
    "from sklearn.svm import LinearSVC\n",
    "from sklearn.naive_bayes import MultinomialNB\n",
    "from sklearn.linear_model import LogisticRegression\n",
    "from sklearn.ensemble import RandomForestClassifier\n",
    "from sklearn.feature_extraction.text import TfidfVectorizer\n",
    "\n",
    "models = {\n",
    "    \"Linear SVC\": LinearSVC(),\n",
    "    \"Random Forest\": RandomForestClassifier(),\n",
    "    \"Ensemble (SVC, NB, LR, RF)\": VotingClassifier(\n",
    "        estimators=[\n",
    "            ('svc', LinearSVC()),\n",
    "            ('nb', MultinomialNB()),\n",
    "            ('lr', LogisticRegression()),\n",
    "            ('rf', RandomForestClassifier())\n",
    "        ],\n",
    "        voting='hard'\n",
    "    ),\n",
    "    \"Ensemble (SVC, RF)\": VotingClassifier(\n",
    "        estimators=[\n",
    "            ('svc', LinearSVC()),\n",
    "            ('rf', RandomForestClassifier())\n",
    "        ],\n",
    "        voting='hard'\n",
    "    )\n",
    "}\n",
    "\n",
    "folds = [2, 3]\n",
    "\n",
    "mean_accuracies = {}\n",
    "\n",
    "for model_name, model in models.items():\n",
    "    for fold in folds:\n",
    "        pipeline = Pipeline([\n",
    "            ('tfidf', TfidfVectorizer()),\n",
    "            ('classifier', model)\n",
    "        ])\n",
    "        cv = StratifiedKFold(n_splits=fold, shuffle=True, random_state=42)\n",
    "        cv_scores = cross_val_score(pipeline, summary_df['preprocessed_sentence'], summary_df['TBLabel'], cv=cv)\n",
    "        mean_accuracy = np.mean(cv_scores)\n",
    "        mean_accuracies[(model_name, fold)] = mean_accuracy\n",
    "\n",
    "fig, ax = plt.subplots(figsize=(12, 8))\n",
    "x = np.arange(len(models) * len(folds))\n",
    "labels = [f\"{model_name} ({fold}-fold CV)\" for model_name, fold in mean_accuracies.keys()]\n",
    "heights = mean_accuracies.values()\n",
    "ax.bar(x, heights, tick_label=labels)\n",
    "ax.set_ylabel('Mean Accuracy')\n",
    "ax.set_xticks(x)\n",
    "ax.set_xticklabels(labels, rotation=45, ha='right')\n",
    "ax.set_title('Mean Accuracy of Various Models with Different Cross-Validation Folds')\n",
    "plt.tight_layout()\n",
    "plt.show()\n"
   ]
  },
  {
   "cell_type": "code",
   "execution_count": null,
   "id": "6953b5ee-624a-402a-9bf7-691da9f5c4bc",
   "metadata": {},
   "outputs": [],
   "source": []
  }
 ],
 "metadata": {
  "kernelspec": {
   "display_name": "Python 3 (ipykernel)",
   "language": "python",
   "name": "python3"
  },
  "language_info": {
   "codemirror_mode": {
    "name": "ipython",
    "version": 3
   },
   "file_extension": ".py",
   "mimetype": "text/x-python",
   "name": "python",
   "nbconvert_exporter": "python",
   "pygments_lexer": "ipython3",
   "version": "3.12.1"
  }
 },
 "nbformat": 4,
 "nbformat_minor": 5
}
