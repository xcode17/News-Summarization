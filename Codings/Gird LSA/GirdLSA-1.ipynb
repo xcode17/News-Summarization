{
 "cells": [
  {
   "cell_type": "code",
   "execution_count": 1,
   "id": "1a4ad9cc-8ee4-4605-b379-51155f433fe6",
   "metadata": {
    "editable": true,
    "slideshow": {
     "slide_type": ""
    },
    "tags": []
   },
   "outputs": [],
   "source": [
    " import pandas as pd"
   ]
  },
  {
   "cell_type": "code",
   "execution_count": 2,
   "id": "4e81f1f4-26f3-4978-9ff9-82645930a8c8",
   "metadata": {},
   "outputs": [
    {
     "name": "stdout",
     "output_type": "stream",
     "text": [
      "                                                Reviews\n",
      "0     Okay, so I'm not a big video game buff, but wa...\n",
      "1     The premise of this movie has been tickling my...\n",
      "2     Jim Carrey is back to much the same role that ...\n",
      "3     I read several mixed reviews and several of th...\n",
      "4     Warning: Does contain spoilers.<br /><br />Ope...\n",
      "...                                                 ...\n",
      "7495  It was great to see some of my favorite stars ...\n",
      "7496  2 stars for Kay Francis -- she's wonderful! An...\n",
      "7497  I really wish i could give this a negative vot...\n",
      "7498  I love B movies..but come on....this wasn't ev...\n",
      "7499  As I said in my comment about the first part: ...\n",
      "\n",
      "[7500 rows x 1 columns]\n"
     ]
    }
   ],
   "source": [
    "data = pd.read_csv('data1.csv')\n",
    "data.drop(columns=['Unnamed: 0'], inplace=True)\n",
    "print(data)"
   ]
  },
  {
   "cell_type": "code",
   "execution_count": 3,
   "id": "25201700-7b06-404a-ae01-8b32cd117f4f",
   "metadata": {},
   "outputs": [],
   "source": [
    "import re\n",
    "from nltk.corpus import stopwords\n",
    "from nltk.stem import WordNetLemmatizer\n",
    "from nltk.tokenize import word_tokenize\n",
    "from bs4 import BeautifulSoup\n",
    "import swifter"
   ]
  },
  {
   "cell_type": "code",
   "execution_count": 4,
   "id": "112c2d91-09d4-431a-a443-fb49effb8a67",
   "metadata": {},
   "outputs": [
    {
     "data": {
      "application/vnd.jupyter.widget-view+json": {
       "model_id": "1feb82cd63a44690accb03a8a528dfa1",
       "version_major": 2,
       "version_minor": 0
      },
      "text/plain": [
       "Pandas Apply:   0%|          | 0/7500 [00:00<?, ?it/s]"
      ]
     },
     "metadata": {},
     "output_type": "display_data"
    },
    {
     "data": {
      "text/html": [
       "<div>\n",
       "<style scoped>\n",
       "    .dataframe tbody tr th:only-of-type {\n",
       "        vertical-align: middle;\n",
       "    }\n",
       "\n",
       "    .dataframe tbody tr th {\n",
       "        vertical-align: top;\n",
       "    }\n",
       "\n",
       "    .dataframe thead th {\n",
       "        text-align: right;\n",
       "    }\n",
       "</style>\n",
       "<table border=\"1\" class=\"dataframe\">\n",
       "  <thead>\n",
       "    <tr style=\"text-align: right;\">\n",
       "      <th></th>\n",
       "      <th>Reviews</th>\n",
       "      <th>processed</th>\n",
       "    </tr>\n",
       "  </thead>\n",
       "  <tbody>\n",
       "    <tr>\n",
       "      <th>0</th>\n",
       "      <td>Okay, so I'm not a big video game buff, but wa...</td>\n",
       "      <td>Okay, so I'm not a big video game buff, but wa...</td>\n",
       "    </tr>\n",
       "    <tr>\n",
       "      <th>1</th>\n",
       "      <td>The premise of this movie has been tickling my...</td>\n",
       "      <td>The premise of this movie has been tickling my...</td>\n",
       "    </tr>\n",
       "    <tr>\n",
       "      <th>2</th>\n",
       "      <td>Jim Carrey is back to much the same role that ...</td>\n",
       "      <td>Jim Carrey is back to much the same role that ...</td>\n",
       "    </tr>\n",
       "    <tr>\n",
       "      <th>3</th>\n",
       "      <td>I read several mixed reviews and several of th...</td>\n",
       "      <td>I read several mixed reviews and several of th...</td>\n",
       "    </tr>\n",
       "    <tr>\n",
       "      <th>4</th>\n",
       "      <td>Warning: Does contain spoilers.&lt;br /&gt;&lt;br /&gt;Ope...</td>\n",
       "      <td>Warning: Does contain spoilers.Open Your EyesI...</td>\n",
       "    </tr>\n",
       "  </tbody>\n",
       "</table>\n",
       "</div>"
      ],
      "text/plain": [
       "                                             Reviews  \\\n",
       "0  Okay, so I'm not a big video game buff, but wa...   \n",
       "1  The premise of this movie has been tickling my...   \n",
       "2  Jim Carrey is back to much the same role that ...   \n",
       "3  I read several mixed reviews and several of th...   \n",
       "4  Warning: Does contain spoilers.<br /><br />Ope...   \n",
       "\n",
       "                                           processed  \n",
       "0  Okay, so I'm not a big video game buff, but wa...  \n",
       "1  The premise of this movie has been tickling my...  \n",
       "2  Jim Carrey is back to much the same role that ...  \n",
       "3  I read several mixed reviews and several of th...  \n",
       "4  Warning: Does contain spoilers.Open Your EyesI...  "
      ]
     },
     "execution_count": 4,
     "metadata": {},
     "output_type": "execute_result"
    }
   ],
   "source": [
    "def remove_html(text):\n",
    "    soup = BeautifulSoup(text, 'html.parser')\n",
    "    return soup.get_text()\n",
    "\n",
    "data['processed']=data['Reviews'].swifter.apply(remove_html)\n",
    "data.head(5)"
   ]
  },
  {
   "cell_type": "code",
   "execution_count": 5,
   "id": "fa587b0d-a48a-40ae-b13b-876c3d8c3c38",
   "metadata": {},
   "outputs": [
    {
     "data": {
      "application/vnd.jupyter.widget-view+json": {
       "model_id": "a211bf32360348459b0d6006ab842f2e",
       "version_major": 2,
       "version_minor": 0
      },
      "text/plain": [
       "Pandas Apply:   0%|          | 0/7500 [00:00<?, ?it/s]"
      ]
     },
     "metadata": {},
     "output_type": "display_data"
    },
    {
     "data": {
      "text/html": [
       "<div>\n",
       "<style scoped>\n",
       "    .dataframe tbody tr th:only-of-type {\n",
       "        vertical-align: middle;\n",
       "    }\n",
       "\n",
       "    .dataframe tbody tr th {\n",
       "        vertical-align: top;\n",
       "    }\n",
       "\n",
       "    .dataframe thead th {\n",
       "        text-align: right;\n",
       "    }\n",
       "</style>\n",
       "<table border=\"1\" class=\"dataframe\">\n",
       "  <thead>\n",
       "    <tr style=\"text-align: right;\">\n",
       "      <th></th>\n",
       "      <th>Reviews</th>\n",
       "      <th>processed</th>\n",
       "    </tr>\n",
       "  </thead>\n",
       "  <tbody>\n",
       "    <tr>\n",
       "      <th>0</th>\n",
       "      <td>Okay, so I'm not a big video game buff, but wa...</td>\n",
       "      <td>Okay so I'm not a big video game buff but was ...</td>\n",
       "    </tr>\n",
       "    <tr>\n",
       "      <th>1</th>\n",
       "      <td>The premise of this movie has been tickling my...</td>\n",
       "      <td>The premise of this movie has been tickling my...</td>\n",
       "    </tr>\n",
       "    <tr>\n",
       "      <th>2</th>\n",
       "      <td>Jim Carrey is back to much the same role that ...</td>\n",
       "      <td>Jim Carrey is back to much the same role that ...</td>\n",
       "    </tr>\n",
       "    <tr>\n",
       "      <th>3</th>\n",
       "      <td>I read several mixed reviews and several of th...</td>\n",
       "      <td>I read several mixed reviews and several of th...</td>\n",
       "    </tr>\n",
       "    <tr>\n",
       "      <th>4</th>\n",
       "      <td>Warning: Does contain spoilers.&lt;br /&gt;&lt;br /&gt;Ope...</td>\n",
       "      <td>Warning Does contain spoilersOpen Your EyesIf ...</td>\n",
       "    </tr>\n",
       "  </tbody>\n",
       "</table>\n",
       "</div>"
      ],
      "text/plain": [
       "                                             Reviews  \\\n",
       "0  Okay, so I'm not a big video game buff, but wa...   \n",
       "1  The premise of this movie has been tickling my...   \n",
       "2  Jim Carrey is back to much the same role that ...   \n",
       "3  I read several mixed reviews and several of th...   \n",
       "4  Warning: Does contain spoilers.<br /><br />Ope...   \n",
       "\n",
       "                                           processed  \n",
       "0  Okay so I'm not a big video game buff but was ...  \n",
       "1  The premise of this movie has been tickling my...  \n",
       "2  Jim Carrey is back to much the same role that ...  \n",
       "3  I read several mixed reviews and several of th...  \n",
       "4  Warning Does contain spoilersOpen Your EyesIf ...  "
      ]
     },
     "execution_count": 5,
     "metadata": {},
     "output_type": "execute_result"
    }
   ],
   "source": [
    "def remove_splch(text):\n",
    "    text = re.sub(r'^[\\'\\s]*|[^\\w\\s\\'-]', '', text)\n",
    "    return text\n",
    "data['processed']=data['processed'].swifter.apply(remove_splch)\n",
    "data.head(5)"
   ]
  },
  {
   "cell_type": "code",
   "execution_count": 6,
   "id": "33d3b55f-bed2-4488-a80d-69741346c4be",
   "metadata": {},
   "outputs": [
    {
     "data": {
      "application/vnd.jupyter.widget-view+json": {
       "model_id": "91a385bbfc01448dac198fbea6d61033",
       "version_major": 2,
       "version_minor": 0
      },
      "text/plain": [
       "Pandas Apply:   0%|          | 0/7500 [00:00<?, ?it/s]"
      ]
     },
     "metadata": {},
     "output_type": "display_data"
    },
    {
     "data": {
      "text/html": [
       "<div>\n",
       "<style scoped>\n",
       "    .dataframe tbody tr th:only-of-type {\n",
       "        vertical-align: middle;\n",
       "    }\n",
       "\n",
       "    .dataframe tbody tr th {\n",
       "        vertical-align: top;\n",
       "    }\n",
       "\n",
       "    .dataframe thead th {\n",
       "        text-align: right;\n",
       "    }\n",
       "</style>\n",
       "<table border=\"1\" class=\"dataframe\">\n",
       "  <thead>\n",
       "    <tr style=\"text-align: right;\">\n",
       "      <th></th>\n",
       "      <th>Reviews</th>\n",
       "      <th>processed</th>\n",
       "    </tr>\n",
       "  </thead>\n",
       "  <tbody>\n",
       "    <tr>\n",
       "      <th>0</th>\n",
       "      <td>Okay, so I'm not a big video game buff, but wa...</td>\n",
       "      <td>[Okay, 'm, big, video, game, buff, game, House...</td>\n",
       "    </tr>\n",
       "    <tr>\n",
       "      <th>1</th>\n",
       "      <td>The premise of this movie has been tickling my...</td>\n",
       "      <td>[premise, movie, tickling, imagination, quite,...</td>\n",
       "    </tr>\n",
       "    <tr>\n",
       "      <th>2</th>\n",
       "      <td>Jim Carrey is back to much the same role that ...</td>\n",
       "      <td>[Jim, Carrey, back, much, role, played, Mask, ...</td>\n",
       "    </tr>\n",
       "    <tr>\n",
       "      <th>3</th>\n",
       "      <td>I read several mixed reviews and several of th...</td>\n",
       "      <td>[read, several, mixed, reviews, several, downr...</td>\n",
       "    </tr>\n",
       "    <tr>\n",
       "      <th>4</th>\n",
       "      <td>Warning: Does contain spoilers.&lt;br /&gt;&lt;br /&gt;Ope...</td>\n",
       "      <td>[Warning, contain, spoilersOpen, EyesIf, seen,...</td>\n",
       "    </tr>\n",
       "  </tbody>\n",
       "</table>\n",
       "</div>"
      ],
      "text/plain": [
       "                                             Reviews  \\\n",
       "0  Okay, so I'm not a big video game buff, but wa...   \n",
       "1  The premise of this movie has been tickling my...   \n",
       "2  Jim Carrey is back to much the same role that ...   \n",
       "3  I read several mixed reviews and several of th...   \n",
       "4  Warning: Does contain spoilers.<br /><br />Ope...   \n",
       "\n",
       "                                           processed  \n",
       "0  [Okay, 'm, big, video, game, buff, game, House...  \n",
       "1  [premise, movie, tickling, imagination, quite,...  \n",
       "2  [Jim, Carrey, back, much, role, played, Mask, ...  \n",
       "3  [read, several, mixed, reviews, several, downr...  \n",
       "4  [Warning, contain, spoilersOpen, EyesIf, seen,...  "
      ]
     },
     "execution_count": 6,
     "metadata": {},
     "output_type": "execute_result"
    }
   ],
   "source": [
    "def tokenize_and_remove_stopwords(text):\n",
    "    tokens = word_tokenize(text)\n",
    "    stop_words = set(stopwords.words('english'))\n",
    "    tokens = [token for token in tokens if token.lower() not in stop_words and len(token) > 1]\n",
    "    return tokens\n",
    "data['processed']=data['processed'].swifter.apply(tokenize_and_remove_stopwords)\n",
    "data.head(5)"
   ]
  },
  {
   "cell_type": "code",
   "execution_count": 7,
   "id": "f5e5b80f-b555-4ece-94b3-bcb9b819a12e",
   "metadata": {},
   "outputs": [
    {
     "data": {
      "application/vnd.jupyter.widget-view+json": {
       "model_id": "9be96ad8d1524e8b9346047405c8425b",
       "version_major": 2,
       "version_minor": 0
      },
      "text/plain": [
       "Pandas Apply:   0%|          | 0/7500 [00:00<?, ?it/s]"
      ]
     },
     "metadata": {},
     "output_type": "display_data"
    },
    {
     "data": {
      "text/html": [
       "<div>\n",
       "<style scoped>\n",
       "    .dataframe tbody tr th:only-of-type {\n",
       "        vertical-align: middle;\n",
       "    }\n",
       "\n",
       "    .dataframe tbody tr th {\n",
       "        vertical-align: top;\n",
       "    }\n",
       "\n",
       "    .dataframe thead th {\n",
       "        text-align: right;\n",
       "    }\n",
       "</style>\n",
       "<table border=\"1\" class=\"dataframe\">\n",
       "  <thead>\n",
       "    <tr style=\"text-align: right;\">\n",
       "      <th></th>\n",
       "      <th>Reviews</th>\n",
       "      <th>processed</th>\n",
       "    </tr>\n",
       "  </thead>\n",
       "  <tbody>\n",
       "    <tr>\n",
       "      <th>0</th>\n",
       "      <td>Okay, so I'm not a big video game buff, but wa...</td>\n",
       "      <td>[Okay, 'm, big, video, game, buff, game, House...</td>\n",
       "    </tr>\n",
       "    <tr>\n",
       "      <th>1</th>\n",
       "      <td>The premise of this movie has been tickling my...</td>\n",
       "      <td>[premise, movie, tickling, imagination, quite,...</td>\n",
       "    </tr>\n",
       "    <tr>\n",
       "      <th>2</th>\n",
       "      <td>Jim Carrey is back to much the same role that ...</td>\n",
       "      <td>[Jim, Carrey, back, much, role, played, Mask, ...</td>\n",
       "    </tr>\n",
       "    <tr>\n",
       "      <th>3</th>\n",
       "      <td>I read several mixed reviews and several of th...</td>\n",
       "      <td>[read, several, mixed, review, several, downri...</td>\n",
       "    </tr>\n",
       "    <tr>\n",
       "      <th>4</th>\n",
       "      <td>Warning: Does contain spoilers.&lt;br /&gt;&lt;br /&gt;Ope...</td>\n",
       "      <td>[Warning, contain, spoilersOpen, EyesIf, seen,...</td>\n",
       "    </tr>\n",
       "  </tbody>\n",
       "</table>\n",
       "</div>"
      ],
      "text/plain": [
       "                                             Reviews  \\\n",
       "0  Okay, so I'm not a big video game buff, but wa...   \n",
       "1  The premise of this movie has been tickling my...   \n",
       "2  Jim Carrey is back to much the same role that ...   \n",
       "3  I read several mixed reviews and several of th...   \n",
       "4  Warning: Does contain spoilers.<br /><br />Ope...   \n",
       "\n",
       "                                           processed  \n",
       "0  [Okay, 'm, big, video, game, buff, game, House...  \n",
       "1  [premise, movie, tickling, imagination, quite,...  \n",
       "2  [Jim, Carrey, back, much, role, played, Mask, ...  \n",
       "3  [read, several, mixed, review, several, downri...  \n",
       "4  [Warning, contain, spoilersOpen, EyesIf, seen,...  "
      ]
     },
     "execution_count": 7,
     "metadata": {},
     "output_type": "execute_result"
    }
   ],
   "source": [
    "def lemmatize(tokens):\n",
    "    lemmatizer = WordNetLemmatizer()\n",
    "    lemmatized_tokens = [lemmatizer.lemmatize(token) for token in tokens]\n",
    "    return lemmatized_tokens\n",
    "data['processed']=data['processed'].swifter.apply(lemmatize)\n",
    "data.head(5)"
   ]
  },
  {
   "cell_type": "code",
   "execution_count": 8,
   "id": "cfa9a16a-bb53-49e5-98d0-c49daf4f7e5e",
   "metadata": {},
   "outputs": [
    {
     "data": {
      "application/vnd.jupyter.widget-view+json": {
       "model_id": "4d5030b4f7e1441cb6f59ec52f77a7c5",
       "version_major": 2,
       "version_minor": 0
      },
      "text/plain": [
       "Pandas Apply:   0%|          | 0/7500 [00:00<?, ?it/s]"
      ]
     },
     "metadata": {},
     "output_type": "display_data"
    },
    {
     "data": {
      "text/plain": [
       "0    [okay, 'm, big, video, game, buff, game, house...\n",
       "1    [premise, movie, tickling, imagination, quite,...\n",
       "2    [jim, carrey, back, much, role, played, mask, ...\n",
       "3    [read, several, mixed, review, several, downri...\n",
       "4    [warning, contain, spoilersopen, eyesif, seen,...\n",
       "Name: processed, dtype: object"
      ]
     },
     "execution_count": 8,
     "metadata": {},
     "output_type": "execute_result"
    }
   ],
   "source": [
    "def lowercasing(tokens):\n",
    "    return [token.lower() for token in tokens]\n",
    "data['processed']=data['processed'].swifter.apply(lowercasing)\n",
    "data.processed.head(5)"
   ]
  },
  {
   "cell_type": "code",
   "execution_count": 9,
   "id": "b00d1ed6-bc31-4b67-b20a-3bdd59a17291",
   "metadata": {},
   "outputs": [],
   "source": [
    "def lowlentok(tokens, min_length=3, max_length=1000):\n",
    "    return [token for token in tokens if min_length <= len(token) <= max_length]\n",
    "def remove_numerical_tokens(tokens):\n",
    "    return [token for token in tokens if not token.isdigit()]\n",
    "def additional_token_cleaning(tokens):\n",
    "    tokens = [re.sub(r'(.)\\1+', r'\\1\\1', token) for token in tokens]\n",
    "    tokens = [re.sub(r'\\{.*?\\}', '', token) for token in tokens]\n",
    "    return tokens"
   ]
  },
  {
   "cell_type": "code",
   "execution_count": 10,
   "id": "c1e30763-2ef5-4441-8daf-a85a1e48b559",
   "metadata": {},
   "outputs": [
    {
     "data": {
      "application/vnd.jupyter.widget-view+json": {
       "model_id": "03660f832d644b008d0befb157445996",
       "version_major": 2,
       "version_minor": 0
      },
      "text/plain": [
       "Pandas Apply:   0%|          | 0/7500 [00:00<?, ?it/s]"
      ]
     },
     "metadata": {},
     "output_type": "display_data"
    },
    {
     "data": {
      "text/plain": [
       "0    [okay, big, video, game, buff, game, house, de...\n",
       "1    [premise, movie, tickling, imagination, quite,...\n",
       "2    [jim, carrey, back, much, role, played, mask, ...\n",
       "3    [read, several, mixed, review, several, downri...\n",
       "4    [warning, contain, spoilersopen, eyesif, seen,...\n",
       "Name: processed, dtype: object"
      ]
     },
     "execution_count": 10,
     "metadata": {},
     "output_type": "execute_result"
    }
   ],
   "source": [
    "data['processed']=data['processed'].swifter.apply(lowlentok)\n",
    "data.processed.head(5)"
   ]
  },
  {
   "cell_type": "code",
   "execution_count": 11,
   "id": "5eaae2f3-3ce4-4c51-bb5b-2af6fee545a2",
   "metadata": {},
   "outputs": [
    {
     "data": {
      "application/vnd.jupyter.widget-view+json": {
       "model_id": "699ac5125984430bad038c82965f3f74",
       "version_major": 2,
       "version_minor": 0
      },
      "text/plain": [
       "Pandas Apply:   0%|          | 0/7500 [00:00<?, ?it/s]"
      ]
     },
     "metadata": {},
     "output_type": "display_data"
    },
    {
     "data": {
      "text/plain": [
       "0    [okay, big, video, game, buff, game, house, de...\n",
       "1    [premise, movie, tickling, imagination, quite,...\n",
       "2    [jim, carrey, back, much, role, played, mask, ...\n",
       "3    [read, several, mixed, review, several, downri...\n",
       "4    [warning, contain, spoilersopen, eyesif, seen,...\n",
       "Name: processed, dtype: object"
      ]
     },
     "execution_count": 11,
     "metadata": {},
     "output_type": "execute_result"
    }
   ],
   "source": [
    "data['processed']=data['processed'].swifter.apply(remove_numerical_tokens)\n",
    "data.processed.head(5)"
   ]
  },
  {
   "cell_type": "code",
   "execution_count": 12,
   "id": "ec12656f-16c4-4d02-99d5-d0e2ce2728fc",
   "metadata": {},
   "outputs": [
    {
     "data": {
      "application/vnd.jupyter.widget-view+json": {
       "model_id": "76f2b50c3a0a4b40b912c2fdada58895",
       "version_major": 2,
       "version_minor": 0
      },
      "text/plain": [
       "Pandas Apply:   0%|          | 0/7500 [00:00<?, ?it/s]"
      ]
     },
     "metadata": {},
     "output_type": "display_data"
    },
    {
     "data": {
      "text/plain": [
       "0    [okay, big, video, game, buff, game, house, de...\n",
       "1    [premise, movie, tickling, imagination, quite,...\n",
       "2    [jim, carrey, back, much, role, played, mask, ...\n",
       "3    [read, several, mixed, review, several, downri...\n",
       "4    [warning, contain, spoilersopen, eyesif, seen,...\n",
       "Name: processed, dtype: object"
      ]
     },
     "execution_count": 12,
     "metadata": {},
     "output_type": "execute_result"
    }
   ],
   "source": [
    "data['processed']=data['processed'].swifter.apply(additional_token_cleaning)\n",
    "data.processed.head(5)"
   ]
  },
  {
   "cell_type": "code",
   "execution_count": 13,
   "id": "160d21a0-32f1-4c80-b3a7-ea7a9d1d756d",
   "metadata": {},
   "outputs": [
    {
     "data": {
      "application/vnd.jupyter.widget-view+json": {
       "model_id": "ff6f485bb7664d88bfebe1cdcebf0799",
       "version_major": 2,
       "version_minor": 0
      },
      "text/plain": [
       "Pandas Apply:   0%|          | 0/7500 [00:00<?, ?it/s]"
      ]
     },
     "metadata": {},
     "output_type": "display_data"
    },
    {
     "data": {
      "text/plain": [
       "0    [okay, big, video, game, buff, game, house, de...\n",
       "1    [premise, movie, tickling, imagination, quite,...\n",
       "2    [jim, carrey, back, much, role, played, mask, ...\n",
       "3    [read, several, mixed, review, several, downri...\n",
       "4    [warning, contain, spoilersopen, eyesif, seen,...\n",
       "Name: processed, dtype: object"
      ]
     },
     "execution_count": 13,
     "metadata": {},
     "output_type": "execute_result"
    }
   ],
   "source": [
    "def removetwn(tokens):\n",
    "    tokens_without_numerals = [token for token in tokens if not any(char.isdigit() for char in token)]\n",
    "    return tokens_without_numerals\n",
    "\n",
    "data['processed']=data['processed'].swifter.apply(removetwn)\n",
    "data.processed.head(5)"
   ]
  },
  {
   "cell_type": "code",
   "execution_count": 14,
   "id": "72d5fdb8-5b8c-4ce1-83a5-24689822bc2c",
   "metadata": {},
   "outputs": [
    {
     "data": {
      "application/vnd.jupyter.widget-view+json": {
       "model_id": "cc5f2e52eed34f0c850d9631c52b8460",
       "version_major": 2,
       "version_minor": 0
      },
      "text/plain": [
       "Pandas Apply:   0%|          | 0/7500 [00:00<?, ?it/s]"
      ]
     },
     "metadata": {},
     "output_type": "display_data"
    },
    {
     "data": {
      "text/plain": [
       "0    [okay, big, video, game, buff, game, house, de...\n",
       "1    [premise, movie, tickling, imagination, quite,...\n",
       "2    [jim, carrey, back, much, role, played, mask, ...\n",
       "3    [read, several, mixed, review, several, downri...\n",
       "4    [warning, contain, spoilersopen, eyesif, seen,...\n",
       "Name: processed, dtype: object"
      ]
     },
     "execution_count": 14,
     "metadata": {},
     "output_type": "execute_result"
    }
   ],
   "source": [
    "def spl(tokens):\n",
    "    preprocessed_tokens = []\n",
    "    for token in tokens:\n",
    "        token = re.sub(r'[^a-zA-Z]', '', token)\n",
    "        if token:\n",
    "            preprocessed_tokens.append(token.lower()) \n",
    "    return preprocessed_tokens\n",
    "\n",
    "data['processed']=data['processed'].swifter.apply(spl)\n",
    "data.processed.head(5)"
   ]
  },
  {
   "cell_type": "code",
   "execution_count": 15,
   "id": "f07d6aec-4751-4562-94dc-f48411a53740",
   "metadata": {},
   "outputs": [
    {
     "name": "stderr",
     "output_type": "stream",
     "text": [
      "[nltk_data] Downloading package words to\n",
      "[nltk_data]     C:\\Users\\akvnr\\AppData\\Roaming\\nltk_data...\n",
      "[nltk_data]   Package words is already up-to-date!\n"
     ]
    },
    {
     "data": {
      "application/vnd.jupyter.widget-view+json": {
       "model_id": "e47f458564da42e183b13cefb5b5b099",
       "version_major": 2,
       "version_minor": 0
      },
      "text/plain": [
       "Pandas Apply:   0%|          | 0/7500 [00:00<?, ?it/s]"
      ]
     },
     "metadata": {},
     "output_type": "display_data"
    },
    {
     "data": {
      "application/vnd.jupyter.widget-view+json": {
       "model_id": "d12113c712ec4ee3856f783c9d4de691",
       "version_major": 2,
       "version_minor": 0
      },
      "text/plain": [
       "Pandas Apply:   0%|          | 0/7500 [00:00<?, ?it/s]"
      ]
     },
     "metadata": {},
     "output_type": "display_data"
    },
    {
     "data": {
      "text/plain": [
       "0    [big, video, game, buff, game, house, dead, re...\n",
       "1    [premise, movie, tickling, imagination, quite,...\n",
       "2    [back, much, role, mask, timid, guy, trying, g...\n",
       "3    [read, several, mixed, review, several, downri...\n",
       "4    [warning, contain, seen, film, plan, stop, rea...\n",
       "Name: processed, dtype: object"
      ]
     },
     "execution_count": 15,
     "metadata": {},
     "output_type": "execute_result"
    }
   ],
   "source": [
    "import nltk\n",
    "nltk.download('words')\n",
    "from nltk.corpus import words\n",
    "english_vocab = set(words.words())\n",
    "\n",
    "def removenet(tokens):\n",
    "    english_tokens = []\n",
    "    for token in tokens:\n",
    "        if token.lower() in english_vocab:\n",
    "            english_tokens.append(token)\n",
    "    return english_tokens\n",
    "\n",
    "data['processed']=data['processed'].swifter.apply(removenet)\n",
    "data['processed']=data['processed'].swifter.apply(lowlentok)\n",
    "data.processed.head(5)"
   ]
  },
  {
   "cell_type": "code",
   "execution_count": 16,
   "id": "9aecd26d-65e4-4f8d-9412-50e9adf4a334",
   "metadata": {},
   "outputs": [
    {
     "name": "stdout",
     "output_type": "stream",
     "text": [
      "Vocabulary: ['aback' 'abandon' 'abandoned' ... 'zoo' 'zoom' 'zorro']\n",
      "TF-IDF Vector:\n",
      " [[0.00013324 0.00070426 0.00186533 ... 0.00022841 0.00053295 0.00020937]]\n"
     ]
    }
   ],
   "source": [
    "from sklearn.feature_extraction.text import TfidfVectorizer\n",
    "\n",
    "tokenized_sentences = data.processed.tolist()\n",
    "tokenized_words = [token for sublist in tokenized_sentences for token in sublist]\n",
    "documents = [' '.join(tokenized_words)]\n",
    "vectorizer = TfidfVectorizer()\n",
    "tfidf_vector = vectorizer.fit_transform(documents)\n",
    "tfidf_vector_array = tfidf_vector.toarray()\n",
    "print(\"Vocabulary:\", vectorizer.get_feature_names_out())\n",
    "print(\"TF-IDF Vector:\\n\", tfidf_vector_array)"
   ]
  },
  {
   "cell_type": "code",
   "execution_count": 17,
   "id": "cafd5c95-9939-40ac-83ed-b5832456491e",
   "metadata": {},
   "outputs": [],
   "source": [
    "import numpy as np\n",
    "import pandas as pd\n",
    "from sklearn.feature_extraction.text import CountVectorizer\n",
    "from sklearn.decomposition import TruncatedSVD\n",
    "from sklearn.metrics.pairwise import cosine_similarity\n",
    "from sklearn.model_selection import GridSearchCV\n",
    "\n",
    "def preprocess_data(df):\n",
    "    tokenized_texts = [\" \".join(row) for row in df]\n",
    "    return tokenized_texts\n",
    "\n",
    "def train_lsa_model(tokenized_texts, n_components=10):\n",
    "    vectorizer = CountVectorizer()\n",
    "    X = vectorizer.fit_transform(tokenized_texts)\n",
    "    lsa_model = TruncatedSVD(n_components=n_components)\n",
    "    lsa_model.fit(X)\n",
    "    \n",
    "    return lsa_model, vectorizer\n",
    "\n",
    "def evaluate_lsa_model(lsa_model, vectorizer, tokenized_texts):\n",
    "    X_lsa = lsa_model.transform(vectorizer.transform(tokenized_texts))\n",
    "    similarity_matrix = cosine_similarity(X_lsa)\n",
    "    mean_similarity = np.mean(similarity_matrix)\n",
    "    \n",
    "    return -mean_similarity  \n",
    "\n",
    "from sklearn.metrics import make_scorer\n",
    "\n",
    "from sklearn.metrics import make_scorer\n",
    "\n",
    "def custom_scorer(estimator, X_test, y_true=None):\n",
    "    lsa_model, vectorizer = estimator\n",
    "    tokenized_texts = preprocess_data(df)\n",
    "    return evaluate_lsa_model(lsa_model, vectorizer, tokenized_texts)\n",
    "\n",
    "def optimize_lsa_with_grid_search(df, n_components_range=(5, 15), cv=5):\n",
    "    tokenized_texts = preprocess_data(df)\n",
    "    param_grid = {'n_components': range(n_components_range[0], n_components_range[1] + 1)}\n",
    "    vectorizer = CountVectorizer()\n",
    "    X = vectorizer.fit_transform(tokenized_texts)\n",
    "    \n",
    "    custom_scoring = make_scorer(custom_scorer, needs_proba=False, needs_threshold=False)\n",
    "    \n",
    "    grid_search = GridSearchCV(TruncatedSVD(), param_grid, cv=cv, scoring=custom_scoring)\n",
    "    grid_search.fit(X)\n",
    "    \n",
    "    best_n_components = grid_search.best_params_['n_components']\n",
    "    final_lsa_model, final_vectorizer = train_lsa_model(tokenized_texts, n_components=best_n_components)\n",
    "    \n",
    "    return final_lsa_model, final_vectorizer\n"
   ]
  },
  {
   "cell_type": "code",
   "execution_count": null,
   "id": "4a06768c-62e3-47e0-97bb-f2174fee25e5",
   "metadata": {},
   "outputs": [],
   "source": [
    "final_lsa_model, final_vectorizer = optimize_lsa_with_grid_search(data['processed'])"
   ]
  },
  {
   "cell_type": "code",
   "execution_count": 20,
   "id": "df0e20e6-88d4-471c-8da9-ef1acaac05b9",
   "metadata": {},
   "outputs": [
    {
     "name": "stdout",
     "output_type": "stream",
     "text": [
      "Best parameters found:\n",
      "Number of components: 5\n"
     ]
    }
   ],
   "source": [
    "print(\"Best parameters found:\")\n",
    "print(\"Number of components:\", final_lsa_model.n_components)"
   ]
  }
 ],
 "metadata": {
  "kernelspec": {
   "display_name": "Python 3 (ipykernel)",
   "language": "python",
   "name": "python3"
  },
  "language_info": {
   "codemirror_mode": {
    "name": "ipython",
    "version": 3
   },
   "file_extension": ".py",
   "mimetype": "text/x-python",
   "name": "python",
   "nbconvert_exporter": "python",
   "pygments_lexer": "ipython3",
   "version": "3.12.1"
  }
 },
 "nbformat": 4,
 "nbformat_minor": 5
}
